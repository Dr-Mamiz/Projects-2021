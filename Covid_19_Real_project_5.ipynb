{
  "nbformat": 4,
  "nbformat_minor": 0,
  "metadata": {
    "colab": {
      "name": "Covid-19.Real project #5.ipynb",
      "provenance": [],
      "authorship_tag": "ABX9TyPU+ocGF9V+gAZAtWrwH0RY",
      "include_colab_link": true
    },
    "kernelspec": {
      "name": "python3",
      "display_name": "Python 3"
    },
    "language_info": {
      "name": "python"
    }
  },
  "cells": [
    {
      "cell_type": "markdown",
      "metadata": {
        "id": "view-in-github",
        "colab_type": "text"
      },
      "source": [
        "<a href=\"https://colab.research.google.com/github/Dr-Mamiz/Projects-Data-Analysis/blob/main/Covid_19_Real_project_5.ipynb\" target=\"_parent\"><img src=\"https://colab.research.google.com/assets/colab-badge.svg\" alt=\"Open In Colab\"/></a>"
      ]
    },
    {
      "cell_type": "markdown",
      "metadata": {
        "id": "j3XBWB64htl3"
      },
      "source": [
        "In this project we use Python, a tiny data set sent by our client related to the Covid-19 pandemic is taken and analyzed in a very Easy To Understand (ETU) language. \n",
        "\n",
        "We start by cleaning our data. Tasks during this section include:\n",
        "- Drop NaN values from DataFrame\n",
        "- visualization\n",
        "\n",
        "Once we have cleaned up our data a bit, we move the data exploration section. In this section we explore, we  analyze and answer question\n",
        "# **TASK** \n",
        "\n",
        "-  Q. 1) Show the number of Confirmed, Deaths and Recovered cases in each Region.Also:\n",
        "-  Finding Pearson's Correlation Coefficient (Total case Confirmed VS Deaths)\n",
        "-  Finding Pearson's Correlation Coefficient (Total case Confirmed VS Recovered)\n",
        "-  Mean value of the column 'Deaths'\n",
        "-  Mean value of the column 'Recovered'\n",
        "-  Q. 2) Remove all the records where the Confirmed Cases is Less Than 10.\n",
        "-  Q. 3) In which Region, maximum number of Confirmed cases were recorded ?\n",
        "-  - Visualization.\n",
        "-  Q. 4) In which Region, minimum number of Deaths cases were recorded ?\n",
        "-  Q. 5) How many Confirmed, Deaths & Recovered cases were reported from USA till 29 April 2020 ?\n",
        "-  Q. 6-A ) Sort the entire data wrt No. of Confirmed cases in ascending order.\n",
        "-  Q. 6-B ) Sort the entire data wrt No. of Recovered cases in descending order.\n",
        "\n",
        "\n",
        "# Dataset: \n",
        "https://drive.google.com/file/d/1BTG4tZUmiTKwu1E7o_UmqAtMrguNrOoh/view\n"
      ]
    },
    {
      "cell_type": "code",
      "metadata": {
        "id": "tuecRi0EP_S2"
      },
      "source": [
        "# Import packages\n",
        "\n",
        "import pandas as pd\n",
        "import numpy as np\n",
        "import matplotlib.pyplot as plt\n",
        "import seaborn as sns"
      ],
      "execution_count": 1,
      "outputs": []
    },
    {
      "cell_type": "code",
      "metadata": {
        "id": "YgCnR-btRYJU"
      },
      "source": [
        "# Import dataset\n",
        "data_covid= pd.read_csv('/content/4. covid_19_data.csv')"
      ],
      "execution_count": 2,
      "outputs": []
    },
    {
      "cell_type": "code",
      "metadata": {
        "id": "Fj-kU6v3ReEw"
      },
      "source": [
        "# Copy of our dataset\n",
        "df=data_covid.copy()"
      ],
      "execution_count": 3,
      "outputs": []
    },
    {
      "cell_type": "code",
      "metadata": {
        "colab": {
          "base_uri": "https://localhost:8080/",
          "height": 206
        },
        "id": "tKZzwUI8Rm8Y",
        "outputId": "61e5d38f-a513-49d4-9113-664e4daf553e"
      },
      "source": [
        "df.head(5)"
      ],
      "execution_count": 4,
      "outputs": [
        {
          "output_type": "execute_result",
          "data": {
            "text/html": [
              "<div>\n",
              "<style scoped>\n",
              "    .dataframe tbody tr th:only-of-type {\n",
              "        vertical-align: middle;\n",
              "    }\n",
              "\n",
              "    .dataframe tbody tr th {\n",
              "        vertical-align: top;\n",
              "    }\n",
              "\n",
              "    .dataframe thead th {\n",
              "        text-align: right;\n",
              "    }\n",
              "</style>\n",
              "<table border=\"1\" class=\"dataframe\">\n",
              "  <thead>\n",
              "    <tr style=\"text-align: right;\">\n",
              "      <th></th>\n",
              "      <th>Date</th>\n",
              "      <th>State</th>\n",
              "      <th>Region</th>\n",
              "      <th>Confirmed</th>\n",
              "      <th>Deaths</th>\n",
              "      <th>Recovered</th>\n",
              "    </tr>\n",
              "  </thead>\n",
              "  <tbody>\n",
              "    <tr>\n",
              "      <th>0</th>\n",
              "      <td>4/29/2020</td>\n",
              "      <td>NaN</td>\n",
              "      <td>Afghanistan</td>\n",
              "      <td>1939</td>\n",
              "      <td>60</td>\n",
              "      <td>252</td>\n",
              "    </tr>\n",
              "    <tr>\n",
              "      <th>1</th>\n",
              "      <td>4/29/2020</td>\n",
              "      <td>NaN</td>\n",
              "      <td>Albania</td>\n",
              "      <td>766</td>\n",
              "      <td>30</td>\n",
              "      <td>455</td>\n",
              "    </tr>\n",
              "    <tr>\n",
              "      <th>2</th>\n",
              "      <td>4/29/2020</td>\n",
              "      <td>NaN</td>\n",
              "      <td>Algeria</td>\n",
              "      <td>3848</td>\n",
              "      <td>444</td>\n",
              "      <td>1702</td>\n",
              "    </tr>\n",
              "    <tr>\n",
              "      <th>3</th>\n",
              "      <td>4/29/2020</td>\n",
              "      <td>NaN</td>\n",
              "      <td>Andorra</td>\n",
              "      <td>743</td>\n",
              "      <td>42</td>\n",
              "      <td>423</td>\n",
              "    </tr>\n",
              "    <tr>\n",
              "      <th>4</th>\n",
              "      <td>4/29/2020</td>\n",
              "      <td>NaN</td>\n",
              "      <td>Angola</td>\n",
              "      <td>27</td>\n",
              "      <td>2</td>\n",
              "      <td>7</td>\n",
              "    </tr>\n",
              "  </tbody>\n",
              "</table>\n",
              "</div>"
            ],
            "text/plain": [
              "        Date State       Region  Confirmed  Deaths  Recovered\n",
              "0  4/29/2020   NaN  Afghanistan       1939      60        252\n",
              "1  4/29/2020   NaN      Albania        766      30        455\n",
              "2  4/29/2020   NaN      Algeria       3848     444       1702\n",
              "3  4/29/2020   NaN      Andorra        743      42        423\n",
              "4  4/29/2020   NaN       Angola         27       2          7"
            ]
          },
          "metadata": {},
          "execution_count": 4
        }
      ]
    },
    {
      "cell_type": "markdown",
      "metadata": {
        "id": "4_q3QSuMSFwi"
      },
      "source": [
        "Shape of our dataset (df)"
      ]
    },
    {
      "cell_type": "code",
      "metadata": {
        "colab": {
          "base_uri": "https://localhost:8080/"
        },
        "id": "uyEeoZ73SHXE",
        "outputId": "0d278950-594e-44c6-8877-442b97a0df55"
      },
      "source": [
        "df.shape\n"
      ],
      "execution_count": 5,
      "outputs": [
        {
          "output_type": "execute_result",
          "data": {
            "text/plain": [
              "(321, 6)"
            ]
          },
          "metadata": {},
          "execution_count": 5
        }
      ]
    },
    {
      "cell_type": "code",
      "metadata": {
        "colab": {
          "base_uri": "https://localhost:8080/"
        },
        "id": "z45TQSEwSRhc",
        "outputId": "678423bd-7886-48ba-df45-fed3f614efcd"
      },
      "source": [
        "# Detecting the missing values in our dataframe.\n",
        "df.isnull().sum()"
      ],
      "execution_count": 6,
      "outputs": [
        {
          "output_type": "execute_result",
          "data": {
            "text/plain": [
              "Date           0\n",
              "State        181\n",
              "Region         0\n",
              "Confirmed      0\n",
              "Deaths         0\n",
              "Recovered      0\n",
              "dtype: int64"
            ]
          },
          "metadata": {},
          "execution_count": 6
        }
      ]
    },
    {
      "cell_type": "code",
      "metadata": {
        "colab": {
          "base_uri": "https://localhost:8080/"
        },
        "id": "-LgW8F5PSZx7",
        "outputId": "a8d36312-5917-44c1-c599-65936fbe21fa"
      },
      "source": [
        "\n",
        "#The no of non-null values of each column\n",
        "df.count()"
      ],
      "execution_count": 13,
      "outputs": [
        {
          "output_type": "execute_result",
          "data": {
            "text/plain": [
              "Date         321\n",
              "State        140\n",
              "Region       321\n",
              "Confirmed    321\n",
              "Deaths       321\n",
              "Recovered    321\n",
              "dtype: int64"
            ]
          },
          "metadata": {},
          "execution_count": 13
        }
      ]
    },
    {
      "cell_type": "markdown",
      "metadata": {
        "id": "79HyaPnHSgPs"
      },
      "source": [
        "As we can see that the column 'State' has more than 50% of missing values so in our situation we'll just remove it from our dataframe."
      ]
    },
    {
      "cell_type": "code",
      "metadata": {
        "id": "jprKy2UQSzw5"
      },
      "source": [
        "# Removing the column 'State'\n",
        "df = df.drop('State', 1)\n"
      ],
      "execution_count": 14,
      "outputs": []
    },
    {
      "cell_type": "code",
      "metadata": {
        "colab": {
          "base_uri": "https://localhost:8080/",
          "height": 143
        },
        "id": "gxdfE6CsUlRK",
        "outputId": "30c4d8a6-f05e-42ad-ad6a-ce5adc40be39"
      },
      "source": [
        "# Checking our new dataframe\n",
        "df.head(3)"
      ],
      "execution_count": 15,
      "outputs": [
        {
          "output_type": "execute_result",
          "data": {
            "text/html": [
              "<div>\n",
              "<style scoped>\n",
              "    .dataframe tbody tr th:only-of-type {\n",
              "        vertical-align: middle;\n",
              "    }\n",
              "\n",
              "    .dataframe tbody tr th {\n",
              "        vertical-align: top;\n",
              "    }\n",
              "\n",
              "    .dataframe thead th {\n",
              "        text-align: right;\n",
              "    }\n",
              "</style>\n",
              "<table border=\"1\" class=\"dataframe\">\n",
              "  <thead>\n",
              "    <tr style=\"text-align: right;\">\n",
              "      <th></th>\n",
              "      <th>Date</th>\n",
              "      <th>Region</th>\n",
              "      <th>Confirmed</th>\n",
              "      <th>Deaths</th>\n",
              "      <th>Recovered</th>\n",
              "    </tr>\n",
              "  </thead>\n",
              "  <tbody>\n",
              "    <tr>\n",
              "      <th>0</th>\n",
              "      <td>4/29/2020</td>\n",
              "      <td>Afghanistan</td>\n",
              "      <td>1939</td>\n",
              "      <td>60</td>\n",
              "      <td>252</td>\n",
              "    </tr>\n",
              "    <tr>\n",
              "      <th>1</th>\n",
              "      <td>4/29/2020</td>\n",
              "      <td>Albania</td>\n",
              "      <td>766</td>\n",
              "      <td>30</td>\n",
              "      <td>455</td>\n",
              "    </tr>\n",
              "    <tr>\n",
              "      <th>2</th>\n",
              "      <td>4/29/2020</td>\n",
              "      <td>Algeria</td>\n",
              "      <td>3848</td>\n",
              "      <td>444</td>\n",
              "      <td>1702</td>\n",
              "    </tr>\n",
              "  </tbody>\n",
              "</table>\n",
              "</div>"
            ],
            "text/plain": [
              "        Date       Region  Confirmed  Deaths  Recovered\n",
              "0  4/29/2020  Afghanistan       1939      60        252\n",
              "1  4/29/2020      Albania        766      30        455\n",
              "2  4/29/2020      Algeria       3848     444       1702"
            ]
          },
          "metadata": {},
          "execution_count": 15
        }
      ]
    },
    {
      "cell_type": "code",
      "metadata": {
        "colab": {
          "base_uri": "https://localhost:8080/"
        },
        "id": "LXb58SbeUzbX",
        "outputId": "cd51697f-2bff-4677-8624-7e269424c603"
      },
      "source": [
        "df.isnull().sum()"
      ],
      "execution_count": 16,
      "outputs": [
        {
          "output_type": "execute_result",
          "data": {
            "text/plain": [
              "Date         0\n",
              "Region       0\n",
              "Confirmed    0\n",
              "Deaths       0\n",
              "Recovered    0\n",
              "dtype: int64"
            ]
          },
          "metadata": {},
          "execution_count": 16
        }
      ]
    },
    {
      "cell_type": "markdown",
      "metadata": {
        "id": "QaUB-QUOVfTg"
      },
      "source": [
        "#Analysing our dataset"
      ]
    },
    {
      "cell_type": "code",
      "metadata": {
        "colab": {
          "base_uri": "https://localhost:8080/"
        },
        "id": "INOFBgugVgl_",
        "outputId": "99486610-b54d-49da-aa70-7c27f3baeffc"
      },
      "source": [
        "df.dtypes"
      ],
      "execution_count": 17,
      "outputs": [
        {
          "output_type": "execute_result",
          "data": {
            "text/plain": [
              "Date         object\n",
              "Region       object\n",
              "Confirmed     int64\n",
              "Deaths        int64\n",
              "Recovered     int64\n",
              "dtype: object"
            ]
          },
          "metadata": {},
          "execution_count": 17
        }
      ]
    },
    {
      "cell_type": "markdown",
      "metadata": {
        "id": "MG4ZsUgrVro0"
      },
      "source": [
        "#                            **TASK**\n",
        "\n",
        "# Q. 1) Show the number of Confirmed, Deaths and Recovered cases in each Region.\n",
        "\n"
      ]
    },
    {
      "cell_type": "code",
      "metadata": {
        "colab": {
          "base_uri": "https://localhost:8080/",
          "height": 455
        },
        "id": "3CY-fNQJVv8g",
        "outputId": "53fd8c8c-6048-45ce-ff17-dc5cd9dea137"
      },
      "source": [
        "\n",
        "df.groupby('Region').sum()"
      ],
      "execution_count": 22,
      "outputs": [
        {
          "output_type": "execute_result",
          "data": {
            "text/html": [
              "<div>\n",
              "<style scoped>\n",
              "    .dataframe tbody tr th:only-of-type {\n",
              "        vertical-align: middle;\n",
              "    }\n",
              "\n",
              "    .dataframe tbody tr th {\n",
              "        vertical-align: top;\n",
              "    }\n",
              "\n",
              "    .dataframe thead th {\n",
              "        text-align: right;\n",
              "    }\n",
              "</style>\n",
              "<table border=\"1\" class=\"dataframe\">\n",
              "  <thead>\n",
              "    <tr style=\"text-align: right;\">\n",
              "      <th></th>\n",
              "      <th>Confirmed</th>\n",
              "      <th>Deaths</th>\n",
              "      <th>Recovered</th>\n",
              "    </tr>\n",
              "    <tr>\n",
              "      <th>Region</th>\n",
              "      <th></th>\n",
              "      <th></th>\n",
              "      <th></th>\n",
              "    </tr>\n",
              "  </thead>\n",
              "  <tbody>\n",
              "    <tr>\n",
              "      <th>Afghanistan</th>\n",
              "      <td>1939</td>\n",
              "      <td>60</td>\n",
              "      <td>252</td>\n",
              "    </tr>\n",
              "    <tr>\n",
              "      <th>Albania</th>\n",
              "      <td>766</td>\n",
              "      <td>30</td>\n",
              "      <td>455</td>\n",
              "    </tr>\n",
              "    <tr>\n",
              "      <th>Algeria</th>\n",
              "      <td>3848</td>\n",
              "      <td>444</td>\n",
              "      <td>1702</td>\n",
              "    </tr>\n",
              "    <tr>\n",
              "      <th>Andorra</th>\n",
              "      <td>743</td>\n",
              "      <td>42</td>\n",
              "      <td>423</td>\n",
              "    </tr>\n",
              "    <tr>\n",
              "      <th>Angola</th>\n",
              "      <td>27</td>\n",
              "      <td>2</td>\n",
              "      <td>7</td>\n",
              "    </tr>\n",
              "    <tr>\n",
              "      <th>...</th>\n",
              "      <td>...</td>\n",
              "      <td>...</td>\n",
              "      <td>...</td>\n",
              "    </tr>\n",
              "    <tr>\n",
              "      <th>West Bank and Gaza</th>\n",
              "      <td>344</td>\n",
              "      <td>2</td>\n",
              "      <td>71</td>\n",
              "    </tr>\n",
              "    <tr>\n",
              "      <th>Western Sahara</th>\n",
              "      <td>6</td>\n",
              "      <td>0</td>\n",
              "      <td>5</td>\n",
              "    </tr>\n",
              "    <tr>\n",
              "      <th>Yemen</th>\n",
              "      <td>6</td>\n",
              "      <td>0</td>\n",
              "      <td>1</td>\n",
              "    </tr>\n",
              "    <tr>\n",
              "      <th>Zambia</th>\n",
              "      <td>97</td>\n",
              "      <td>3</td>\n",
              "      <td>54</td>\n",
              "    </tr>\n",
              "    <tr>\n",
              "      <th>Zimbabwe</th>\n",
              "      <td>32</td>\n",
              "      <td>4</td>\n",
              "      <td>5</td>\n",
              "    </tr>\n",
              "  </tbody>\n",
              "</table>\n",
              "<p>187 rows × 3 columns</p>\n",
              "</div>"
            ],
            "text/plain": [
              "                    Confirmed  Deaths  Recovered\n",
              "Region                                          \n",
              "Afghanistan              1939      60        252\n",
              "Albania                   766      30        455\n",
              "Algeria                  3848     444       1702\n",
              "Andorra                   743      42        423\n",
              "Angola                     27       2          7\n",
              "...                       ...     ...        ...\n",
              "West Bank and Gaza        344       2         71\n",
              "Western Sahara              6       0          5\n",
              "Yemen                       6       0          1\n",
              "Zambia                     97       3         54\n",
              "Zimbabwe                   32       4          5\n",
              "\n",
              "[187 rows x 3 columns]"
            ]
          },
          "metadata": {},
          "execution_count": 22
        }
      ]
    },
    {
      "cell_type": "code",
      "metadata": {
        "colab": {
          "base_uri": "https://localhost:8080/"
        },
        "id": "aTY1rcwsnjHq",
        "outputId": "fc077f05-61e6-4b51-d246-9d02d04f2e06"
      },
      "source": [
        "#Finding Pearson's Correlation Coefficient (Total case Confirmed VS Deaths)\n",
        "df['Confirmed'].corr(df['Deaths'])"
      ],
      "execution_count": 27,
      "outputs": [
        {
          "output_type": "execute_result",
          "data": {
            "text/plain": [
              "0.9072936356094397"
            ]
          },
          "metadata": {},
          "execution_count": 27
        }
      ]
    },
    {
      "cell_type": "markdown",
      "metadata": {
        "id": "2Gnw7J-7pkwM"
      },
      "source": [
        "A very high correlation between relative Total case Confirmed VS Deaths"
      ]
    },
    {
      "cell_type": "code",
      "metadata": {
        "colab": {
          "base_uri": "https://localhost:8080/"
        },
        "id": "a8EmSYyWzX22",
        "outputId": "9e7f2df2-30b4-4304-ab2a-c255e420b9fa"
      },
      "source": [
        "#Finding Pearson's Correlation Coefficient (Total case Confirmed VS Recovered)\n",
        "df['Confirmed'].corr(df['Recovered'])"
      ],
      "execution_count": 36,
      "outputs": [
        {
          "output_type": "execute_result",
          "data": {
            "text/plain": [
              "0.5960078800637865"
            ]
          },
          "metadata": {},
          "execution_count": 36
        }
      ]
    },
    {
      "cell_type": "markdown",
      "metadata": {
        "id": "4m2Zd2QX1GWO"
      },
      "source": [
        "The correlation between Total case Confirmed & Recovered considered moderately correlated."
      ]
    },
    {
      "cell_type": "code",
      "metadata": {
        "colab": {
          "base_uri": "https://localhost:8080/"
        },
        "id": "cqC5cHID2cLq",
        "outputId": "66920b34-ab0f-4dfd-f15a-d5462e3c3ca8"
      },
      "source": [
        "# Mean value of the column 'Deaths'\n",
        "df['Deaths'].mean()\n"
      ],
      "execution_count": 44,
      "outputs": [
        {
          "output_type": "execute_result",
          "data": {
            "text/plain": [
              "709.1526479750779"
            ]
          },
          "metadata": {},
          "execution_count": 44
        }
      ]
    },
    {
      "cell_type": "code",
      "metadata": {
        "colab": {
          "base_uri": "https://localhost:8080/"
        },
        "id": "D1VQi9jQ4xmk",
        "outputId": "86b8934d-6f79-4a64-a7c8-184a357f0d82"
      },
      "source": [
        "# Mean value of the column 'Recovered'\n",
        "df['Recovered'].mean()"
      ],
      "execution_count": 45,
      "outputs": [
        {
          "output_type": "execute_result",
          "data": {
            "text/plain": [
              "3030.277258566978"
            ]
          },
          "metadata": {},
          "execution_count": 45
        }
      ]
    },
    {
      "cell_type": "markdown",
      "metadata": {
        "id": "F7rvO8lo47Z0"
      },
      "source": [
        "As we can see that the mean of Recovered much higher than the mean of Deaths ( almoset 4.3 times more)"
      ]
    },
    {
      "cell_type": "markdown",
      "metadata": {
        "id": "15-nGzxc-VbM"
      },
      "source": [
        "#Q. 2) Remove all the records where the Confirmed Cases is Less Than 10."
      ]
    },
    {
      "cell_type": "code",
      "metadata": {
        "colab": {
          "base_uri": "https://localhost:8080/",
          "height": 582
        },
        "id": "c5s7T15i-ZRI",
        "outputId": "f8cfaed0-fd55-4152-c80a-313e5f82afe1"
      },
      "source": [
        "# Instruction (Removing unwanted records)\n",
        "\n",
        "#Remove all the records where the Confirmed Cases is Less Than 10\n",
        "df[df['Confirmed']<10]"
      ],
      "execution_count": 48,
      "outputs": [
        {
          "output_type": "execute_result",
          "data": {
            "text/html": [
              "<div>\n",
              "<style scoped>\n",
              "    .dataframe tbody tr th:only-of-type {\n",
              "        vertical-align: middle;\n",
              "    }\n",
              "\n",
              "    .dataframe tbody tr th {\n",
              "        vertical-align: top;\n",
              "    }\n",
              "\n",
              "    .dataframe thead th {\n",
              "        text-align: right;\n",
              "    }\n",
              "</style>\n",
              "<table border=\"1\" class=\"dataframe\">\n",
              "  <thead>\n",
              "    <tr style=\"text-align: right;\">\n",
              "      <th></th>\n",
              "      <th>Date</th>\n",
              "      <th>Region</th>\n",
              "      <th>Confirmed</th>\n",
              "      <th>Deaths</th>\n",
              "      <th>Recovered</th>\n",
              "    </tr>\n",
              "  </thead>\n",
              "  <tbody>\n",
              "    <tr>\n",
              "      <th>18</th>\n",
              "      <td>4/29/2020</td>\n",
              "      <td>Bhutan</td>\n",
              "      <td>7</td>\n",
              "      <td>0</td>\n",
              "      <td>5</td>\n",
              "    </tr>\n",
              "    <tr>\n",
              "      <th>98</th>\n",
              "      <td>4/29/2020</td>\n",
              "      <td>MS Zaandam</td>\n",
              "      <td>9</td>\n",
              "      <td>2</td>\n",
              "      <td>0</td>\n",
              "    </tr>\n",
              "    <tr>\n",
              "      <th>105</th>\n",
              "      <td>4/29/2020</td>\n",
              "      <td>Mauritania</td>\n",
              "      <td>8</td>\n",
              "      <td>1</td>\n",
              "      <td>6</td>\n",
              "    </tr>\n",
              "    <tr>\n",
              "      <th>126</th>\n",
              "      <td>4/29/2020</td>\n",
              "      <td>Papua New Guinea</td>\n",
              "      <td>8</td>\n",
              "      <td>0</td>\n",
              "      <td>0</td>\n",
              "    </tr>\n",
              "    <tr>\n",
              "      <th>140</th>\n",
              "      <td>4/29/2020</td>\n",
              "      <td>Sao Tome and Principe</td>\n",
              "      <td>8</td>\n",
              "      <td>0</td>\n",
              "      <td>4</td>\n",
              "    </tr>\n",
              "    <tr>\n",
              "      <th>177</th>\n",
              "      <td>4/29/2020</td>\n",
              "      <td>Western Sahara</td>\n",
              "      <td>6</td>\n",
              "      <td>0</td>\n",
              "      <td>5</td>\n",
              "    </tr>\n",
              "    <tr>\n",
              "      <th>178</th>\n",
              "      <td>4/29/2020</td>\n",
              "      <td>Yemen</td>\n",
              "      <td>6</td>\n",
              "      <td>0</td>\n",
              "      <td>1</td>\n",
              "    </tr>\n",
              "    <tr>\n",
              "      <th>184</th>\n",
              "      <td>4/29/2020</td>\n",
              "      <td>UK</td>\n",
              "      <td>3</td>\n",
              "      <td>0</td>\n",
              "      <td>3</td>\n",
              "    </tr>\n",
              "    <tr>\n",
              "      <th>192</th>\n",
              "      <td>4/29/2020</td>\n",
              "      <td>Netherlands</td>\n",
              "      <td>5</td>\n",
              "      <td>0</td>\n",
              "      <td>0</td>\n",
              "    </tr>\n",
              "    <tr>\n",
              "      <th>194</th>\n",
              "      <td>4/29/2020</td>\n",
              "      <td>UK</td>\n",
              "      <td>6</td>\n",
              "      <td>1</td>\n",
              "      <td>3</td>\n",
              "    </tr>\n",
              "    <tr>\n",
              "      <th>203</th>\n",
              "      <td>4/29/2020</td>\n",
              "      <td>Canada</td>\n",
              "      <td>0</td>\n",
              "      <td>1</td>\n",
              "      <td>0</td>\n",
              "    </tr>\n",
              "    <tr>\n",
              "      <th>272</th>\n",
              "      <td>4/29/2020</td>\n",
              "      <td>Canada</td>\n",
              "      <td>5</td>\n",
              "      <td>0</td>\n",
              "      <td>0</td>\n",
              "    </tr>\n",
              "    <tr>\n",
              "      <th>284</th>\n",
              "      <td>4/29/2020</td>\n",
              "      <td>Canada</td>\n",
              "      <td>0</td>\n",
              "      <td>0</td>\n",
              "      <td>20327</td>\n",
              "    </tr>\n",
              "    <tr>\n",
              "      <th>285</th>\n",
              "      <td>4/29/2020</td>\n",
              "      <td>US</td>\n",
              "      <td>0</td>\n",
              "      <td>0</td>\n",
              "      <td>120720</td>\n",
              "    </tr>\n",
              "    <tr>\n",
              "      <th>288</th>\n",
              "      <td>4/29/2020</td>\n",
              "      <td>France</td>\n",
              "      <td>6</td>\n",
              "      <td>0</td>\n",
              "      <td>6</td>\n",
              "    </tr>\n",
              "    <tr>\n",
              "      <th>289</th>\n",
              "      <td>4/29/2020</td>\n",
              "      <td>France</td>\n",
              "      <td>1</td>\n",
              "      <td>0</td>\n",
              "      <td>0</td>\n",
              "    </tr>\n",
              "    <tr>\n",
              "      <th>305</th>\n",
              "      <td>4/29/2020</td>\n",
              "      <td>Mainland China</td>\n",
              "      <td>1</td>\n",
              "      <td>0</td>\n",
              "      <td>1</td>\n",
              "    </tr>\n",
              "  </tbody>\n",
              "</table>\n",
              "</div>"
            ],
            "text/plain": [
              "          Date                 Region  Confirmed  Deaths  Recovered\n",
              "18   4/29/2020                 Bhutan          7       0          5\n",
              "98   4/29/2020             MS Zaandam          9       2          0\n",
              "105  4/29/2020             Mauritania          8       1          6\n",
              "126  4/29/2020       Papua New Guinea          8       0          0\n",
              "140  4/29/2020  Sao Tome and Principe          8       0          4\n",
              "177  4/29/2020         Western Sahara          6       0          5\n",
              "178  4/29/2020                  Yemen          6       0          1\n",
              "184  4/29/2020                     UK          3       0          3\n",
              "192  4/29/2020            Netherlands          5       0          0\n",
              "194  4/29/2020                     UK          6       1          3\n",
              "203  4/29/2020                 Canada          0       1          0\n",
              "272  4/29/2020                 Canada          5       0          0\n",
              "284  4/29/2020                 Canada          0       0      20327\n",
              "285  4/29/2020                     US          0       0     120720\n",
              "288  4/29/2020                 France          6       0          6\n",
              "289  4/29/2020                 France          1       0          0\n",
              "305  4/29/2020         Mainland China          1       0          1"
            ]
          },
          "metadata": {},
          "execution_count": 48
        }
      ]
    },
    {
      "cell_type": "markdown",
      "metadata": {
        "id": "t1LmegnT_ieR"
      },
      "source": [
        "#Q. 3) In which Region, maximum number of Confirmed cases were recorded ?"
      ]
    },
    {
      "cell_type": "code",
      "metadata": {
        "colab": {
          "base_uri": "https://localhost:8080/"
        },
        "id": "0q_WWfLP_lLk",
        "outputId": "b896e1ab-f515-4d5d-f27b-7ee73c70e7fc"
      },
      "source": [
        "# Finding the region where the MAX Confirmed cases were recorded\n",
        "df.groupby(['Region'])['Confirmed'].max().sort_values(ascending= False).head(10)"
      ],
      "execution_count": 53,
      "outputs": [
        {
          "output_type": "execute_result",
          "data": {
            "text/plain": [
              "Region\n",
              "US         299691\n",
              "Spain      236899\n",
              "Italy      203591\n",
              "UK         165221\n",
              "France     165093\n",
              "Germany    161539\n",
              "Turkey     117589\n",
              "Russia      99399\n",
              "Iran        93657\n",
              "Brazil      79685\n",
              "Name: Confirmed, dtype: int64"
            ]
          },
          "metadata": {},
          "execution_count": 53
        }
      ]
    },
    {
      "cell_type": "markdown",
      "metadata": {
        "id": "0kT2-4q5Bb2O"
      },
      "source": [
        "the first three regions where the MAX Confirmed cases were recorded are: USA with 299691 confirmations then Spain and Italy with 236899 and 203591."
      ]
    },
    {
      "cell_type": "code",
      "metadata": {
        "colab": {
          "base_uri": "https://localhost:8080/",
          "height": 334
        },
        "id": "Iv5mw0XtAcAJ",
        "outputId": "f99c47a2-9547-4cd8-daf3-fa79f9c2cc4f"
      },
      "source": [
        "# Visualization.\n",
        "df.groupby(['Region'])['Confirmed'].max().sort_values(ascending= False).head(10).plot(kind='bar')"
      ],
      "execution_count": 54,
      "outputs": [
        {
          "output_type": "execute_result",
          "data": {
            "text/plain": [
              "<matplotlib.axes._subplots.AxesSubplot at 0x7f2ca605bfd0>"
            ]
          },
          "metadata": {},
          "execution_count": 54
        },
        {
          "output_type": "display_data",
          "data": {
            "image/png": "[encoded data removed]",
            "text/plain": [
              "<Figure size 432x288 with 1 Axes>"
            ]
          },
          "metadata": {
            "needs_background": "light"
          }
        }
      ]
    },
    {
      "cell_type": "markdown",
      "metadata": {
        "id": "ijVc3DY7Cmnd"
      },
      "source": [
        "Here a Visualization 'bar' for the 10 MAX records Covid-19 by region."
      ]
    },
    {
      "cell_type": "markdown",
      "metadata": {
        "id": "c4vp5QqlDAkP"
      },
      "source": [
        "#-  Q. 4) In which Region, minimum number of Deaths cases were recorded ?\n"
      ]
    },
    {
      "cell_type": "code",
      "metadata": {
        "colab": {
          "base_uri": "https://localhost:8080/",
          "height": 347
        },
        "id": "GgvRqArrDVoJ",
        "outputId": "ba85b1bb-bb4d-4a01-8175-aa97fc261a42"
      },
      "source": [
        "df.groupby(['Region'])['Deaths'].min().sort_values(ascending= False).head(10).plot(kind='bar')"
      ],
      "execution_count": 60,
      "outputs": [
        {
          "output_type": "execute_result",
          "data": {
            "text/plain": [
              "<matplotlib.axes._subplots.AxesSubplot at 0x7f2ca6120310>"
            ]
          },
          "metadata": {},
          "execution_count": 60
        },
        {
          "output_type": "display_data",
          "data": {
            "image/png": "[encoded data removed]",
            "text/plain": [
              "<Figure size 432x288 with 1 Axes>"
            ]
          },
          "metadata": {
            "needs_background": "light"
          }
        }
      ]
    },
    {
      "cell_type": "markdown",
      "metadata": {
        "id": "6p3Pfc6gDz-P"
      },
      "source": [
        "Switzerland has the minimum death caused by the Covid-19."
      ]
    },
    {
      "cell_type": "markdown",
      "metadata": {
        "id": "DIN5ucK0EPK5"
      },
      "source": [
        "# Q. 5) How many Confirmed, Deaths & Recovered cases were reported from USA till 29 April 2020 ?"
      ]
    },
    {
      "cell_type": "markdown",
      "metadata": {
        "id": "LNYdbHxkNYcP"
      },
      "source": [
        "since 29 April 2020 is only one date that we have in our dataset, so we have just to extract the numbers needed for USA"
      ]
    },
    {
      "cell_type": "code",
      "metadata": {
        "colab": {
          "base_uri": "https://localhost:8080/"
        },
        "id": "huiOA4YSO0_j",
        "outputId": "2c6ed568-acb1-4b83-a422-ec47c69161fb"
      },
      "source": [
        "df[df.Region == 'US'].sum()"
      ],
      "execution_count": 76,
      "outputs": [
        {
          "output_type": "execute_result",
          "data": {
            "text/plain": [
              "Date         4/29/20204/29/20204/29/20204/29/20204/29/20204...\n",
              "Region       USUSUSUSUSUSUSUSUSUSUSUSUSUSUSUSUSUSUSUSUSUSUS...\n",
              "Confirmed                                              1039909\n",
              "Deaths                                                   60967\n",
              "Recovered                                               120720\n",
              "dtype: object"
            ]
          },
          "metadata": {},
          "execution_count": 76
        }
      ]
    },
    {
      "cell_type": "code",
      "metadata": {
        "colab": {
          "base_uri": "https://localhost:8080/"
        },
        "id": "7rDYLYLQEd0b",
        "outputId": "f20f8453-28fe-4128-9858-520977fecead"
      },
      "source": [
        "df[df['Region'].isin(['US'])].sum()"
      ],
      "execution_count": 72,
      "outputs": [
        {
          "output_type": "execute_result",
          "data": {
            "text/plain": [
              "Date         4/29/20204/29/20204/29/20204/29/20204/29/20204...\n",
              "Region       USUSUSUSUSUSUSUSUSUSUSUSUSUSUSUSUSUSUSUSUSUSUS...\n",
              "Confirmed                                              1039909\n",
              "Deaths                                                   60967\n",
              "Recovered                                               120720\n",
              "dtype: object"
            ]
          },
          "metadata": {},
          "execution_count": 72
        }
      ]
    },
    {
      "cell_type": "markdown",
      "metadata": {
        "id": "h26sZeK8SS3g"
      },
      "source": [
        "- Confirmed cases in USA : 1039909\n",
        "- Deaths in USA :  60967\n",
        "- Recovered  in USA : 120720"
      ]
    },
    {
      "cell_type": "markdown",
      "metadata": {
        "id": "vlAHGYA2SPQ4"
      },
      "source": [
        "# Q. 6-A ) Sort the entire data wrt No. of Confirmed cases in ascending order."
      ]
    },
    {
      "cell_type": "code",
      "metadata": {
        "colab": {
          "base_uri": "https://localhost:8080/",
          "height": 423
        },
        "id": "jsB-HGMZUJdB",
        "outputId": "2aeea60d-75e4-4766-bf72-e38bd14b3902"
      },
      "source": [
        "#Sort the entire data df wrt No. of Confirmed cases in ascending order.\n",
        "df.sort_values(by = ['Confirmed'], ascending= True) "
      ],
      "execution_count": 89,
      "outputs": [
        {
          "output_type": "execute_result",
          "data": {
            "text/html": [
              "<div>\n",
              "<style scoped>\n",
              "    .dataframe tbody tr th:only-of-type {\n",
              "        vertical-align: middle;\n",
              "    }\n",
              "\n",
              "    .dataframe tbody tr th {\n",
              "        vertical-align: top;\n",
              "    }\n",
              "\n",
              "    .dataframe thead th {\n",
              "        text-align: right;\n",
              "    }\n",
              "</style>\n",
              "<table border=\"1\" class=\"dataframe\">\n",
              "  <thead>\n",
              "    <tr style=\"text-align: right;\">\n",
              "      <th></th>\n",
              "      <th>Date</th>\n",
              "      <th>Region</th>\n",
              "      <th>Confirmed</th>\n",
              "      <th>Deaths</th>\n",
              "      <th>Recovered</th>\n",
              "    </tr>\n",
              "  </thead>\n",
              "  <tbody>\n",
              "    <tr>\n",
              "      <th>285</th>\n",
              "      <td>4/29/2020</td>\n",
              "      <td>US</td>\n",
              "      <td>0</td>\n",
              "      <td>0</td>\n",
              "      <td>120720</td>\n",
              "    </tr>\n",
              "    <tr>\n",
              "      <th>284</th>\n",
              "      <td>4/29/2020</td>\n",
              "      <td>Canada</td>\n",
              "      <td>0</td>\n",
              "      <td>0</td>\n",
              "      <td>20327</td>\n",
              "    </tr>\n",
              "    <tr>\n",
              "      <th>203</th>\n",
              "      <td>4/29/2020</td>\n",
              "      <td>Canada</td>\n",
              "      <td>0</td>\n",
              "      <td>1</td>\n",
              "      <td>0</td>\n",
              "    </tr>\n",
              "    <tr>\n",
              "      <th>305</th>\n",
              "      <td>4/29/2020</td>\n",
              "      <td>Mainland China</td>\n",
              "      <td>1</td>\n",
              "      <td>0</td>\n",
              "      <td>1</td>\n",
              "    </tr>\n",
              "    <tr>\n",
              "      <th>289</th>\n",
              "      <td>4/29/2020</td>\n",
              "      <td>France</td>\n",
              "      <td>1</td>\n",
              "      <td>0</td>\n",
              "      <td>0</td>\n",
              "    </tr>\n",
              "    <tr>\n",
              "      <th>...</th>\n",
              "      <td>...</td>\n",
              "      <td>...</td>\n",
              "      <td>...</td>\n",
              "      <td>...</td>\n",
              "      <td>...</td>\n",
              "    </tr>\n",
              "    <tr>\n",
              "      <th>57</th>\n",
              "      <td>4/29/2020</td>\n",
              "      <td>France</td>\n",
              "      <td>165093</td>\n",
              "      <td>24087</td>\n",
              "      <td>48228</td>\n",
              "    </tr>\n",
              "    <tr>\n",
              "      <th>168</th>\n",
              "      <td>4/29/2020</td>\n",
              "      <td>UK</td>\n",
              "      <td>165221</td>\n",
              "      <td>26097</td>\n",
              "      <td>0</td>\n",
              "    </tr>\n",
              "    <tr>\n",
              "      <th>80</th>\n",
              "      <td>4/29/2020</td>\n",
              "      <td>Italy</td>\n",
              "      <td>203591</td>\n",
              "      <td>27682</td>\n",
              "      <td>71252</td>\n",
              "    </tr>\n",
              "    <tr>\n",
              "      <th>153</th>\n",
              "      <td>4/29/2020</td>\n",
              "      <td>Spain</td>\n",
              "      <td>236899</td>\n",
              "      <td>24275</td>\n",
              "      <td>132929</td>\n",
              "    </tr>\n",
              "    <tr>\n",
              "      <th>265</th>\n",
              "      <td>4/29/2020</td>\n",
              "      <td>US</td>\n",
              "      <td>299691</td>\n",
              "      <td>23477</td>\n",
              "      <td>0</td>\n",
              "    </tr>\n",
              "  </tbody>\n",
              "</table>\n",
              "<p>321 rows × 5 columns</p>\n",
              "</div>"
            ],
            "text/plain": [
              "          Date          Region  Confirmed  Deaths  Recovered\n",
              "285  4/29/2020              US          0       0     120720\n",
              "284  4/29/2020          Canada          0       0      20327\n",
              "203  4/29/2020          Canada          0       1          0\n",
              "305  4/29/2020  Mainland China          1       0          1\n",
              "289  4/29/2020          France          1       0          0\n",
              "..         ...             ...        ...     ...        ...\n",
              "57   4/29/2020          France     165093   24087      48228\n",
              "168  4/29/2020              UK     165221   26097          0\n",
              "80   4/29/2020           Italy     203591   27682      71252\n",
              "153  4/29/2020           Spain     236899   24275     132929\n",
              "265  4/29/2020              US     299691   23477          0\n",
              "\n",
              "[321 rows x 5 columns]"
            ]
          },
          "metadata": {},
          "execution_count": 89
        }
      ]
    },
    {
      "cell_type": "markdown",
      "metadata": {
        "id": "Z_c0lItoWBKo"
      },
      "source": [
        "We can also asort the dataframe with duplicated Region."
      ]
    },
    {
      "cell_type": "code",
      "metadata": {
        "id": "C6BW9uRIWLP2"
      },
      "source": [
        "# Creation df1 withoun duplicated region\n",
        "df1=df.groupby('Region').sum()"
      ],
      "execution_count": 87,
      "outputs": []
    },
    {
      "cell_type": "code",
      "metadata": {
        "colab": {
          "base_uri": "https://localhost:8080/",
          "height": 455
        },
        "id": "ievVfb1VWXK4",
        "outputId": "2a424242-53a4-44e4-c0fd-866339fb0692"
      },
      "source": [
        "# Sort the entire data df1 wrt No. of Confirmed cases in ascending order.\n",
        "df1.sort_values(by = ['Confirmed'], ascending= True) "
      ],
      "execution_count": 88,
      "outputs": [
        {
          "output_type": "execute_result",
          "data": {
            "text/html": [
              "<div>\n",
              "<style scoped>\n",
              "    .dataframe tbody tr th:only-of-type {\n",
              "        vertical-align: middle;\n",
              "    }\n",
              "\n",
              "    .dataframe tbody tr th {\n",
              "        vertical-align: top;\n",
              "    }\n",
              "\n",
              "    .dataframe thead th {\n",
              "        text-align: right;\n",
              "    }\n",
              "</style>\n",
              "<table border=\"1\" class=\"dataframe\">\n",
              "  <thead>\n",
              "    <tr style=\"text-align: right;\">\n",
              "      <th></th>\n",
              "      <th>Confirmed</th>\n",
              "      <th>Deaths</th>\n",
              "      <th>Recovered</th>\n",
              "    </tr>\n",
              "    <tr>\n",
              "      <th>Region</th>\n",
              "      <th></th>\n",
              "      <th></th>\n",
              "      <th></th>\n",
              "    </tr>\n",
              "  </thead>\n",
              "  <tbody>\n",
              "    <tr>\n",
              "      <th>Yemen</th>\n",
              "      <td>6</td>\n",
              "      <td>0</td>\n",
              "      <td>1</td>\n",
              "    </tr>\n",
              "    <tr>\n",
              "      <th>Western Sahara</th>\n",
              "      <td>6</td>\n",
              "      <td>0</td>\n",
              "      <td>5</td>\n",
              "    </tr>\n",
              "    <tr>\n",
              "      <th>Bhutan</th>\n",
              "      <td>7</td>\n",
              "      <td>0</td>\n",
              "      <td>5</td>\n",
              "    </tr>\n",
              "    <tr>\n",
              "      <th>Papua New Guinea</th>\n",
              "      <td>8</td>\n",
              "      <td>0</td>\n",
              "      <td>0</td>\n",
              "    </tr>\n",
              "    <tr>\n",
              "      <th>Sao Tome and Principe</th>\n",
              "      <td>8</td>\n",
              "      <td>0</td>\n",
              "      <td>4</td>\n",
              "    </tr>\n",
              "    <tr>\n",
              "      <th>...</th>\n",
              "      <td>...</td>\n",
              "      <td>...</td>\n",
              "      <td>...</td>\n",
              "    </tr>\n",
              "    <tr>\n",
              "      <th>UK</th>\n",
              "      <td>166441</td>\n",
              "      <td>26166</td>\n",
              "      <td>857</td>\n",
              "    </tr>\n",
              "    <tr>\n",
              "      <th>France</th>\n",
              "      <td>166543</td>\n",
              "      <td>24121</td>\n",
              "      <td>49118</td>\n",
              "    </tr>\n",
              "    <tr>\n",
              "      <th>Italy</th>\n",
              "      <td>203591</td>\n",
              "      <td>27682</td>\n",
              "      <td>71252</td>\n",
              "    </tr>\n",
              "    <tr>\n",
              "      <th>Spain</th>\n",
              "      <td>236899</td>\n",
              "      <td>24275</td>\n",
              "      <td>132929</td>\n",
              "    </tr>\n",
              "    <tr>\n",
              "      <th>US</th>\n",
              "      <td>1039909</td>\n",
              "      <td>60967</td>\n",
              "      <td>120720</td>\n",
              "    </tr>\n",
              "  </tbody>\n",
              "</table>\n",
              "<p>187 rows × 3 columns</p>\n",
              "</div>"
            ],
            "text/plain": [
              "                       Confirmed  Deaths  Recovered\n",
              "Region                                             \n",
              "Yemen                          6       0          1\n",
              "Western Sahara                 6       0          5\n",
              "Bhutan                         7       0          5\n",
              "Papua New Guinea               8       0          0\n",
              "Sao Tome and Principe          8       0          4\n",
              "...                          ...     ...        ...\n",
              "UK                        166441   26166        857\n",
              "France                    166543   24121      49118\n",
              "Italy                     203591   27682      71252\n",
              "Spain                     236899   24275     132929\n",
              "US                       1039909   60967     120720\n",
              "\n",
              "[187 rows x 3 columns]"
            ]
          },
          "metadata": {},
          "execution_count": 88
        }
      ]
    },
    {
      "cell_type": "markdown",
      "metadata": {
        "id": "Y59gEbkSWrBk"
      },
      "source": [
        "##Q. 6-B ) Sort the entire data wrt No. of Recovered cases in descending order."
      ]
    },
    {
      "cell_type": "code",
      "metadata": {
        "id": "U5nIPysbWtFp"
      },
      "source": [
        "# We use df1 to Sort the entire data wrt No. of Recovered cases in descending order."
      ],
      "execution_count": null,
      "outputs": []
    },
    {
      "cell_type": "code",
      "metadata": {
        "colab": {
          "base_uri": "https://localhost:8080/",
          "height": 455
        },
        "id": "eb7XuRpaW3wb",
        "outputId": "0fbcff3f-d72d-4d5e-d6b2-aac0a2a0fb18"
      },
      "source": [
        "df1.sort_values(by = ['Recovered'], ascending= False) "
      ],
      "execution_count": 91,
      "outputs": [
        {
          "output_type": "execute_result",
          "data": {
            "text/html": [
              "<div>\n",
              "<style scoped>\n",
              "    .dataframe tbody tr th:only-of-type {\n",
              "        vertical-align: middle;\n",
              "    }\n",
              "\n",
              "    .dataframe tbody tr th {\n",
              "        vertical-align: top;\n",
              "    }\n",
              "\n",
              "    .dataframe thead th {\n",
              "        text-align: right;\n",
              "    }\n",
              "</style>\n",
              "<table border=\"1\" class=\"dataframe\">\n",
              "  <thead>\n",
              "    <tr style=\"text-align: right;\">\n",
              "      <th></th>\n",
              "      <th>Confirmed</th>\n",
              "      <th>Deaths</th>\n",
              "      <th>Recovered</th>\n",
              "    </tr>\n",
              "    <tr>\n",
              "      <th>Region</th>\n",
              "      <th></th>\n",
              "      <th></th>\n",
              "      <th></th>\n",
              "    </tr>\n",
              "  </thead>\n",
              "  <tbody>\n",
              "    <tr>\n",
              "      <th>Spain</th>\n",
              "      <td>236899</td>\n",
              "      <td>24275</td>\n",
              "      <td>132929</td>\n",
              "    </tr>\n",
              "    <tr>\n",
              "      <th>US</th>\n",
              "      <td>1039909</td>\n",
              "      <td>60967</td>\n",
              "      <td>120720</td>\n",
              "    </tr>\n",
              "    <tr>\n",
              "      <th>Germany</th>\n",
              "      <td>161539</td>\n",
              "      <td>6467</td>\n",
              "      <td>120400</td>\n",
              "    </tr>\n",
              "    <tr>\n",
              "      <th>Mainland China</th>\n",
              "      <td>82862</td>\n",
              "      <td>4633</td>\n",
              "      <td>77610</td>\n",
              "    </tr>\n",
              "    <tr>\n",
              "      <th>Iran</th>\n",
              "      <td>93657</td>\n",
              "      <td>5957</td>\n",
              "      <td>73791</td>\n",
              "    </tr>\n",
              "    <tr>\n",
              "      <th>...</th>\n",
              "      <td>...</td>\n",
              "      <td>...</td>\n",
              "      <td>...</td>\n",
              "    </tr>\n",
              "    <tr>\n",
              "      <th>Cabo Verde</th>\n",
              "      <td>114</td>\n",
              "      <td>1</td>\n",
              "      <td>2</td>\n",
              "    </tr>\n",
              "    <tr>\n",
              "      <th>Yemen</th>\n",
              "      <td>6</td>\n",
              "      <td>0</td>\n",
              "      <td>1</td>\n",
              "    </tr>\n",
              "    <tr>\n",
              "      <th>South Sudan</th>\n",
              "      <td>34</td>\n",
              "      <td>0</td>\n",
              "      <td>0</td>\n",
              "    </tr>\n",
              "    <tr>\n",
              "      <th>Papua New Guinea</th>\n",
              "      <td>8</td>\n",
              "      <td>0</td>\n",
              "      <td>0</td>\n",
              "    </tr>\n",
              "    <tr>\n",
              "      <th>MS Zaandam</th>\n",
              "      <td>9</td>\n",
              "      <td>2</td>\n",
              "      <td>0</td>\n",
              "    </tr>\n",
              "  </tbody>\n",
              "</table>\n",
              "<p>187 rows × 3 columns</p>\n",
              "</div>"
            ],
            "text/plain": [
              "                  Confirmed  Deaths  Recovered\n",
              "Region                                        \n",
              "Spain                236899   24275     132929\n",
              "US                  1039909   60967     120720\n",
              "Germany              161539    6467     120400\n",
              "Mainland China        82862    4633      77610\n",
              "Iran                  93657    5957      73791\n",
              "...                     ...     ...        ...\n",
              "Cabo Verde              114       1          2\n",
              "Yemen                     6       0          1\n",
              "South Sudan              34       0          0\n",
              "Papua New Guinea          8       0          0\n",
              "MS Zaandam                9       2          0\n",
              "\n",
              "[187 rows x 3 columns]"
            ]
          },
          "metadata": {},
          "execution_count": 91
        }
      ]
    }
  ]
}