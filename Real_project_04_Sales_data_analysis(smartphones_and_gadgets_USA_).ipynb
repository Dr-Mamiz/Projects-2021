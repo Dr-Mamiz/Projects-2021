{
  "nbformat": 4,
  "nbformat_minor": 0,
  "metadata": {
    "colab": {
      "name": "Real project #04 -Sales data analysis(smartphones and gadgets*USA*).ipynb",
      "provenance": [],
      "authorship_tag": "ABX9TyMppZrfGyzA2S8MiOY1JTv8",
      "include_colab_link": true
    },
    "kernelspec": {
      "name": "python3",
      "display_name": "Python 3"
    },
    "language_info": {
      "name": "python"
    }
  },
  "cells": [
    {
      "cell_type": "markdown",
      "metadata": {
        "id": "view-in-github",
        "colab_type": "text"
      },
      "source": [
        "<a href=\"https://colab.research.google.com/github/Dr-Mamiz/Projects-Data-Analysis/blob/main/Real_project_04_Sales_data_analysis(smartphones_and_gadgets_USA_).ipynb\" target=\"_parent\"><img src=\"https://colab.research.google.com/assets/colab-badge.svg\" alt=\"Open In Colab\"/></a>"
      ]
    },
    {
      "cell_type": "markdown",
      "metadata": {
        "id": "imTXvyNn-Hwg"
      },
      "source": [
        "analyzing the sales of a company that sells smartphones and gadgets.\n",
        "\n",
        "for our data analysis we will be based on monthly data.\n",
        "\n",
        "                   **TASK**\n",
        "Before to answer the questions, since our dataset is a zip file.\n",
        "we've to : \n",
        "\n",
        "*   Get a list of all archived file names from the zip.\n",
        "*   Unzipping the zip file.\n",
        "\n",
        "*   Creating a path.\n",
        "*   CREATING A NEW DATASET EMPTY 'df'.\n",
        "*   CONCATENATE all files in our dataset df.\n",
        "*   Convert our dataset \" df\" into CSV file.\n",
        "*   Exploring the dataset.\n",
        "*   Cleaning the dataset.\n",
        "\n",
        "\n",
        "Task given by the company:\n",
        "1.   What month did we have the best turnover?\n",
        "2.   In which city do we have the most orders?.\n",
        "3.   When should we run an advertising campaign to have more sales?.\n",
        "4.   Which product sells the most? and why?.\n",
        "\n",
        "\n",
        "\n",
        "Dataset File:  https://drive.google.com/file/d/1V5ynhbdGb3O-cllpy1Y3VSnFhtpXo_St/view\n",
        "\n",
        "\n"
      ]
    },
    {
      "cell_type": "code",
      "metadata": {
        "id": "ObSCn-kf-LWX"
      },
      "source": [
        "# Import packages\n",
        "import os\n",
        "import pandas as pd\n",
        "import numpy as np\n",
        "import matplotlib.pyplot as plt\n",
        "import seaborn as sns\n",
        "from zipfile import ZipFile"
      ],
      "execution_count": 2,
      "outputs": []
    },
    {
      "cell_type": "markdown",
      "metadata": {
        "id": "OT4GJFxxCPT7"
      },
      "source": [
        "Get a list of all archived file names from the zip\n"
      ]
    },
    {
      "cell_type": "code",
      "metadata": {
        "colab": {
          "base_uri": "https://localhost:8080/"
        },
        "id": "GKmnTNJuCZad",
        "outputId": "4cc612ce-0516-468b-c004-893173c5e326"
      },
      "source": [
        "#Liste of the csv's files in the zip file.\n",
        "file_name='/content/Sales_Data.zip'\n",
        "z=ZipFile(file_name)     \n",
        "print(list(filter(lambda x:x.endswith('.csv'), z.namelist())))"
      ],
      "execution_count": 3,
      "outputs": [
        {
          "output_type": "stream",
          "name": "stdout",
          "text": [
            "['Sales_Data/Sales_December_2019.csv', '__MACOSX/Sales_Data/._Sales_December_2019.csv', 'Sales_Data/Sales_April_2019.csv', '__MACOSX/Sales_Data/._Sales_April_2019.csv', 'Sales_Data/Sales_February_2019.csv', '__MACOSX/Sales_Data/._Sales_February_2019.csv', 'Sales_Data/Sales_March_2019.csv', '__MACOSX/Sales_Data/._Sales_March_2019.csv', 'Sales_Data/Sales_August_2019.csv', '__MACOSX/Sales_Data/._Sales_August_2019.csv', 'Sales_Data/Sales_May_2019.csv', '__MACOSX/Sales_Data/._Sales_May_2019.csv', 'Sales_Data/Sales_November_2019.csv', '__MACOSX/Sales_Data/._Sales_November_2019.csv', 'Sales_Data/Sales_October_2019.csv', '__MACOSX/Sales_Data/._Sales_October_2019.csv', 'Sales_Data/Sales_January_2019.csv', '__MACOSX/Sales_Data/._Sales_January_2019.csv', 'Sales_Data/Sales_September_2019.csv', '__MACOSX/Sales_Data/._Sales_September_2019.csv', 'Sales_Data/Sales_July_2019.csv', '__MACOSX/Sales_Data/._Sales_July_2019.csv', 'Sales_Data/Sales_June_2019.csv', '__MACOSX/Sales_Data/._Sales_June_2019.csv']\n"
          ]
        }
      ]
    },
    {
      "cell_type": "code",
      "metadata": {
        "colab": {
          "base_uri": "https://localhost:8080/"
        },
        "id": "MREZ3c7iCf3M",
        "outputId": "3d1cfe56-c26d-4eee-9a91-2eccb207b571"
      },
      "source": [
        "# Unzipping.\n",
        "file='/content/Sales_Data.zip'\n",
        "with ZipFile(file,'r') as zip:\n",
        "  zip.printdir()\n",
        "  print('prossessing......')\n",
        "  zip.extractall()"
      ],
      "execution_count": 4,
      "outputs": [
        {
          "output_type": "stream",
          "name": "stdout",
          "text": [
            "File Name                                             Modified             Size\n",
            "Sales_Data/                                    2021-09-09 11:46:10            0\n",
            "__MACOSX/._Sales_Data                          2021-09-09 11:46:10          212\n",
            "Sales_Data/Sales_December_2019.csv             2020-09-05 10:39:12      2181642\n",
            "__MACOSX/Sales_Data/._Sales_December_2019.csv  2020-09-05 10:39:12          212\n",
            "Sales_Data/.DS_Store                           2021-09-09 11:46:10         6148\n",
            "__MACOSX/Sales_Data/._.DS_Store                2021-09-09 11:46:10          120\n",
            "Sales_Data/Sales_April_2019.csv                2020-09-05 10:39:12      1595953\n",
            "__MACOSX/Sales_Data/._Sales_April_2019.csv     2020-09-05 10:39:12          212\n",
            "Sales_Data/Sales_February_2019.csv             2020-09-05 10:39:12      1046495\n",
            "__MACOSX/Sales_Data/._Sales_February_2019.csv  2020-09-05 10:39:12          268\n",
            "Sales_Data/Sales_March_2019.csv                2020-09-05 10:39:12      1323497\n",
            "__MACOSX/Sales_Data/._Sales_March_2019.csv     2020-09-05 10:39:12          212\n",
            "Sales_Data/Sales_August_2019.csv               2020-09-05 10:39:12      1043593\n",
            "__MACOSX/Sales_Data/._Sales_August_2019.csv    2020-09-05 10:39:12          212\n",
            "Sales_Data/Sales_May_2019.csv                  2020-09-05 10:39:12      1443965\n",
            "__MACOSX/Sales_Data/._Sales_May_2019.csv       2020-09-05 10:39:12          212\n",
            "Sales_Data/Sales_November_2019.csv             2020-09-05 10:39:12      1534677\n",
            "__MACOSX/Sales_Data/._Sales_November_2019.csv  2020-09-05 10:39:12          212\n",
            "Sales_Data/Sales_October_2019.csv              2020-09-05 10:39:12      1770338\n",
            "__MACOSX/Sales_Data/._Sales_October_2019.csv   2020-09-05 10:39:12          212\n",
            "Sales_Data/Sales_January_2019.csv              2020-09-05 10:39:12       843098\n",
            "__MACOSX/Sales_Data/._Sales_January_2019.csv   2020-09-05 10:39:12          212\n",
            "Sales_Data/Sales_September_2019.csv            2020-09-05 10:39:12      1014958\n",
            "__MACOSX/Sales_Data/._Sales_September_2019.csv 2020-09-05 10:39:12          212\n",
            "Sales_Data/Sales_July_2019.csv                 2020-09-05 10:39:12      1248753\n",
            "__MACOSX/Sales_Data/._Sales_July_2019.csv      2020-09-05 10:39:12          212\n",
            "Sales_Data/Sales_June_2019.csv                 2020-09-05 10:39:12      1182508\n",
            "__MACOSX/Sales_Data/._Sales_June_2019.csv      2020-09-05 10:39:12          212\n",
            "prossessing......\n"
          ]
        }
      ]
    },
    {
      "cell_type": "markdown",
      "metadata": {
        "id": "dEtZuFFjCn35"
      },
      "source": [
        "We create a path : location where zip file need to be extracted, if not provided it will extract the file in current directory"
      ]
    },
    {
      "cell_type": "code",
      "metadata": {
        "id": "xqORxciTCmuO"
      },
      "source": [
        "# We create a path.\n",
        "path= r'/content/Sales_Data'"
      ],
      "execution_count": 5,
      "outputs": []
    },
    {
      "cell_type": "markdown",
      "metadata": {
        "id": "Dt22V4PnCx4m"
      },
      "source": [
        "CREATING A NEW DATASET EMPTY 'df' to fill it with the csv files"
      ]
    },
    {
      "cell_type": "code",
      "metadata": {
        "id": "egyp7lJ1CzEs"
      },
      "source": [
        "# CREATING A NEW DATASET EMPTY 'df'\n",
        "df=pd.DataFrame()"
      ],
      "execution_count": 6,
      "outputs": []
    },
    {
      "cell_type": "markdown",
      "metadata": {
        "id": "iBkp7HZGC7Xc"
      },
      "source": [
        "Since our df in several files, we create a list of files"
      ]
    },
    {
      "cell_type": "code",
      "metadata": {
        "id": "5QI3nLzGC8MP"
      },
      "source": [
        "files=[file for file in os.listdir(r'/content/Sales_Data')]"
      ],
      "execution_count": 7,
      "outputs": []
    },
    {
      "cell_type": "code",
      "metadata": {
        "colab": {
          "base_uri": "https://localhost:8080/"
        },
        "id": "51hiDSx7DE-5",
        "outputId": "b61ba14d-6b0b-460d-8768-b5910ebc63e9"
      },
      "source": [
        "# CONCATENATE all files in our dataset df.\n",
        "for file in files:\n",
        "  df1=pd.read_csv(path+'/'+file)\n",
        "  df=pd.concat([df,df1])\n",
        "print (df)"
      ],
      "execution_count": 8,
      "outputs": [
        {
          "output_type": "stream",
          "name": "stdout",
          "text": [
            "      Unnamed: 0  ...                        Purchase Address\n",
            "0            NaN  ...     380 North St, Los Angeles, CA 90001\n",
            "1            NaN  ...            511 8th St, Austin, TX 73301\n",
            "2            NaN  ...   151 Johnson St, Los Angeles, CA 90001\n",
            "3            NaN  ...       355 Hickory St, Seattle, WA 98101\n",
            "4            NaN  ...           125 5th St, Atlanta, GA 30301\n",
            "...          ...  ...                                     ...\n",
            "18378        NaN  ...   177 Jackson St, Los Angeles, CA 90001\n",
            "18379        NaN  ...         311 Forest St, Austin, TX 73301\n",
            "18380        NaN  ...  347 Sunset St, San Francisco, CA 94016\n",
            "18381        NaN  ...         835 Lake St, Portland, OR 97035\n",
            "18382        NaN  ...          354 North St, Boston, MA 02215\n",
            "\n",
            "[186850 rows x 7 columns]\n"
          ]
        }
      ]
    },
    {
      "cell_type": "code",
      "metadata": {
        "id": "H42nnTqTDK40"
      },
      "source": [
        "# Convert our dataset \" df\" into CSV file.\n",
        "\n",
        "df.to_csv(path+'/df.csv',index=False)"
      ],
      "execution_count": 9,
      "outputs": []
    },
    {
      "cell_type": "code",
      "metadata": {
        "colab": {
          "base_uri": "https://localhost:8080/",
          "height": 213
        },
        "id": "Aik6XWmzDQCs",
        "outputId": "056f3062-28b0-480d-ec98-0308017f972f"
      },
      "source": [
        "df.head(3)"
      ],
      "execution_count": 10,
      "outputs": [
        {
          "output_type": "execute_result",
          "data": {
            "text/html": [
              "<div>\n",
              "<style scoped>\n",
              "    .dataframe tbody tr th:only-of-type {\n",
              "        vertical-align: middle;\n",
              "    }\n",
              "\n",
              "    .dataframe tbody tr th {\n",
              "        vertical-align: top;\n",
              "    }\n",
              "\n",
              "    .dataframe thead th {\n",
              "        text-align: right;\n",
              "    }\n",
              "</style>\n",
              "<table border=\"1\" class=\"dataframe\">\n",
              "  <thead>\n",
              "    <tr style=\"text-align: right;\">\n",
              "      <th></th>\n",
              "      <th>Unnamed: 0</th>\n",
              "      <th>Order ID</th>\n",
              "      <th>Product</th>\n",
              "      <th>Quantity Ordered</th>\n",
              "      <th>Price Each</th>\n",
              "      <th>Order Date</th>\n",
              "      <th>Purchase Address</th>\n",
              "    </tr>\n",
              "  </thead>\n",
              "  <tbody>\n",
              "    <tr>\n",
              "      <th>0</th>\n",
              "      <td>NaN</td>\n",
              "      <td>248151</td>\n",
              "      <td>AA Batteries (4-pack)</td>\n",
              "      <td>4</td>\n",
              "      <td>3.84</td>\n",
              "      <td>09/17/19 14:44</td>\n",
              "      <td>380 North St, Los Angeles, CA 90001</td>\n",
              "    </tr>\n",
              "    <tr>\n",
              "      <th>1</th>\n",
              "      <td>NaN</td>\n",
              "      <td>248152</td>\n",
              "      <td>USB-C Charging Cable</td>\n",
              "      <td>2</td>\n",
              "      <td>11.95</td>\n",
              "      <td>09/29/19 10:19</td>\n",
              "      <td>511 8th St, Austin, TX 73301</td>\n",
              "    </tr>\n",
              "    <tr>\n",
              "      <th>2</th>\n",
              "      <td>NaN</td>\n",
              "      <td>248153</td>\n",
              "      <td>USB-C Charging Cable</td>\n",
              "      <td>1</td>\n",
              "      <td>11.95</td>\n",
              "      <td>09/16/19 17:48</td>\n",
              "      <td>151 Johnson St, Los Angeles, CA 90001</td>\n",
              "    </tr>\n",
              "  </tbody>\n",
              "</table>\n",
              "</div>"
            ],
            "text/plain": [
              "  Unnamed: 0 Order ID  ...      Order Date                       Purchase Address\n",
              "0        NaN   248151  ...  09/17/19 14:44    380 North St, Los Angeles, CA 90001\n",
              "1        NaN   248152  ...  09/29/19 10:19           511 8th St, Austin, TX 73301\n",
              "2        NaN   248153  ...  09/16/19 17:48  151 Johnson St, Los Angeles, CA 90001\n",
              "\n",
              "[3 rows x 7 columns]"
            ]
          },
          "metadata": {},
          "execution_count": 10
        }
      ]
    },
    {
      "cell_type": "code",
      "metadata": {
        "id": "1BoykynADZVn"
      },
      "source": [
        "# Copy of our dataset (to save it):\n",
        "df_copy=df.copy()"
      ],
      "execution_count": 11,
      "outputs": []
    },
    {
      "cell_type": "code",
      "metadata": {
        "colab": {
          "base_uri": "https://localhost:8080/"
        },
        "id": "tePfrVSkDeS7",
        "outputId": "68c9f3cd-0fa2-4d02-9a88-2625dfa5385a"
      },
      "source": [
        "# Basic information about our dataset\n",
        "df.info()"
      ],
      "execution_count": 12,
      "outputs": [
        {
          "output_type": "stream",
          "name": "stdout",
          "text": [
            "<class 'pandas.core.frame.DataFrame'>\n",
            "Int64Index: 186850 entries, 0 to 18382\n",
            "Data columns (total 7 columns):\n",
            " #   Column            Non-Null Count   Dtype \n",
            "---  ------            --------------   ----- \n",
            " 0   Unnamed: 0        0 non-null       object\n",
            " 1   Order ID          186305 non-null  object\n",
            " 2   Product           186305 non-null  object\n",
            " 3   Quantity Ordered  186305 non-null  object\n",
            " 4   Price Each        186305 non-null  object\n",
            " 5   Order Date        186305 non-null  object\n",
            " 6   Purchase Address  186305 non-null  object\n",
            "dtypes: object(7)\n",
            "memory usage: 11.4+ MB\n"
          ]
        }
      ]
    },
    {
      "cell_type": "markdown",
      "metadata": {
        "id": "57KybGpRDmWw"
      },
      "source": [
        "Shape of our dataset (df)"
      ]
    },
    {
      "cell_type": "code",
      "metadata": {
        "colab": {
          "base_uri": "https://localhost:8080/"
        },
        "id": "bQmvoKbKDnY7",
        "outputId": "15c755bc-fc61-4893-e0fa-d018517670ac"
      },
      "source": [
        "# Dataset SHAPE\n",
        "df.shape"
      ],
      "execution_count": 13,
      "outputs": [
        {
          "output_type": "execute_result",
          "data": {
            "text/plain": [
              "(186850, 7)"
            ]
          },
          "metadata": {},
          "execution_count": 13
        }
      ]
    },
    {
      "cell_type": "code",
      "metadata": {
        "colab": {
          "base_uri": "https://localhost:8080/"
        },
        "id": "CN08bMYSDwHR",
        "outputId": "16d52f6d-c469-4b78-959d-98b61e6faef5"
      },
      "source": [
        "# Detecting the missing values in our dataframe.\n",
        "df.isnull().sum()"
      ],
      "execution_count": 14,
      "outputs": [
        {
          "output_type": "execute_result",
          "data": {
            "text/plain": [
              "Unnamed: 0          186850\n",
              "Order ID               545\n",
              "Product                545\n",
              "Quantity Ordered       545\n",
              "Price Each             545\n",
              "Order Date             545\n",
              "Purchase Address       545\n",
              "dtype: int64"
            ]
          },
          "metadata": {},
          "execution_count": 14
        }
      ]
    },
    {
      "cell_type": "code",
      "metadata": {
        "colab": {
          "base_uri": "https://localhost:8080/"
        },
        "id": "uIsXcG48EZ9s",
        "outputId": "cfeb483e-a41d-4acc-d043-5ee5b1dd7de3"
      },
      "source": [
        "#The no of non-null values of each column\n",
        "df.count()"
      ],
      "execution_count": 15,
      "outputs": [
        {
          "output_type": "execute_result",
          "data": {
            "text/plain": [
              "Unnamed: 0               0\n",
              "Order ID            186305\n",
              "Product             186305\n",
              "Quantity Ordered    186305\n",
              "Price Each          186305\n",
              "Order Date          186305\n",
              "Purchase Address    186305\n",
              "dtype: int64"
            ]
          },
          "metadata": {},
          "execution_count": 15
        }
      ]
    },
    {
      "cell_type": "code",
      "metadata": {
        "colab": {
          "base_uri": "https://localhost:8080/",
          "height": 209
        },
        "id": "8hA9V9yDEgpZ",
        "outputId": "2e6ae89c-7a99-4aeb-b515-e532fc609fb9"
      },
      "source": [
        "# Checking if we have any weird values\n",
        "df.describe()"
      ],
      "execution_count": 18,
      "outputs": [
        {
          "output_type": "execute_result",
          "data": {
            "text/html": [
              "<div>\n",
              "<style scoped>\n",
              "    .dataframe tbody tr th:only-of-type {\n",
              "        vertical-align: middle;\n",
              "    }\n",
              "\n",
              "    .dataframe tbody tr th {\n",
              "        vertical-align: top;\n",
              "    }\n",
              "\n",
              "    .dataframe thead th {\n",
              "        text-align: right;\n",
              "    }\n",
              "</style>\n",
              "<table border=\"1\" class=\"dataframe\">\n",
              "  <thead>\n",
              "    <tr style=\"text-align: right;\">\n",
              "      <th></th>\n",
              "      <th>Unnamed: 0</th>\n",
              "      <th>Order ID</th>\n",
              "      <th>Product</th>\n",
              "      <th>Quantity Ordered</th>\n",
              "      <th>Price Each</th>\n",
              "      <th>Order Date</th>\n",
              "      <th>Purchase Address</th>\n",
              "    </tr>\n",
              "  </thead>\n",
              "  <tbody>\n",
              "    <tr>\n",
              "      <th>count</th>\n",
              "      <td>0</td>\n",
              "      <td>186305</td>\n",
              "      <td>186305</td>\n",
              "      <td>186305</td>\n",
              "      <td>186305</td>\n",
              "      <td>186305</td>\n",
              "      <td>186305</td>\n",
              "    </tr>\n",
              "    <tr>\n",
              "      <th>unique</th>\n",
              "      <td>0</td>\n",
              "      <td>178438</td>\n",
              "      <td>20</td>\n",
              "      <td>10</td>\n",
              "      <td>24</td>\n",
              "      <td>142396</td>\n",
              "      <td>140788</td>\n",
              "    </tr>\n",
              "    <tr>\n",
              "      <th>top</th>\n",
              "      <td>NaN</td>\n",
              "      <td>Order ID</td>\n",
              "      <td>USB-C Charging Cable</td>\n",
              "      <td>1</td>\n",
              "      <td>11.95</td>\n",
              "      <td>Order Date</td>\n",
              "      <td>Purchase Address</td>\n",
              "    </tr>\n",
              "    <tr>\n",
              "      <th>freq</th>\n",
              "      <td>NaN</td>\n",
              "      <td>355</td>\n",
              "      <td>21903</td>\n",
              "      <td>168552</td>\n",
              "      <td>21903</td>\n",
              "      <td>355</td>\n",
              "      <td>355</td>\n",
              "    </tr>\n",
              "  </tbody>\n",
              "</table>\n",
              "</div>"
            ],
            "text/plain": [
              "       Unnamed: 0  Order ID  ...  Order Date  Purchase Address\n",
              "count           0    186305  ...      186305            186305\n",
              "unique          0    178438  ...      142396            140788\n",
              "top           NaN  Order ID  ...  Order Date  Purchase Address\n",
              "freq          NaN       355  ...         355               355\n",
              "\n",
              "[4 rows x 7 columns]"
            ]
          },
          "metadata": {},
          "execution_count": 18
        }
      ]
    },
    {
      "cell_type": "code",
      "metadata": {
        "colab": {
          "base_uri": "https://localhost:8080/",
          "height": 310
        },
        "id": "BUkQaWQ6F2dQ",
        "outputId": "14415b77-5074-4ca8-a123-391a60bc238a"
      },
      "source": [
        "df.head(5)"
      ],
      "execution_count": 21,
      "outputs": [
        {
          "output_type": "execute_result",
          "data": {
            "text/html": [
              "<div>\n",
              "<style scoped>\n",
              "    .dataframe tbody tr th:only-of-type {\n",
              "        vertical-align: middle;\n",
              "    }\n",
              "\n",
              "    .dataframe tbody tr th {\n",
              "        vertical-align: top;\n",
              "    }\n",
              "\n",
              "    .dataframe thead th {\n",
              "        text-align: right;\n",
              "    }\n",
              "</style>\n",
              "<table border=\"1\" class=\"dataframe\">\n",
              "  <thead>\n",
              "    <tr style=\"text-align: right;\">\n",
              "      <th></th>\n",
              "      <th>Unnamed: 0</th>\n",
              "      <th>Order ID</th>\n",
              "      <th>Product</th>\n",
              "      <th>Quantity Ordered</th>\n",
              "      <th>Price Each</th>\n",
              "      <th>Order Date</th>\n",
              "      <th>Purchase Address</th>\n",
              "    </tr>\n",
              "  </thead>\n",
              "  <tbody>\n",
              "    <tr>\n",
              "      <th>0</th>\n",
              "      <td>NaN</td>\n",
              "      <td>248151</td>\n",
              "      <td>AA Batteries (4-pack)</td>\n",
              "      <td>4</td>\n",
              "      <td>3.84</td>\n",
              "      <td>09/17/19 14:44</td>\n",
              "      <td>380 North St, Los Angeles, CA 90001</td>\n",
              "    </tr>\n",
              "    <tr>\n",
              "      <th>1</th>\n",
              "      <td>NaN</td>\n",
              "      <td>248152</td>\n",
              "      <td>USB-C Charging Cable</td>\n",
              "      <td>2</td>\n",
              "      <td>11.95</td>\n",
              "      <td>09/29/19 10:19</td>\n",
              "      <td>511 8th St, Austin, TX 73301</td>\n",
              "    </tr>\n",
              "    <tr>\n",
              "      <th>2</th>\n",
              "      <td>NaN</td>\n",
              "      <td>248153</td>\n",
              "      <td>USB-C Charging Cable</td>\n",
              "      <td>1</td>\n",
              "      <td>11.95</td>\n",
              "      <td>09/16/19 17:48</td>\n",
              "      <td>151 Johnson St, Los Angeles, CA 90001</td>\n",
              "    </tr>\n",
              "    <tr>\n",
              "      <th>3</th>\n",
              "      <td>NaN</td>\n",
              "      <td>248154</td>\n",
              "      <td>27in FHD Monitor</td>\n",
              "      <td>1</td>\n",
              "      <td>149.99</td>\n",
              "      <td>09/27/19 07:52</td>\n",
              "      <td>355 Hickory St, Seattle, WA 98101</td>\n",
              "    </tr>\n",
              "    <tr>\n",
              "      <th>4</th>\n",
              "      <td>NaN</td>\n",
              "      <td>248155</td>\n",
              "      <td>USB-C Charging Cable</td>\n",
              "      <td>1</td>\n",
              "      <td>11.95</td>\n",
              "      <td>09/01/19 19:03</td>\n",
              "      <td>125 5th St, Atlanta, GA 30301</td>\n",
              "    </tr>\n",
              "  </tbody>\n",
              "</table>\n",
              "</div>"
            ],
            "text/plain": [
              "  Unnamed: 0 Order ID  ...      Order Date                       Purchase Address\n",
              "0        NaN   248151  ...  09/17/19 14:44    380 North St, Los Angeles, CA 90001\n",
              "1        NaN   248152  ...  09/29/19 10:19           511 8th St, Austin, TX 73301\n",
              "2        NaN   248153  ...  09/16/19 17:48  151 Johnson St, Los Angeles, CA 90001\n",
              "3        NaN   248154  ...  09/27/19 07:52      355 Hickory St, Seattle, WA 98101\n",
              "4        NaN   248155  ...  09/01/19 19:03          125 5th St, Atlanta, GA 30301\n",
              "\n",
              "[5 rows x 7 columns]"
            ]
          },
          "metadata": {},
          "execution_count": 21
        }
      ]
    },
    {
      "cell_type": "code",
      "metadata": {
        "id": "PnMY8SAAGzaK"
      },
      "source": [
        "# Deleet the column Unnamed: 0\n",
        "df.drop('Unnamed: 0', axis=1, inplace=True)"
      ],
      "execution_count": 23,
      "outputs": []
    },
    {
      "cell_type": "code",
      "metadata": {
        "colab": {
          "base_uri": "https://localhost:8080/"
        },
        "id": "fiSjFfFHHBoF",
        "outputId": "65a7cd41-330f-45b9-f67b-4cfe62a397f7"
      },
      "source": [
        "# Checking the shape of our dataset\n",
        "df.shape"
      ],
      "execution_count": 24,
      "outputs": [
        {
          "output_type": "execute_result",
          "data": {
            "text/plain": [
              "(186850, 6)"
            ]
          },
          "metadata": {},
          "execution_count": 24
        }
      ]
    },
    {
      "cell_type": "code",
      "metadata": {
        "colab": {
          "base_uri": "https://localhost:8080/"
        },
        "id": "LC0KxLbfHJbi",
        "outputId": "d7d4d03e-d1ab-4372-b861-ed39594e9be6"
      },
      "source": [
        "df.dtypes"
      ],
      "execution_count": 25,
      "outputs": [
        {
          "output_type": "execute_result",
          "data": {
            "text/plain": [
              "Order ID            object\n",
              "Product             object\n",
              "Quantity Ordered    object\n",
              "Price Each          object\n",
              "Order Date          object\n",
              "Purchase Address    object\n",
              "dtype: object"
            ]
          },
          "metadata": {},
          "execution_count": 25
        }
      ]
    },
    {
      "cell_type": "markdown",
      "metadata": {
        "id": "hhlYv3_kHjdB"
      },
      "source": [
        "As we can see from df.dtypes  that the column 'Quantity ordered' & the column 'Price each should not be type: object"
      ]
    },
    {
      "cell_type": "code",
      "metadata": {
        "colab": {
          "base_uri": "https://localhost:8080/"
        },
        "id": "OINRQsM5HaGm",
        "outputId": "7740dbef-6917-41cc-a1cb-6732b076fdb3"
      },
      "source": [
        "#Convert object/string to float\n",
        "\n",
        "df['Price Each'] = pd.to_numeric(df['Price Each'],errors = 'coerce')\n",
        "df['Quantity Ordered'] = pd.to_numeric(df['Quantity Ordered'],errors = 'coerce')\n",
        "df.dtypes"
      ],
      "execution_count": 46,
      "outputs": [
        {
          "output_type": "execute_result",
          "data": {
            "text/plain": [
              "Order ID             object\n",
              "Product              object\n",
              "Quantity Ordered      int64\n",
              "Price Each          float64\n",
              "Order Date           object\n",
              "Purchase Address     object\n",
              "dtype: object"
            ]
          },
          "metadata": {},
          "execution_count": 46
        }
      ]
    },
    {
      "cell_type": "code",
      "metadata": {
        "colab": {
          "base_uri": "https://localhost:8080/"
        },
        "id": "SsMJVvJvIMUl",
        "outputId": "c612ea0f-4c84-401f-dd10-76d4a62d5538"
      },
      "source": [
        "# Removing the missing data (since our database contains   186850 so we can remove Nan values)\n",
        "df=df.dropna(how='all')\n",
        "df.dropna(subset = ['Price Each'], inplace=True)\n",
        "\n",
        "df.isnull().sum()"
      ],
      "execution_count": 49,
      "outputs": [
        {
          "output_type": "execute_result",
          "data": {
            "text/plain": [
              "Order ID            0\n",
              "Product             0\n",
              "Quantity Ordered    0\n",
              "Price Each          0\n",
              "Order Date          0\n",
              "Purchase Address    0\n",
              "dtype: int64"
            ]
          },
          "metadata": {},
          "execution_count": 49
        }
      ]
    },
    {
      "cell_type": "markdown",
      "metadata": {
        "id": "wDLdDTCVQo7L"
      },
      "source": [
        "## **Q1.What month did we have the best turnover?**\n",
        "\n",
        "To find the month during which we achieved the best turnover:\n",
        "1.   We will create a column 'Month'\n",
        "2.   We create a column 'Sales'  and calculate the \n",
        "sales for each month [Quantity Ordered * Price Each].\n",
        "3.   We group the sales by month."
      ]
    },
    {
      "cell_type": "code",
      "metadata": {
        "id": "8BBfVP51SjOu"
      },
      "source": [
        "# Extract months by split.\n",
        "def month (x):\n",
        "  return x.split ('/')[0]"
      ],
      "execution_count": 50,
      "outputs": []
    },
    {
      "cell_type": "code",
      "metadata": {
        "colab": {
          "base_uri": "https://localhost:8080/",
          "height": 213
        },
        "id": "3tWYoCIbVX5_",
        "outputId": "d5605301-d824-4db6-e890-6c2ee6900039"
      },
      "source": [
        "df['Month']=df['Order Date'].apply(month)\n",
        "df.head(3)"
      ],
      "execution_count": 51,
      "outputs": [
        {
          "output_type": "execute_result",
          "data": {
            "text/html": [
              "<div>\n",
              "<style scoped>\n",
              "    .dataframe tbody tr th:only-of-type {\n",
              "        vertical-align: middle;\n",
              "    }\n",
              "\n",
              "    .dataframe tbody tr th {\n",
              "        vertical-align: top;\n",
              "    }\n",
              "\n",
              "    .dataframe thead th {\n",
              "        text-align: right;\n",
              "    }\n",
              "</style>\n",
              "<table border=\"1\" class=\"dataframe\">\n",
              "  <thead>\n",
              "    <tr style=\"text-align: right;\">\n",
              "      <th></th>\n",
              "      <th>Order ID</th>\n",
              "      <th>Product</th>\n",
              "      <th>Quantity Ordered</th>\n",
              "      <th>Price Each</th>\n",
              "      <th>Order Date</th>\n",
              "      <th>Purchase Address</th>\n",
              "      <th>Month</th>\n",
              "    </tr>\n",
              "  </thead>\n",
              "  <tbody>\n",
              "    <tr>\n",
              "      <th>0</th>\n",
              "      <td>248151</td>\n",
              "      <td>AA Batteries (4-pack)</td>\n",
              "      <td>4</td>\n",
              "      <td>3.84</td>\n",
              "      <td>09/17/19 14:44</td>\n",
              "      <td>380 North St, Los Angeles, CA 90001</td>\n",
              "      <td>09</td>\n",
              "    </tr>\n",
              "    <tr>\n",
              "      <th>1</th>\n",
              "      <td>248152</td>\n",
              "      <td>USB-C Charging Cable</td>\n",
              "      <td>2</td>\n",
              "      <td>11.95</td>\n",
              "      <td>09/29/19 10:19</td>\n",
              "      <td>511 8th St, Austin, TX 73301</td>\n",
              "      <td>09</td>\n",
              "    </tr>\n",
              "    <tr>\n",
              "      <th>2</th>\n",
              "      <td>248153</td>\n",
              "      <td>USB-C Charging Cable</td>\n",
              "      <td>1</td>\n",
              "      <td>11.95</td>\n",
              "      <td>09/16/19 17:48</td>\n",
              "      <td>151 Johnson St, Los Angeles, CA 90001</td>\n",
              "      <td>09</td>\n",
              "    </tr>\n",
              "  </tbody>\n",
              "</table>\n",
              "</div>"
            ],
            "text/plain": [
              "  Order ID                Product  ...                       Purchase Address  Month\n",
              "0   248151  AA Batteries (4-pack)  ...    380 North St, Los Angeles, CA 90001     09\n",
              "1   248152   USB-C Charging Cable  ...           511 8th St, Austin, TX 73301     09\n",
              "2   248153   USB-C Charging Cable  ...  151 Johnson St, Los Angeles, CA 90001     09\n",
              "\n",
              "[3 rows x 7 columns]"
            ]
          },
          "metadata": {},
          "execution_count": 51
        }
      ]
    },
    {
      "cell_type": "code",
      "metadata": {
        "colab": {
          "base_uri": "https://localhost:8080/"
        },
        "id": "U7z78r92WBZo",
        "outputId": "8d58a497-9e92-407c-f329-54e52145412c"
      },
      "source": [
        "# Checking the unique values in 'Month'\n",
        "df['Month'].unique()"
      ],
      "execution_count": 52,
      "outputs": [
        {
          "output_type": "execute_result",
          "data": {
            "text/plain": [
              "array(['09', '10', '11', '12', '08', '06', '07', '05', '02', '03', '01',\n",
              "       '04'], dtype=object)"
            ]
          },
          "metadata": {},
          "execution_count": 52
        }
      ]
    },
    {
      "cell_type": "markdown",
      "metadata": {
        "id": "mg1yyT7TWfUZ"
      },
      "source": [
        "AS we can see the dtype ['Month']=object, so we've to turn it into integer"
      ]
    },
    {
      "cell_type": "code",
      "metadata": {
        "colab": {
          "base_uri": "https://localhost:8080/"
        },
        "id": "SpsKfWsKW3AT",
        "outputId": "97b67d68-3d6a-4f9d-f553-4b03d5d517f3"
      },
      "source": [
        "##Convert dtype 'Month' from object to int.\n",
        "\n",
        "df['Month']=df['Month'].astype(int)\n",
        "\n",
        "df.dtypes"
      ],
      "execution_count": 54,
      "outputs": [
        {
          "output_type": "execute_result",
          "data": {
            "text/plain": [
              "Order ID             object\n",
              "Product              object\n",
              "Quantity Ordered      int64\n",
              "Price Each          float64\n",
              "Order Date           object\n",
              "Purchase Address     object\n",
              "Month                 int64\n",
              "dtype: object"
            ]
          },
          "metadata": {},
          "execution_count": 54
        }
      ]
    },
    {
      "cell_type": "code",
      "metadata": {
        "colab": {
          "base_uri": "https://localhost:8080/",
          "height": 310
        },
        "id": "MI-5oUS6X2cI",
        "outputId": "323df121-70af-4c93-8d49-ae619499bc15"
      },
      "source": [
        "# We create a column 'Sales' and calculate the sales for each month [Quantity Ordered * Price Each].\n",
        "df['Sales'] = df['Quantity Ordered']*df['Price Each']\n",
        "\n",
        "df.head(5)"
      ],
      "execution_count": 57,
      "outputs": [
        {
          "output_type": "execute_result",
          "data": {
            "text/html": [
              "<div>\n",
              "<style scoped>\n",
              "    .dataframe tbody tr th:only-of-type {\n",
              "        vertical-align: middle;\n",
              "    }\n",
              "\n",
              "    .dataframe tbody tr th {\n",
              "        vertical-align: top;\n",
              "    }\n",
              "\n",
              "    .dataframe thead th {\n",
              "        text-align: right;\n",
              "    }\n",
              "</style>\n",
              "<table border=\"1\" class=\"dataframe\">\n",
              "  <thead>\n",
              "    <tr style=\"text-align: right;\">\n",
              "      <th></th>\n",
              "      <th>Order ID</th>\n",
              "      <th>Product</th>\n",
              "      <th>Quantity Ordered</th>\n",
              "      <th>Price Each</th>\n",
              "      <th>Order Date</th>\n",
              "      <th>Purchase Address</th>\n",
              "      <th>Month</th>\n",
              "      <th>Sales</th>\n",
              "    </tr>\n",
              "  </thead>\n",
              "  <tbody>\n",
              "    <tr>\n",
              "      <th>0</th>\n",
              "      <td>248151</td>\n",
              "      <td>AA Batteries (4-pack)</td>\n",
              "      <td>4</td>\n",
              "      <td>3.84</td>\n",
              "      <td>09/17/19 14:44</td>\n",
              "      <td>380 North St, Los Angeles, CA 90001</td>\n",
              "      <td>9</td>\n",
              "      <td>15.36</td>\n",
              "    </tr>\n",
              "    <tr>\n",
              "      <th>1</th>\n",
              "      <td>248152</td>\n",
              "      <td>USB-C Charging Cable</td>\n",
              "      <td>2</td>\n",
              "      <td>11.95</td>\n",
              "      <td>09/29/19 10:19</td>\n",
              "      <td>511 8th St, Austin, TX 73301</td>\n",
              "      <td>9</td>\n",
              "      <td>23.90</td>\n",
              "    </tr>\n",
              "    <tr>\n",
              "      <th>2</th>\n",
              "      <td>248153</td>\n",
              "      <td>USB-C Charging Cable</td>\n",
              "      <td>1</td>\n",
              "      <td>11.95</td>\n",
              "      <td>09/16/19 17:48</td>\n",
              "      <td>151 Johnson St, Los Angeles, CA 90001</td>\n",
              "      <td>9</td>\n",
              "      <td>11.95</td>\n",
              "    </tr>\n",
              "    <tr>\n",
              "      <th>3</th>\n",
              "      <td>248154</td>\n",
              "      <td>27in FHD Monitor</td>\n",
              "      <td>1</td>\n",
              "      <td>149.99</td>\n",
              "      <td>09/27/19 07:52</td>\n",
              "      <td>355 Hickory St, Seattle, WA 98101</td>\n",
              "      <td>9</td>\n",
              "      <td>149.99</td>\n",
              "    </tr>\n",
              "    <tr>\n",
              "      <th>4</th>\n",
              "      <td>248155</td>\n",
              "      <td>USB-C Charging Cable</td>\n",
              "      <td>1</td>\n",
              "      <td>11.95</td>\n",
              "      <td>09/01/19 19:03</td>\n",
              "      <td>125 5th St, Atlanta, GA 30301</td>\n",
              "      <td>9</td>\n",
              "      <td>11.95</td>\n",
              "    </tr>\n",
              "  </tbody>\n",
              "</table>\n",
              "</div>"
            ],
            "text/plain": [
              "  Order ID                Product  ...  Month   Sales\n",
              "0   248151  AA Batteries (4-pack)  ...      9   15.36\n",
              "1   248152   USB-C Charging Cable  ...      9   23.90\n",
              "2   248153   USB-C Charging Cable  ...      9   11.95\n",
              "3   248154       27in FHD Monitor  ...      9  149.99\n",
              "4   248155   USB-C Charging Cable  ...      9   11.95\n",
              "\n",
              "[5 rows x 8 columns]"
            ]
          },
          "metadata": {},
          "execution_count": 57
        }
      ]
    },
    {
      "cell_type": "markdown",
      "metadata": {
        "id": "2dAktn8PfKKy"
      },
      "source": [
        "We add up the turnover per month"
      ]
    },
    {
      "cell_type": "code",
      "metadata": {
        "colab": {
          "base_uri": "https://localhost:8080/"
        },
        "id": "kj1WY0jRfLhT",
        "outputId": "92807b8e-8e16-4894-c568-c3606e9ee078"
      },
      "source": [
        "# Turnover per month.\n",
        "df.groupby('Month')['Sales'].sum()"
      ],
      "execution_count": 58,
      "outputs": [
        {
          "output_type": "execute_result",
          "data": {
            "text/plain": [
              "Month\n",
              "1     1.822257e+06\n",
              "2     2.202022e+06\n",
              "3     2.807100e+06\n",
              "4     3.390670e+06\n",
              "5     3.152607e+06\n",
              "6     2.577802e+06\n",
              "7     2.647776e+06\n",
              "8     2.244468e+06\n",
              "9     2.097560e+06\n",
              "10    3.736727e+06\n",
              "11    3.199603e+06\n",
              "12    4.613443e+06\n",
              "Name: Sales, dtype: float64"
            ]
          },
          "metadata": {},
          "execution_count": 58
        }
      ]
    },
    {
      "cell_type": "code",
      "metadata": {
        "colab": {
          "base_uri": "https://localhost:8080/",
          "height": 290
        },
        "id": "kYWd0kV-gU8G",
        "outputId": "42a101dc-9ef4-4cb8-a88f-bddecb9917e5"
      },
      "source": [
        "# visualization (diagram)\n",
        "\n",
        "months=range(1,13)\n",
        "plt.bar(months,df.groupby('Month')['Sales'].sum())\n",
        "plt.xticks(months)\n",
        "plt.xlabel ('MONTH')\n",
        "plt.ylabel ('TURNOVER in USD')\n",
        "plt.show()"
      ],
      "execution_count": 60,
      "outputs": [
        {
          "output_type": "display_data",
          "data": {
            "image/png": "[encoded data removed]",
            "text/plain": [
              "<Figure size 432x288 with 1 Axes>"
            ]
          },
          "metadata": {
            "needs_background": "light"
          }
        }
      ]
    },
    {
      "cell_type": "markdown",
      "metadata": {
        "id": "X6-KdPYiiE4m"
      },
      "source": [
        "## **The best month that produced the best turnover: December**"
      ]
    },
    {
      "cell_type": "markdown",
      "metadata": {
        "id": "5UtVtdD053kr"
      },
      "source": [
        "#     # **Q2-In which city do we have the most orders?.**"
      ]
    },
    {
      "cell_type": "code",
      "metadata": {
        "colab": {
          "base_uri": "https://localhost:8080/",
          "height": 261
        },
        "id": "7dZ7I2rY58ax",
        "outputId": "9c9f2b66-5522-45f3-f926-06db01f37f64"
      },
      "source": [
        "df.head(4)"
      ],
      "execution_count": 63,
      "outputs": [
        {
          "output_type": "execute_result",
          "data": {
            "text/html": [
              "<div>\n",
              "<style scoped>\n",
              "    .dataframe tbody tr th:only-of-type {\n",
              "        vertical-align: middle;\n",
              "    }\n",
              "\n",
              "    .dataframe tbody tr th {\n",
              "        vertical-align: top;\n",
              "    }\n",
              "\n",
              "    .dataframe thead th {\n",
              "        text-align: right;\n",
              "    }\n",
              "</style>\n",
              "<table border=\"1\" class=\"dataframe\">\n",
              "  <thead>\n",
              "    <tr style=\"text-align: right;\">\n",
              "      <th></th>\n",
              "      <th>Order ID</th>\n",
              "      <th>Product</th>\n",
              "      <th>Quantity Ordered</th>\n",
              "      <th>Price Each</th>\n",
              "      <th>Order Date</th>\n",
              "      <th>Purchase Address</th>\n",
              "      <th>Month</th>\n",
              "      <th>Sales</th>\n",
              "    </tr>\n",
              "  </thead>\n",
              "  <tbody>\n",
              "    <tr>\n",
              "      <th>0</th>\n",
              "      <td>248151</td>\n",
              "      <td>AA Batteries (4-pack)</td>\n",
              "      <td>4</td>\n",
              "      <td>3.84</td>\n",
              "      <td>09/17/19 14:44</td>\n",
              "      <td>380 North St, Los Angeles, CA 90001</td>\n",
              "      <td>9</td>\n",
              "      <td>15.36</td>\n",
              "    </tr>\n",
              "    <tr>\n",
              "      <th>1</th>\n",
              "      <td>248152</td>\n",
              "      <td>USB-C Charging Cable</td>\n",
              "      <td>2</td>\n",
              "      <td>11.95</td>\n",
              "      <td>09/29/19 10:19</td>\n",
              "      <td>511 8th St, Austin, TX 73301</td>\n",
              "      <td>9</td>\n",
              "      <td>23.90</td>\n",
              "    </tr>\n",
              "    <tr>\n",
              "      <th>2</th>\n",
              "      <td>248153</td>\n",
              "      <td>USB-C Charging Cable</td>\n",
              "      <td>1</td>\n",
              "      <td>11.95</td>\n",
              "      <td>09/16/19 17:48</td>\n",
              "      <td>151 Johnson St, Los Angeles, CA 90001</td>\n",
              "      <td>9</td>\n",
              "      <td>11.95</td>\n",
              "    </tr>\n",
              "    <tr>\n",
              "      <th>3</th>\n",
              "      <td>248154</td>\n",
              "      <td>27in FHD Monitor</td>\n",
              "      <td>1</td>\n",
              "      <td>149.99</td>\n",
              "      <td>09/27/19 07:52</td>\n",
              "      <td>355 Hickory St, Seattle, WA 98101</td>\n",
              "      <td>9</td>\n",
              "      <td>149.99</td>\n",
              "    </tr>\n",
              "  </tbody>\n",
              "</table>\n",
              "</div>"
            ],
            "text/plain": [
              "  Order ID                Product  ...  Month   Sales\n",
              "0   248151  AA Batteries (4-pack)  ...      9   15.36\n",
              "1   248152   USB-C Charging Cable  ...      9   23.90\n",
              "2   248153   USB-C Charging Cable  ...      9   11.95\n",
              "3   248154       27in FHD Monitor  ...      9  149.99\n",
              "\n",
              "[4 rows x 8 columns]"
            ]
          },
          "metadata": {},
          "execution_count": 63
        }
      ]
    },
    {
      "cell_type": "markdown",
      "metadata": {
        "id": "sV8KYoJn6Iz2"
      },
      "source": [
        "As we can see from the column 'Purchase Address' we have a full adress including city, so we've to split the adress then create a new column 'City'"
      ]
    },
    {
      "cell_type": "code",
      "metadata": {
        "colab": {
          "base_uri": "https://localhost:8080/",
          "height": 213
        },
        "id": "lLCaodnw7f8Z",
        "outputId": "63ee64d2-644e-4aeb-c279-88e4e77c46f2"
      },
      "source": [
        "# Split the adress and save in a new column.\n",
        "\n",
        "def city (x):\n",
        "  return x.split (',')[1]\n",
        "  \n",
        "df['City']=df['Purchase Address'].apply(city)\n",
        "\n",
        "df.head(3)"
      ],
      "execution_count": 64,
      "outputs": [
        {
          "output_type": "execute_result",
          "data": {
            "text/html": [
              "<div>\n",
              "<style scoped>\n",
              "    .dataframe tbody tr th:only-of-type {\n",
              "        vertical-align: middle;\n",
              "    }\n",
              "\n",
              "    .dataframe tbody tr th {\n",
              "        vertical-align: top;\n",
              "    }\n",
              "\n",
              "    .dataframe thead th {\n",
              "        text-align: right;\n",
              "    }\n",
              "</style>\n",
              "<table border=\"1\" class=\"dataframe\">\n",
              "  <thead>\n",
              "    <tr style=\"text-align: right;\">\n",
              "      <th></th>\n",
              "      <th>Order ID</th>\n",
              "      <th>Product</th>\n",
              "      <th>Quantity Ordered</th>\n",
              "      <th>Price Each</th>\n",
              "      <th>Order Date</th>\n",
              "      <th>Purchase Address</th>\n",
              "      <th>Month</th>\n",
              "      <th>Sales</th>\n",
              "      <th>City</th>\n",
              "    </tr>\n",
              "  </thead>\n",
              "  <tbody>\n",
              "    <tr>\n",
              "      <th>0</th>\n",
              "      <td>248151</td>\n",
              "      <td>AA Batteries (4-pack)</td>\n",
              "      <td>4</td>\n",
              "      <td>3.84</td>\n",
              "      <td>09/17/19 14:44</td>\n",
              "      <td>380 North St, Los Angeles, CA 90001</td>\n",
              "      <td>9</td>\n",
              "      <td>15.36</td>\n",
              "      <td>Los Angeles</td>\n",
              "    </tr>\n",
              "    <tr>\n",
              "      <th>1</th>\n",
              "      <td>248152</td>\n",
              "      <td>USB-C Charging Cable</td>\n",
              "      <td>2</td>\n",
              "      <td>11.95</td>\n",
              "      <td>09/29/19 10:19</td>\n",
              "      <td>511 8th St, Austin, TX 73301</td>\n",
              "      <td>9</td>\n",
              "      <td>23.90</td>\n",
              "      <td>Austin</td>\n",
              "    </tr>\n",
              "    <tr>\n",
              "      <th>2</th>\n",
              "      <td>248153</td>\n",
              "      <td>USB-C Charging Cable</td>\n",
              "      <td>1</td>\n",
              "      <td>11.95</td>\n",
              "      <td>09/16/19 17:48</td>\n",
              "      <td>151 Johnson St, Los Angeles, CA 90001</td>\n",
              "      <td>9</td>\n",
              "      <td>11.95</td>\n",
              "      <td>Los Angeles</td>\n",
              "    </tr>\n",
              "  </tbody>\n",
              "</table>\n",
              "</div>"
            ],
            "text/plain": [
              "  Order ID                Product  Quantity Ordered  ...  Month  Sales          City\n",
              "0   248151  AA Batteries (4-pack)                 4  ...      9  15.36   Los Angeles\n",
              "1   248152   USB-C Charging Cable                 2  ...      9  23.90        Austin\n",
              "2   248153   USB-C Charging Cable                 1  ...      9  11.95   Los Angeles\n",
              "\n",
              "[3 rows x 9 columns]"
            ]
          },
          "metadata": {},
          "execution_count": 64
        }
      ]
    },
    {
      "cell_type": "code",
      "metadata": {
        "colab": {
          "base_uri": "https://localhost:8080/"
        },
        "id": "vHvxhNBoA0O6",
        "outputId": "22dc46ef-f046-49b3-debc-0b45fa036a80"
      },
      "source": [
        "df['City'].unique()"
      ],
      "execution_count": 76,
      "outputs": [
        {
          "output_type": "execute_result",
          "data": {
            "text/plain": [
              "array([' Los Angeles', ' Austin', ' Seattle', ' Atlanta', ' Portland',\n",
              "       ' New York City', ' San Francisco', ' Boston', ' Dallas'],\n",
              "      dtype=object)"
            ]
          },
          "metadata": {},
          "execution_count": 76
        }
      ]
    },
    {
      "cell_type": "markdown",
      "metadata": {
        "id": "_ln-VtiQCPuc"
      },
      "source": [
        "We calculate the number of sales in each city"
      ]
    },
    {
      "cell_type": "code",
      "metadata": {
        "colab": {
          "base_uri": "https://localhost:8080/"
        },
        "id": "0FWaQj5TCfd2",
        "outputId": "706170fb-4949-4353-f808-61ea64c530d8"
      },
      "source": [
        "# Number of sales in each city\n",
        "\n",
        "df.groupby ('City')['Sales'].count()"
      ],
      "execution_count": 74,
      "outputs": [
        {
          "output_type": "execute_result",
          "data": {
            "text/plain": [
              "City\n",
              " Atlanta          14881\n",
              " Austin            9905\n",
              " Boston           19934\n",
              " Dallas           14820\n",
              " Los Angeles      29605\n",
              " New York City    24876\n",
              " Portland         12465\n",
              " San Francisco    44732\n",
              " Seattle          14732\n",
              "Name: Sales, dtype: int64"
            ]
          },
          "metadata": {},
          "execution_count": 74
        }
      ]
    },
    {
      "cell_type": "code",
      "metadata": {
        "colab": {
          "base_uri": "https://localhost:8080/",
          "height": 341
        },
        "id": "E2u6gcLADCBf",
        "outputId": "f5ba083a-4f4c-410e-efa4-c290f683f4a8"
      },
      "source": [
        "# visualization (diagram)\n",
        "\n",
        "plt.bar(df.groupby ('City')['Sales'].count().index,df.groupby ('City')['Sales'].count().values)\n",
        "plt.xticks(rotation='vertical')\n",
        "plt.xlabel ('CITY NAME')\n",
        "plt.ylabel ('RECEIVED ORDER')\n",
        "plt.show()"
      ],
      "execution_count": 78,
      "outputs": [
        {
          "output_type": "display_data",
          "data": {
            "image/png": "[encoded data removed]",
            "text/plain": [
              "<Figure size 432x288 with 1 Axes>"
            ]
          },
          "metadata": {
            "needs_background": "light"
          }
        }
      ]
    },
    {
      "cell_type": "markdown",
      "metadata": {
        "id": "624taDuaFTsp"
      },
      "source": [
        "San Francisco is in pole position for number of orders, Then Los Angeles on the 2nd place."
      ]
    },
    {
      "cell_type": "markdown",
      "metadata": {
        "id": "HDpesjkYFqw7"
      },
      "source": [
        "## **Q3. When should we run an advertising campaign to have more sales?**"
      ]
    },
    {
      "cell_type": "code",
      "metadata": {
        "colab": {
          "base_uri": "https://localhost:8080/",
          "height": 213
        },
        "id": "1xm878zUFzeD",
        "outputId": "24324161-c9cc-4736-c606-9817ecef7466"
      },
      "source": [
        "df.head(3)"
      ],
      "execution_count": 79,
      "outputs": [
        {
          "output_type": "execute_result",
          "data": {
            "text/html": [
              "<div>\n",
              "<style scoped>\n",
              "    .dataframe tbody tr th:only-of-type {\n",
              "        vertical-align: middle;\n",
              "    }\n",
              "\n",
              "    .dataframe tbody tr th {\n",
              "        vertical-align: top;\n",
              "    }\n",
              "\n",
              "    .dataframe thead th {\n",
              "        text-align: right;\n",
              "    }\n",
              "</style>\n",
              "<table border=\"1\" class=\"dataframe\">\n",
              "  <thead>\n",
              "    <tr style=\"text-align: right;\">\n",
              "      <th></th>\n",
              "      <th>Order ID</th>\n",
              "      <th>Product</th>\n",
              "      <th>Quantity Ordered</th>\n",
              "      <th>Price Each</th>\n",
              "      <th>Order Date</th>\n",
              "      <th>Purchase Address</th>\n",
              "      <th>Month</th>\n",
              "      <th>Sales</th>\n",
              "      <th>City</th>\n",
              "    </tr>\n",
              "  </thead>\n",
              "  <tbody>\n",
              "    <tr>\n",
              "      <th>0</th>\n",
              "      <td>248151</td>\n",
              "      <td>AA Batteries (4-pack)</td>\n",
              "      <td>4</td>\n",
              "      <td>3.84</td>\n",
              "      <td>09/17/19 14:44</td>\n",
              "      <td>380 North St, Los Angeles, CA 90001</td>\n",
              "      <td>9</td>\n",
              "      <td>15.36</td>\n",
              "      <td>Los Angeles</td>\n",
              "    </tr>\n",
              "    <tr>\n",
              "      <th>1</th>\n",
              "      <td>248152</td>\n",
              "      <td>USB-C Charging Cable</td>\n",
              "      <td>2</td>\n",
              "      <td>11.95</td>\n",
              "      <td>09/29/19 10:19</td>\n",
              "      <td>511 8th St, Austin, TX 73301</td>\n",
              "      <td>9</td>\n",
              "      <td>23.90</td>\n",
              "      <td>Austin</td>\n",
              "    </tr>\n",
              "    <tr>\n",
              "      <th>2</th>\n",
              "      <td>248153</td>\n",
              "      <td>USB-C Charging Cable</td>\n",
              "      <td>1</td>\n",
              "      <td>11.95</td>\n",
              "      <td>09/16/19 17:48</td>\n",
              "      <td>151 Johnson St, Los Angeles, CA 90001</td>\n",
              "      <td>9</td>\n",
              "      <td>11.95</td>\n",
              "      <td>Los Angeles</td>\n",
              "    </tr>\n",
              "  </tbody>\n",
              "</table>\n",
              "</div>"
            ],
            "text/plain": [
              "  Order ID                Product  Quantity Ordered  ...  Month  Sales          City\n",
              "0   248151  AA Batteries (4-pack)                 4  ...      9  15.36   Los Angeles\n",
              "1   248152   USB-C Charging Cable                 2  ...      9  23.90        Austin\n",
              "2   248153   USB-C Charging Cable                 1  ...      9  11.95   Los Angeles\n",
              "\n",
              "[3 rows x 9 columns]"
            ]
          },
          "metadata": {},
          "execution_count": 79
        }
      ]
    },
    {
      "cell_type": "markdown",
      "metadata": {
        "id": "0OVaRyxJH03-"
      },
      "source": [
        "For this question we have two answers.(taking into account the month or the hour)\n",
        "1.  Answer #1:(Month), We saw it before (question # 1)that the best month produceding the best turnover: December. So you run an advertising campaign in this month to have more sales.\n",
        "\n",
        "2.  Answer #2:(time), so for this section we've to extract the time from the column 'Order Date' in a new column 'Hour' then to have a visualization. "
      ]
    },
    {
      "cell_type": "code",
      "metadata": {
        "colab": {
          "base_uri": "https://localhost:8080/",
          "height": 247
        },
        "id": "lVQr27cLMVZy",
        "outputId": "53ea61e9-5e59-49a8-9a82-79ac18ad9c92"
      },
      "source": [
        "# Extract the time from our dataset.\n",
        "\n",
        "df['Hour']=pd.to_datetime(df['Order Date']).dt.hour\n",
        "\n",
        "df.head(3)"
      ],
      "execution_count": 82,
      "outputs": [
        {
          "output_type": "execute_result",
          "data": {
            "text/html": [
              "<div>\n",
              "<style scoped>\n",
              "    .dataframe tbody tr th:only-of-type {\n",
              "        vertical-align: middle;\n",
              "    }\n",
              "\n",
              "    .dataframe tbody tr th {\n",
              "        vertical-align: top;\n",
              "    }\n",
              "\n",
              "    .dataframe thead th {\n",
              "        text-align: right;\n",
              "    }\n",
              "</style>\n",
              "<table border=\"1\" class=\"dataframe\">\n",
              "  <thead>\n",
              "    <tr style=\"text-align: right;\">\n",
              "      <th></th>\n",
              "      <th>Order ID</th>\n",
              "      <th>Product</th>\n",
              "      <th>Quantity Ordered</th>\n",
              "      <th>Price Each</th>\n",
              "      <th>Order Date</th>\n",
              "      <th>Purchase Address</th>\n",
              "      <th>Month</th>\n",
              "      <th>Sales</th>\n",
              "      <th>City</th>\n",
              "      <th>Hour</th>\n",
              "    </tr>\n",
              "  </thead>\n",
              "  <tbody>\n",
              "    <tr>\n",
              "      <th>0</th>\n",
              "      <td>248151</td>\n",
              "      <td>AA Batteries (4-pack)</td>\n",
              "      <td>4</td>\n",
              "      <td>3.84</td>\n",
              "      <td>09/17/19 14:44</td>\n",
              "      <td>380 North St, Los Angeles, CA 90001</td>\n",
              "      <td>9</td>\n",
              "      <td>15.36</td>\n",
              "      <td>Los Angeles</td>\n",
              "      <td>14</td>\n",
              "    </tr>\n",
              "    <tr>\n",
              "      <th>1</th>\n",
              "      <td>248152</td>\n",
              "      <td>USB-C Charging Cable</td>\n",
              "      <td>2</td>\n",
              "      <td>11.95</td>\n",
              "      <td>09/29/19 10:19</td>\n",
              "      <td>511 8th St, Austin, TX 73301</td>\n",
              "      <td>9</td>\n",
              "      <td>23.90</td>\n",
              "      <td>Austin</td>\n",
              "      <td>10</td>\n",
              "    </tr>\n",
              "    <tr>\n",
              "      <th>2</th>\n",
              "      <td>248153</td>\n",
              "      <td>USB-C Charging Cable</td>\n",
              "      <td>1</td>\n",
              "      <td>11.95</td>\n",
              "      <td>09/16/19 17:48</td>\n",
              "      <td>151 Johnson St, Los Angeles, CA 90001</td>\n",
              "      <td>9</td>\n",
              "      <td>11.95</td>\n",
              "      <td>Los Angeles</td>\n",
              "      <td>17</td>\n",
              "    </tr>\n",
              "  </tbody>\n",
              "</table>\n",
              "</div>"
            ],
            "text/plain": [
              "  Order ID                Product  Quantity Ordered  ...  Sales          City Hour\n",
              "0   248151  AA Batteries (4-pack)                 4  ...  15.36   Los Angeles   14\n",
              "1   248152   USB-C Charging Cable                 2  ...  23.90        Austin   10\n",
              "2   248153   USB-C Charging Cable                 1  ...  11.95   Los Angeles   17\n",
              "\n",
              "[3 rows x 10 columns]"
            ]
          },
          "metadata": {},
          "execution_count": 82
        }
      ]
    },
    {
      "cell_type": "code",
      "metadata": {
        "colab": {
          "base_uri": "https://localhost:8080/"
        },
        "id": "yd7Ef9lVPUVC",
        "outputId": "49b37180-8715-440a-c024-e7504a42d189"
      },
      "source": [
        "df.dtypes"
      ],
      "execution_count": 83,
      "outputs": [
        {
          "output_type": "execute_result",
          "data": {
            "text/plain": [
              "Order ID             object\n",
              "Product              object\n",
              "Quantity Ordered      int64\n",
              "Price Each          float64\n",
              "Order Date           object\n",
              "Purchase Address     object\n",
              "Month                 int64\n",
              "Sales               float64\n",
              "City                 object\n",
              "Hour                  int64\n",
              "dtype: object"
            ]
          },
          "metadata": {},
          "execution_count": 83
        }
      ]
    },
    {
      "cell_type": "code",
      "metadata": {
        "colab": {
          "base_uri": "https://localhost:8080/"
        },
        "id": "_J_3cL8VPis9",
        "outputId": "aad89f3f-710b-42f5-e8b8-255fe9e4e2c2"
      },
      "source": [
        "df.groupby('Hour')['Sales'].sum()"
      ],
      "execution_count": 84,
      "outputs": [
        {
          "output_type": "execute_result",
          "data": {
            "text/plain": [
              "Hour\n",
              "0      713721.27\n",
              "1      460866.88\n",
              "2      234851.44\n",
              "3      145757.89\n",
              "4      162661.01\n",
              "5      230679.82\n",
              "6      448113.00\n",
              "7      744854.12\n",
              "8     1192348.97\n",
              "9     1639030.58\n",
              "10    1944286.77\n",
              "11    2300610.24\n",
              "12    2316821.34\n",
              "13    2155389.80\n",
              "14    2083672.73\n",
              "15    1941549.60\n",
              "16    1904601.31\n",
              "17    2129361.61\n",
              "18    2219348.30\n",
              "19    2412938.54\n",
              "20    2281716.24\n",
              "21    2042000.86\n",
              "22    1607549.21\n",
              "23    1179304.44\n",
              "Name: Sales, dtype: float64"
            ]
          },
          "metadata": {},
          "execution_count": 84
        }
      ]
    },
    {
      "cell_type": "code",
      "metadata": {
        "colab": {
          "base_uri": "https://localhost:8080/",
          "height": 290
        },
        "id": "E8LnOeozPwzg",
        "outputId": "fb7b6d62-7181-498e-b885-1868a8b94176"
      },
      "source": [
        "# visualization (diagram)\n",
        "\n",
        "hours=range(0,24)\n",
        "plt.bar(hours,df.groupby('Hour')['Sales'].sum())\n",
        "plt.xticks(hours)\n",
        "plt.xlabel ('Hour')\n",
        "plt.ylabel ('TURNOVER in USD')\n",
        "plt.show()"
      ],
      "execution_count": 85,
      "outputs": [
        {
          "output_type": "display_data",
          "data": {
            "image/png": "[encoded data removed]",
            "text/plain": [
              "<Figure size 432x288 with 1 Axes>"
            ]
          },
          "metadata": {
            "needs_background": "light"
          }
        }
      ]
    },
    {
      "cell_type": "markdown",
      "metadata": {
        "id": "EgML1PTEQXPU"
      },
      "source": [
        "From the diagram we can conclude that the best time to advertise : between 11:00 - 12:00 and 18:00 - 20:00."
      ]
    },
    {
      "cell_type": "markdown",
      "metadata": {
        "id": "RU-fplMsRGgL"
      },
      "source": [
        ""
      ]
    },
    {
      "cell_type": "markdown",
      "metadata": {
        "id": "k_59o_u7Ri6I"
      },
      "source": [
        "## **Q4.Which product sells the most? and why?**"
      ]
    },
    {
      "cell_type": "code",
      "metadata": {
        "colab": {
          "base_uri": "https://localhost:8080/",
          "height": 247
        },
        "id": "jz_ijyccR-RW",
        "outputId": "0773ea9d-8df6-4e3d-9779-687f75e35ba5"
      },
      "source": [
        "df.head(3)"
      ],
      "execution_count": 86,
      "outputs": [
        {
          "output_type": "execute_result",
          "data": {
            "text/html": [
              "<div>\n",
              "<style scoped>\n",
              "    .dataframe tbody tr th:only-of-type {\n",
              "        vertical-align: middle;\n",
              "    }\n",
              "\n",
              "    .dataframe tbody tr th {\n",
              "        vertical-align: top;\n",
              "    }\n",
              "\n",
              "    .dataframe thead th {\n",
              "        text-align: right;\n",
              "    }\n",
              "</style>\n",
              "<table border=\"1\" class=\"dataframe\">\n",
              "  <thead>\n",
              "    <tr style=\"text-align: right;\">\n",
              "      <th></th>\n",
              "      <th>Order ID</th>\n",
              "      <th>Product</th>\n",
              "      <th>Quantity Ordered</th>\n",
              "      <th>Price Each</th>\n",
              "      <th>Order Date</th>\n",
              "      <th>Purchase Address</th>\n",
              "      <th>Month</th>\n",
              "      <th>Sales</th>\n",
              "      <th>City</th>\n",
              "      <th>Hour</th>\n",
              "    </tr>\n",
              "  </thead>\n",
              "  <tbody>\n",
              "    <tr>\n",
              "      <th>0</th>\n",
              "      <td>248151</td>\n",
              "      <td>AA Batteries (4-pack)</td>\n",
              "      <td>4</td>\n",
              "      <td>3.84</td>\n",
              "      <td>09/17/19 14:44</td>\n",
              "      <td>380 North St, Los Angeles, CA 90001</td>\n",
              "      <td>9</td>\n",
              "      <td>15.36</td>\n",
              "      <td>Los Angeles</td>\n",
              "      <td>14</td>\n",
              "    </tr>\n",
              "    <tr>\n",
              "      <th>1</th>\n",
              "      <td>248152</td>\n",
              "      <td>USB-C Charging Cable</td>\n",
              "      <td>2</td>\n",
              "      <td>11.95</td>\n",
              "      <td>09/29/19 10:19</td>\n",
              "      <td>511 8th St, Austin, TX 73301</td>\n",
              "      <td>9</td>\n",
              "      <td>23.90</td>\n",
              "      <td>Austin</td>\n",
              "      <td>10</td>\n",
              "    </tr>\n",
              "    <tr>\n",
              "      <th>2</th>\n",
              "      <td>248153</td>\n",
              "      <td>USB-C Charging Cable</td>\n",
              "      <td>1</td>\n",
              "      <td>11.95</td>\n",
              "      <td>09/16/19 17:48</td>\n",
              "      <td>151 Johnson St, Los Angeles, CA 90001</td>\n",
              "      <td>9</td>\n",
              "      <td>11.95</td>\n",
              "      <td>Los Angeles</td>\n",
              "      <td>17</td>\n",
              "    </tr>\n",
              "  </tbody>\n",
              "</table>\n",
              "</div>"
            ],
            "text/plain": [
              "  Order ID                Product  Quantity Ordered  ...  Sales          City Hour\n",
              "0   248151  AA Batteries (4-pack)                 4  ...  15.36   Los Angeles   14\n",
              "1   248152   USB-C Charging Cable                 2  ...  23.90        Austin   10\n",
              "2   248153   USB-C Charging Cable                 1  ...  11.95   Los Angeles   17\n",
              "\n",
              "[3 rows x 10 columns]"
            ]
          },
          "metadata": {},
          "execution_count": 86
        }
      ]
    },
    {
      "cell_type": "code",
      "metadata": {
        "colab": {
          "base_uri": "https://localhost:8080/",
          "height": 439
        },
        "id": "5F3nj2hISa8x",
        "outputId": "15e42671-bc07-4c70-b3c0-8cc60e47dbb9"
      },
      "source": [
        "df.groupby('Product')['Quantity Ordered'].sum().plot(kind='bar')"
      ],
      "execution_count": 91,
      "outputs": [
        {
          "output_type": "execute_result",
          "data": {
            "text/plain": [
              "<matplotlib.axes._subplots.AxesSubplot at 0x7f5ac0286890>"
            ]
          },
          "metadata": {},
          "execution_count": 91
        },
        {
          "output_type": "display_data",
          "data": {
            "image/png": "[encoded data removed]",
            "text/plain": [
              "<Figure size 432x288 with 1 Axes>"
            ]
          },
          "metadata": {
            "needs_background": "light"
          }
        }
      ]
    },
    {
      "cell_type": "markdown",
      "metadata": {
        "id": "V5HeTGJfTtiG"
      },
      "source": [
        "From the diagram we can see the products taht sells the most.\n",
        "\n",
        "-  Next step: why these products sell the most?   "
      ]
    },
    {
      "cell_type": "code",
      "metadata": {
        "colab": {
          "base_uri": "https://localhost:8080/",
          "height": 439
        },
        "id": "STTHTIjEXK1v",
        "outputId": "2240366b-2223-4670-fd67-a8f937d61245"
      },
      "source": [
        "# The impact of prices.\n",
        "\n",
        "df.groupby('Product')['Price Each'].mean().plot(kind='bar')"
      ],
      "execution_count": 92,
      "outputs": [
        {
          "output_type": "execute_result",
          "data": {
            "text/plain": [
              "<matplotlib.axes._subplots.AxesSubplot at 0x7f5ac0081910>"
            ]
          },
          "metadata": {},
          "execution_count": 92
        },
        {
          "output_type": "display_data",
          "data": {
            "image/png": "[encoded data removed]",
            "text/plain": [
              "<Figure size 432x288 with 1 Axes>"
            ]
          },
          "metadata": {
            "needs_background": "light"
          }
        }
      ]
    },
    {
      "cell_type": "code",
      "metadata": {
        "colab": {
          "base_uri": "https://localhost:8080/",
          "height": 751
        },
        "id": "ka58VkgGY4Rd",
        "outputId": "383ed4cd-a8f0-4476-93c6-40b089d11077"
      },
      "source": [
        "# Visualization: the impact of the price on the prosucts\n",
        "Products=df.groupby('Product')['Quantity Ordered'].sum().index\n",
        "Quantity=df.groupby('Product')['Quantity Ordered'].sum()\n",
        "Prices=df.groupby('Product')['Price Each'].mean()\n",
        "plt.figure(figsize=(40,24))\n",
        "fig,ax1=plt.subplots()\n",
        "ax2=ax1.twinx()\n",
        "ax1.bar(Products,Quantity, color='g')\n",
        "ax2.plot(Products,Prices,'b-')\n",
        "ax1.set_xticklabels(Products,rotation='vertical',size=8)"
      ],
      "execution_count": 96,
      "outputs": [
        {
          "output_type": "execute_result",
          "data": {
            "text/plain": [
              "[Text(0, 0, '20in Monitor'),\n",
              " Text(0, 0, '27in 4K Gaming Monitor'),\n",
              " Text(0, 0, '27in FHD Monitor'),\n",
              " Text(0, 0, '34in Ultrawide Monitor'),\n",
              " Text(0, 0, 'AA Batteries (4-pack)'),\n",
              " Text(0, 0, 'AAA Batteries (4-pack)'),\n",
              " Text(0, 0, 'Apple Airpods Headphones'),\n",
              " Text(0, 0, 'Bose SoundSport Headphones'),\n",
              " Text(0, 0, 'Flatscreen TV'),\n",
              " Text(0, 0, 'Google Phone'),\n",
              " Text(0, 0, 'LG Dryer'),\n",
              " Text(0, 0, 'LG Washing Machine'),\n",
              " Text(0, 0, 'Lightning Charging Cable'),\n",
              " Text(0, 0, 'Macbook Pro Laptop'),\n",
              " Text(0, 0, 'ThinkPad Laptop'),\n",
              " Text(0, 0, 'USB-C Charging Cable'),\n",
              " Text(0, 0, 'Vareebadd Phone'),\n",
              " Text(0, 0, 'Wired Headphones'),\n",
              " Text(0, 0, 'iPhone')]"
            ]
          },
          "metadata": {},
          "execution_count": 96
        },
        {
          "output_type": "display_data",
          "data": {
            "text/plain": [
              "<Figure size 2880x1728 with 0 Axes>"
            ]
          },
          "metadata": {}
        },
        {
          "output_type": "display_data",
          "data": {
            "image/png": "[encoded data removed]",
            "text/plain": [
              "<Figure size 432x288 with 2 Axes>"
            ]
          },
          "metadata": {
            "needs_background": "light"
          }
        }
      ]
    },
    {
      "cell_type": "markdown",
      "metadata": {
        "id": "JxmSYhosaxUx"
      },
      "source": [
        "As we can see, the price plays an essential role, the cheaper products sell the most"
      ]
    }
  ]
}