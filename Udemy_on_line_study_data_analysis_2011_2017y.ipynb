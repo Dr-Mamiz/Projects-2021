{
  "cells": [
    {
      "cell_type": "markdown",
      "metadata": {
        "id": "view-in-github",
        "colab_type": "text"
      },
      "source": [
        "<a href=\"https://colab.research.google.com/github/Dr-Mamiz/Projects-Data-Analysis/blob/main/Bienvenue_dans_Colaboratory.ipynb\" target=\"_parent\"><img src=\"https://colab.research.google.com/assets/colab-badge.svg\" alt=\"Open In Colab\"/></a>"
      ]
    },
    {
      "cell_type": "markdown",
      "metadata": {
        "id": "5fCEDCU_qrC0"
      },
      "source": [
        "<p><img alt=\"Colaboratory logo\" height=\"45px\" src=\"/img/colab_favicon.ico\" align=\"left\" hspace=\"10px\" vspace=\"0px\"></p>\n",
        "\n",
        "<h1>Qu'est-ce que Colaboratory ?</h1>\n",
        "\n",
        "Colaboratory, souvent raccourci en \"Colab\", vous permet d'écrire et d'exécuter du code Python dans votre navigateur. Il offre les avantages suivants :\n",
        "- Aucune configuration requise\n",
        "- Accès gratuit aux GPU\n",
        "- Partage facile\n",
        "\n",
        "Que vous soyez <strong>étudiant</strong>, <strong>data scientist</strong> ou <strong>chercheur en IA</strong>, Colab peut vous simplifier la tâche. Regardez la <a href=\"https://www.youtube.com/watch?v=inN8seMm7UI\">présentation de Colab</a> pour en savoir plus ou commencez tout de suite."
      ]
    },
    {
      "cell_type": "markdown",
      "metadata": {
        "id": "GJBs_flRovLc"
      },
      "source": [
        "## <strong>Premiers pas</strong>\n",
        "\n",
        "Le document que vous consultez n'est pas une page Web statique, mais un environnement interactif appelé <strong>notebook Colab</strong>, qui vous permet d'écrire et d'exécuter du code.\n",
        "\n",
        "Voici par exemple une <strong>cellule de code</strong> avec un bref script en Python qui calcule une valeur, l'enregistre dans une variable et imprime le résultat :"
      ]
    },
    {
      "cell_type": "code",
      "execution_count": null,
      "metadata": {
        "colab": {
          "base_uri": "https://localhost:8080/",
          "height": 34
        },
        "id": "gJr_9dXGpJ05",
        "outputId": "9f556d03-ec67-4950-a485-cfdba9ddd14d"
      },
      "outputs": [
        {
          "data": {
            "text/plain": [
              "86400"
            ]
          },
          "execution_count": 0,
          "metadata": {
            "tags": []
          },
          "output_type": "execute_result"
        }
      ],
      "source": [
        "seconds_in_a_day = 24 * 60 * 60\n",
        "seconds_in_a_day"
      ]
    },
    {
      "cell_type": "markdown",
      "metadata": {
        "id": "2fhs6GZ4qFMx"
      },
      "source": [
        "Pour exécuter le code dans la cellule ci-dessus, sélectionnez-le en cliquant dessus, puis cliquez sur le bouton de lecture à gauche du code ou utilisez le raccourci clavier Commande/Ctrl+Entrée. Pour modifier le code, cliquez simplement sur la cellule.\n",
        "\n",
        "Les variables que vous définissez dans une cellule peuvent être utilisées par la suite dans d'autres cellules :"
      ]
    },
    {
      "cell_type": "code",
      "execution_count": null,
      "metadata": {
        "colab": {
          "base_uri": "https://localhost:8080/",
          "height": 34
        },
        "id": "-gE-Ez1qtyIA",
        "outputId": "94cb2224-0edf-457b-90b5-0ac3488d8a97"
      },
      "outputs": [
        {
          "data": {
            "text/plain": [
              "604800"
            ]
          },
          "execution_count": 0,
          "metadata": {
            "tags": []
          },
          "output_type": "execute_result"
        }
      ],
      "source": [
        "seconds_in_a_week = 7 * seconds_in_a_day\n",
        "seconds_in_a_week"
      ]
    },
    {
      "cell_type": "markdown",
      "metadata": {
        "id": "lSrWNr3MuFUS"
      },
      "source": [
        "Les notebooks Colab vous permettent d'utiliser, dans un même document, du <strong>code exécutable</strong>, du <strong>texte enrichi</strong>, des <strong>images</strong>, du code <strong>HTML</strong>, du code <strong>LaTeX</strong> et bien plus. Lorsque vous créez des notebooks Colab, ils sont enregistrés dans votre compte Google Drive. Vous pouvez facilement les partager avec vos collaborateurs ou vos amis, qui peuvent alors y apporter des commentaires ou même les modifier. Pour en savoir plus, consultez la page <a href=\"/notebooks/basic_features_overview.ipynb\">Présentation de Colaboratory</a>. Pour créer un notebook Colab, utilisez le menu \"Fichier\" ci-dessus ou le lien <a href=\"http://colab.research.google.com#create=true\">Créer un notebook Colab</a>.\n",
        "\n",
        "Les notebooks Colab sont des notebooks Jupyter hébergés par Colab. Pour en savoir plus sur le projet Jupyter, consultez le site Web <a href=\"https://www.jupyter.org\">jupyter.org</a>."
      ]
    },
    {
      "cell_type": "markdown",
      "metadata": {
        "id": "UdRyKR44dcNI"
      },
      "source": [
        "## Science des données\n",
        "\n",
        "Colab vous permet de tirer pleinement parti des bibliothèques populaires Python pour analyser et visualiser des données. La cellule de code ci-dessous utilise <strong>numpy</strong> pour générer des données aléatoires et <strong>matplotlib</strong> pour les visualiser. Pour modifier le code, cliquez simplement sur la cellule."
      ]
    },
    {
      "cell_type": "code",
      "execution_count": null,
      "metadata": {
        "colab": {
          "base_uri": "https://localhost:8080/",
          "height": 281
        },
        "id": "C4HZx7Gndbrh",
        "outputId": "46abc637-6abd-41b2-9bba-80a7ae992e06"
      },
      "outputs": [
        {
          "data": {
            "image/png": "[encoded data removed]",
            "text/plain": [
              "<Figure size 432x288 with 1 Axes>"
            ]
          },
          "metadata": {
            "tags": []
          },
          "output_type": "display_data"
        }
      ],
      "source": [
        "import numpy as np\n",
        "from matplotlib import pyplot as plt\n",
        "\n",
        "ys = 200 + np.random.randn(100)\n",
        "x = [x for x in range(len(ys))]\n",
        "\n",
        "plt.plot(x, ys, '-')\n",
        "plt.fill_between(x, ys, 195, where=(ys > 195), facecolor='g', alpha=0.6)\n",
        "\n",
        "plt.title(\"Sample Visualization\")\n",
        "plt.show()"
      ]
    },
    {
      "cell_type": "markdown",
      "metadata": {
        "id": "4_kCnsPUqS6o"
      },
      "source": [
        "Vous pouvez importer vos propres données dans les notebooks Colab depuis votre compte Google Drive, y compris depuis des feuilles de calcul, ainsi que depuis GitHub et de nombreuses autres sources. Pour en savoir plus sur l'importation de données et l'utilisation de Colab dans le domaine de la science des données, consultez les liens ci-dessous dans la section <a href=\"#working-with-data\">Utiliser les données</a>."
      ]
    },
    {
      "cell_type": "markdown",
      "metadata": {
        "id": "OwuxHmxllTwN"
      },
      "source": [
        "## Machine learning\n",
        "\n",
        "Colab vous permet d'importer un ensemble de données d'images, d'entraîner un classificateur d'images sur cet ensemble et d'évaluer le modèle, tout cela avec <a href=\"https://colab.research.google.com/github/tensorflow/docs/blob/master/site/en/tutorials/quickstart/beginner.ipynb\">quelques lignes de code</a>. Les notebooks Colab exécutent ce code sur les serveurs cloud de Google. Vous avez donc à votre disposition toute la puissance du matériel Google, y compris les <a href=\"#using-accelerated-hardware\">GPU et TPU</a>, quelle que soit la puissance de votre ordinateur. Vous n'avez besoin que d'un navigateur."
      ]
    },
    {
      "cell_type": "markdown",
      "metadata": {
        "id": "ufxBm1yRnruN"
      },
      "source": [
        "Colab est très largement utilisé par la communauté du machine learning, par exemple dans les applications suivantes :\n",
        "- Premiers pas avec TensorFlow\n",
        "- Développement et entraînement de réseaux de neurones\n",
        "- Expérimentation avec les TPU\n",
        "- Dissémination de la recherche en IA\n",
        "- Création de tutoriels\n",
        "\n",
        "Pour voir comment les notebooks Colab sont utilisés dans des applications de machine learning, reportez-vous aux <a href=\"#machine-learning-examples\">exemples de machine learning</a> ci-dessous."
      ]
    },
    {
      "cell_type": "markdown",
      "metadata": {
        "id": "-Rh3-Vt9Nev9"
      },
      "source": [
        "## Autres ressources\n",
        "\n",
        "### Utiliser les notebooks dans Colab\n",
        "- [Présentation de Colaboratory](/notebooks/basic_features_overview.ipynb)\n",
        "- [Guide de Markdown](/notebooks/markdown_guide.ipynb)\n",
        "- [Importer des bibliothèques et installer des dépendances](/notebooks/snippets/importing_libraries.ipynb)\n",
        "- [Enregistrer et charger des notebooks dans GitHub](https://colab.research.google.com/github/googlecolab/colabtools/blob/main/notebooks/colab-github-demo.ipynb)\n",
        "- [Formulaires interactifs](/notebooks/forms.ipynb)\n",
        "- [Widgets interactifs](/notebooks/widgets.ipynb)\n",
        "- <img src=\"/img/new.png\" height=\"20px\" align=\"left\" hspace=\"4px\" alt=\"New\"></img>\n",
        " [TensorFlow 2 dans Colab](/notebooks/tensorflow_version.ipynb)\n",
        "\n",
        "<a name=\"working-with-data\"></a>\n",
        "### Utiliser les données\n",
        "- [Chargement de données : Drive, Sheets et Google Cloud Storage](/notebooks/io.ipynb) \n",
        "- [Graphiques : visualiser les données](/notebooks/charts.ipynb)\n",
        "- [Premiers pas avec BigQuery](/notebooks/bigquery.ipynb)\n",
        "\n",
        "### Cours d'initiation au Machine Learning\n",
        "Vous trouverez ci-dessous quelques-uns des notebooks de la formation Google en ligne sur le machine learning. Consultez la <a href=\"https://developers.google.com/machine-learning/crash-course/\">formation complète en ligne</a> pour en savoir plus.\n",
        "- [Présentation du DataFrame pandas](https://colab.research.google.com/github/google/eng-edu/blob/main/ml/cc/exercises/pandas_dataframe_ultraquick_tutorial.ipynb)\n",
        "- [Régression linéaire avec tf.keras et des données synthétiques](https://colab.research.google.com/github/google/eng-edu/blob/main/ml/cc/exercises/linear_regression_with_synthetic_data.ipynb)\n",
        "\n",
        "\n",
        "<a name=\"using-accelerated-hardware\"></a>\n",
        "### Utiliser le matériel accéléré\n",
        "- [TensorFlow avec des GPU](/notebooks/gpu.ipynb)\n",
        "- [TensorFlow avec des TPU](/notebooks/tpu.ipynb)"
      ]
    },
    {
      "cell_type": "markdown",
      "metadata": {
        "id": "P-H6Lw1vyNNd"
      },
      "source": [
        "<a name=\"machine-learning-examples\"></a>\n",
        "\n",
        "## Exemples de machine learning\n",
        "\n",
        "Pour voir des exemples complets d'analyses interactives de machine learning rendues possibles par Colaboratory, consultez ces tutoriels utilisant des modèles issus de <a href=\"https://tfhub.dev\">TensorFlow Hub</a>.\n",
        "\n",
        "Voici quelques exemples :\n",
        "\n",
        "- <a href=\"https://tensorflow.org/hub/tutorials/tf2_image_retraining\">Recyclage d'un classificateur d'images</a> : construisez un modèle Keras sur un classificateur d'images pré-entraîné pour faire la distinction entre différentes fleurs.\n",
        "- <a href=\"https://tensorflow.org/hub/tutorials/tf2_text_classification\">Classification de texte</a> : classez des avis sur des films provenant de la base de données IMDB comme <em>positifs</em> ou <em>négatifs</em>.\n",
        "- <a href=\"https://tensorflow.org/hub/tutorials/tf2_arbitrary_image_stylization\">Transfert de style</a> : utilisez le deep learning pour transférer un style d'une image à une autre.\n",
        "- <a href=\"https://tensorflow.org/hub/tutorials/retrieval_with_tf_hub_universal_encoder_qa\">Questions/Réponses sur l'encodeur de phrases universel multilingue</a> : utilisez un modèle de machine learning afin de répondre aux questions issues de l'ensemble de données SQuAD.\n",
        "- <a href=\"https://tensorflow.org/hub/tutorials/tweening_conv3d\">Interpolation vidéo</a> : prédisez ce qui s'est passé entre la première et la dernière image d'une vidéo.\n"
      ]
    },
    {
      "cell_type": "markdown",
      "source": [
        "Udemy Courses Dataset is analyzed in a very Easy To Understand (ETU) language.\n",
        "\n",
        "In this project we use Python, a big data set sent by our client related to the Udemy Courses is taken and analyzed in a very Easy way To Understand (ETU) language.\n",
        "\n",
        "We start by cleaning our data. Tasks during this section include:\n",
        "\n",
        "Drop NaN values from DataFrame\n",
        "visualization\n",
        "Once we have cleaned up our data a bit, we move the data exploration section. In this section we explore, we analyze and answer question\n",
        "\n",
        "##TASK\n",
        "\n",
        "Q. 1) What are all different subjects for which Udemy is offering courses ?\n",
        "Q. 2) Which subject has the maximum number of courses.\n",
        "Q. 3) Show all the courses which are Free of Cost.\n",
        "Q. 4) Show all the courses which are Paid.\n",
        "Q. 5) Which are Top Selling Courses ?\n",
        "Q. 6) Which are Least Selling Courses ?\n",
        "Q. 7) Show all courses of Graphic Design where the price is below 100 ?\n",
        "Q. 8) List out all the courses that are related to 'Python'.\n",
        "Q. 9) What are courses that were published in the year 2015 ?\n",
        "Q. 10) What is the Max. Number of Subscribers for Each Level of courses ?"
      ],
      "metadata": {
        "id": "Zc6Eo9RHIQN9"
      }
    },
    {
      "cell_type": "markdown",
      "source": [
        "###Dataset:\n",
        "\n",
        "https://drive.google.com/file/d/1zglnQkX756nfySz9RT8V3p1R6-69RHmS/view\n",
        "\n",
        "Official site for Udemy:\n",
        "https://www.udemy.com/"
      ],
      "metadata": {
        "id": "jH_fTU2CJAi1"
      }
    },
    {
      "cell_type": "code",
      "source": [
        "# Import packages\n",
        "\n",
        "import pandas as pd\n",
        "import numpy as np\n",
        "import matplotlib.pyplot as plt\n",
        "import seaborn as sns"
      ],
      "metadata": {
        "id": "bphA4ewPJHhK"
      },
      "execution_count": 1,
      "outputs": []
    },
    {
      "cell_type": "code",
      "source": [
        "# Import dataset\n",
        "\n",
        "Udemy_data= pd.read_csv('/content/Big Data7. Udemy Courses.csv')"
      ],
      "metadata": {
        "id": "OrSCbAg5JR6a"
      },
      "execution_count": 2,
      "outputs": []
    },
    {
      "cell_type": "markdown",
      "source": [
        "Usually I copy the dataset as df, to have the the original one safe in case I need to reuse it.\n"
      ],
      "metadata": {
        "id": "VCSoSdbGJwLh"
      }
    },
    {
      "cell_type": "code",
      "source": [
        "# Copy of our dataset\n",
        "\n",
        "df=Udemy_data.copy()"
      ],
      "metadata": {
        "id": "efRCDG5vJ-qw"
      },
      "execution_count": 3,
      "outputs": []
    },
    {
      "cell_type": "markdown",
      "source": [
        "In this step we've to take a look to our dataset df and to undersand the meanig behind the numbers."
      ],
      "metadata": {
        "id": "604kty0XKioV"
      }
    },
    {
      "cell_type": "code",
      "source": [
        "#Analysing our dataset\n",
        "df.head(3)\n"
      ],
      "metadata": {
        "colab": {
          "base_uri": "https://localhost:8080/",
          "height": 319
        },
        "id": "RBrI5E0QLuaE",
        "outputId": "b080affb-9a70-4122-cb43-b53ac9bad98c"
      },
      "execution_count": 4,
      "outputs": [
        {
          "output_type": "execute_result",
          "data": {
            "text/html": [
              "<div>\n",
              "<style scoped>\n",
              "    .dataframe tbody tr th:only-of-type {\n",
              "        vertical-align: middle;\n",
              "    }\n",
              "\n",
              "    .dataframe tbody tr th {\n",
              "        vertical-align: top;\n",
              "    }\n",
              "\n",
              "    .dataframe thead th {\n",
              "        text-align: right;\n",
              "    }\n",
              "</style>\n",
              "<table border=\"1\" class=\"dataframe\">\n",
              "  <thead>\n",
              "    <tr style=\"text-align: right;\">\n",
              "      <th></th>\n",
              "      <th>course_id</th>\n",
              "      <th>course_title</th>\n",
              "      <th>is_paid</th>\n",
              "      <th>price</th>\n",
              "      <th>num_subscribers</th>\n",
              "      <th>num_reviews</th>\n",
              "      <th>num_lectures</th>\n",
              "      <th>level</th>\n",
              "      <th>content_duration</th>\n",
              "      <th>published_timestamp</th>\n",
              "      <th>subject</th>\n",
              "    </tr>\n",
              "  </thead>\n",
              "  <tbody>\n",
              "    <tr>\n",
              "      <th>0</th>\n",
              "      <td>288942</td>\n",
              "      <td>#1 Piano Hand Coordination: Play 10th Ballad i...</td>\n",
              "      <td>True</td>\n",
              "      <td>35</td>\n",
              "      <td>3137</td>\n",
              "      <td>18</td>\n",
              "      <td>68</td>\n",
              "      <td>All Levels</td>\n",
              "      <td>1.5 hours</td>\n",
              "      <td>2014-09-18T05:07:05Z</td>\n",
              "      <td>Musical Instruments</td>\n",
              "    </tr>\n",
              "    <tr>\n",
              "      <th>1</th>\n",
              "      <td>1170074</td>\n",
              "      <td>#10 Hand Coordination - Transfer Chord Ballad ...</td>\n",
              "      <td>True</td>\n",
              "      <td>75</td>\n",
              "      <td>1593</td>\n",
              "      <td>1</td>\n",
              "      <td>41</td>\n",
              "      <td>Intermediate Level</td>\n",
              "      <td>1 hour</td>\n",
              "      <td>2017-04-12T19:06:34Z</td>\n",
              "      <td>Musical Instruments</td>\n",
              "    </tr>\n",
              "    <tr>\n",
              "      <th>2</th>\n",
              "      <td>1193886</td>\n",
              "      <td>#12 Hand Coordination: Let your Hands dance wi...</td>\n",
              "      <td>True</td>\n",
              "      <td>75</td>\n",
              "      <td>482</td>\n",
              "      <td>1</td>\n",
              "      <td>47</td>\n",
              "      <td>Intermediate Level</td>\n",
              "      <td>1.5 hours</td>\n",
              "      <td>2017-04-26T18:34:57Z</td>\n",
              "      <td>Musical Instruments</td>\n",
              "    </tr>\n",
              "  </tbody>\n",
              "</table>\n",
              "</div>"
            ],
            "text/plain": [
              "   course_id  ...              subject\n",
              "0     288942  ...  Musical Instruments\n",
              "1    1170074  ...  Musical Instruments\n",
              "2    1193886  ...  Musical Instruments\n",
              "\n",
              "[3 rows x 11 columns]"
            ]
          },
          "metadata": {},
          "execution_count": 4
        }
      ]
    },
    {
      "cell_type": "markdown",
      "source": [
        "We check if we have missing data or N/A"
      ],
      "metadata": {
        "id": "EzvIx28ugzKz"
      }
    },
    {
      "cell_type": "code",
      "source": [
        "# the number of missing value in each colone\n",
        "df.isnull().sum()\n"
      ],
      "metadata": {
        "colab": {
          "base_uri": "https://localhost:8080/"
        },
        "id": "Bhhrnbs9Mr7p",
        "outputId": "59facd9f-f184-4150-f1d8-6e6c74a19654"
      },
      "execution_count": 5,
      "outputs": [
        {
          "output_type": "execute_result",
          "data": {
            "text/plain": [
              "course_id              0\n",
              "course_title           0\n",
              "is_paid                0\n",
              "price                  0\n",
              "num_subscribers        0\n",
              "num_reviews            0\n",
              "num_lectures           0\n",
              "level                  0\n",
              "content_duration       0\n",
              "published_timestamp    0\n",
              "subject                0\n",
              "dtype: int64"
            ]
          },
          "metadata": {},
          "execution_count": 5
        }
      ]
    },
    {
      "cell_type": "code",
      "source": [
        "# Checking if we have any weird values\n",
        "df.describe()"
      ],
      "metadata": {
        "colab": {
          "base_uri": "https://localhost:8080/",
          "height": 300
        },
        "id": "EycRMa3Pg_66",
        "outputId": "a6ca5c25-ff0d-49e5-a5b1-4160f0e75178"
      },
      "execution_count": 6,
      "outputs": [
        {
          "output_type": "execute_result",
          "data": {
            "text/html": [
              "<div>\n",
              "<style scoped>\n",
              "    .dataframe tbody tr th:only-of-type {\n",
              "        vertical-align: middle;\n",
              "    }\n",
              "\n",
              "    .dataframe tbody tr th {\n",
              "        vertical-align: top;\n",
              "    }\n",
              "\n",
              "    .dataframe thead th {\n",
              "        text-align: right;\n",
              "    }\n",
              "</style>\n",
              "<table border=\"1\" class=\"dataframe\">\n",
              "  <thead>\n",
              "    <tr style=\"text-align: right;\">\n",
              "      <th></th>\n",
              "      <th>course_id</th>\n",
              "      <th>num_subscribers</th>\n",
              "      <th>num_reviews</th>\n",
              "      <th>num_lectures</th>\n",
              "    </tr>\n",
              "  </thead>\n",
              "  <tbody>\n",
              "    <tr>\n",
              "      <th>count</th>\n",
              "      <td>3.682000e+03</td>\n",
              "      <td>3682.000000</td>\n",
              "      <td>3682.000000</td>\n",
              "      <td>3682.000000</td>\n",
              "    </tr>\n",
              "    <tr>\n",
              "      <th>mean</th>\n",
              "      <td>6.766121e+05</td>\n",
              "      <td>3194.230310</td>\n",
              "      <td>156.093156</td>\n",
              "      <td>40.065182</td>\n",
              "    </tr>\n",
              "    <tr>\n",
              "      <th>std</th>\n",
              "      <td>3.436355e+05</td>\n",
              "      <td>9499.378361</td>\n",
              "      <td>934.957204</td>\n",
              "      <td>50.373299</td>\n",
              "    </tr>\n",
              "    <tr>\n",
              "      <th>min</th>\n",
              "      <td>8.324000e+03</td>\n",
              "      <td>0.000000</td>\n",
              "      <td>0.000000</td>\n",
              "      <td>0.000000</td>\n",
              "    </tr>\n",
              "    <tr>\n",
              "      <th>25%</th>\n",
              "      <td>4.078430e+05</td>\n",
              "      <td>110.250000</td>\n",
              "      <td>4.000000</td>\n",
              "      <td>15.000000</td>\n",
              "    </tr>\n",
              "    <tr>\n",
              "      <th>50%</th>\n",
              "      <td>6.885580e+05</td>\n",
              "      <td>911.500000</td>\n",
              "      <td>18.000000</td>\n",
              "      <td>25.000000</td>\n",
              "    </tr>\n",
              "    <tr>\n",
              "      <th>75%</th>\n",
              "      <td>9.617515e+05</td>\n",
              "      <td>2540.250000</td>\n",
              "      <td>67.000000</td>\n",
              "      <td>45.000000</td>\n",
              "    </tr>\n",
              "    <tr>\n",
              "      <th>max</th>\n",
              "      <td>1.282064e+06</td>\n",
              "      <td>268923.000000</td>\n",
              "      <td>27445.000000</td>\n",
              "      <td>779.000000</td>\n",
              "    </tr>\n",
              "  </tbody>\n",
              "</table>\n",
              "</div>"
            ],
            "text/plain": [
              "          course_id  num_subscribers   num_reviews  num_lectures\n",
              "count  3.682000e+03      3682.000000   3682.000000   3682.000000\n",
              "mean   6.766121e+05      3194.230310    156.093156     40.065182\n",
              "std    3.436355e+05      9499.378361    934.957204     50.373299\n",
              "min    8.324000e+03         0.000000      0.000000      0.000000\n",
              "25%    4.078430e+05       110.250000      4.000000     15.000000\n",
              "50%    6.885580e+05       911.500000     18.000000     25.000000\n",
              "75%    9.617515e+05      2540.250000     67.000000     45.000000\n",
              "max    1.282064e+06    268923.000000  27445.000000    779.000000"
            ]
          },
          "metadata": {},
          "execution_count": 6
        }
      ]
    },
    {
      "cell_type": "code",
      "source": [
        "# Basic information about our dataset\n",
        "df.info()"
      ],
      "metadata": {
        "colab": {
          "base_uri": "https://localhost:8080/"
        },
        "id": "X807fT9VhUL3",
        "outputId": "e2a6a42a-f37c-47c6-ff45-a8ad7f316755"
      },
      "execution_count": 7,
      "outputs": [
        {
          "output_type": "stream",
          "name": "stdout",
          "text": [
            "<class 'pandas.core.frame.DataFrame'>\n",
            "RangeIndex: 3682 entries, 0 to 3681\n",
            "Data columns (total 11 columns):\n",
            " #   Column               Non-Null Count  Dtype \n",
            "---  ------               --------------  ----- \n",
            " 0   course_id            3682 non-null   int64 \n",
            " 1   course_title         3682 non-null   object\n",
            " 2   is_paid              3682 non-null   bool  \n",
            " 3   price                3682 non-null   object\n",
            " 4   num_subscribers      3682 non-null   int64 \n",
            " 5   num_reviews          3682 non-null   int64 \n",
            " 6   num_lectures         3682 non-null   int64 \n",
            " 7   level                3682 non-null   object\n",
            " 8   content_duration     3682 non-null   object\n",
            " 9   published_timestamp  3682 non-null   object\n",
            " 10  subject              3682 non-null   object\n",
            "dtypes: bool(1), int64(4), object(6)\n",
            "memory usage: 291.4+ KB\n"
          ]
        }
      ]
    },
    {
      "cell_type": "code",
      "source": [
        "df.dtypes"
      ],
      "metadata": {
        "colab": {
          "base_uri": "https://localhost:8080/"
        },
        "id": "PWLZP6JDiBXD",
        "outputId": "c2e6bbec-f8aa-4dbf-885e-83b54a954a05"
      },
      "execution_count": 8,
      "outputs": [
        {
          "output_type": "execute_result",
          "data": {
            "text/plain": [
              "course_id               int64\n",
              "course_title           object\n",
              "is_paid                  bool\n",
              "price                  object\n",
              "num_subscribers         int64\n",
              "num_reviews             int64\n",
              "num_lectures            int64\n",
              "level                  object\n",
              "content_duration       object\n",
              "published_timestamp    object\n",
              "subject                object\n",
              "dtype: object"
            ]
          },
          "metadata": {},
          "execution_count": 8
        }
      ]
    },
    {
      "cell_type": "markdown",
      "source": [
        "We check the dtypes for the colomn 'price'"
      ],
      "metadata": {
        "id": "mPTIqMWCo8M6"
      }
    },
    {
      "cell_type": "code",
      "source": [
        "df['price'].value_counts()"
      ],
      "metadata": {
        "colab": {
          "base_uri": "https://localhost:8080/"
        },
        "id": "i6B90aPBneUn",
        "outputId": "d24c8f13-d501-4cb1-a302-0b916176d5bd"
      },
      "execution_count": 9,
      "outputs": [
        {
          "output_type": "execute_result",
          "data": {
            "text/plain": [
              "20      830\n",
              "50      468\n",
              "Free    310\n",
              "200     295\n",
              "40      217\n",
              "30      170\n",
              "25      154\n",
              "95      152\n",
              "100     133\n",
              "195     127\n",
              "35      116\n",
              "150      88\n",
              "45       83\n",
              "75       81\n",
              "60       75\n",
              "120      37\n",
              "55       35\n",
              "85       31\n",
              "65       30\n",
              "125      30\n",
              "80       29\n",
              "145      27\n",
              "70       26\n",
              "90       19\n",
              "180      17\n",
              "115      16\n",
              "175      13\n",
              "105      11\n",
              "140      10\n",
              "190      10\n",
              "110       8\n",
              "135       8\n",
              "165       6\n",
              "185       6\n",
              "170       5\n",
              "160       4\n",
              "130       3\n",
              "155       2\n",
              "Name: price, dtype: int64"
            ]
          },
          "metadata": {},
          "execution_count": 9
        }
      ]
    },
    {
      "cell_type": "markdown",
      "source": [
        "##TASK\n",
        " "
      ],
      "metadata": {
        "id": "wPGqJPY2pXJp"
      }
    },
    {
      "cell_type": "code",
      "source": [
        "#Q. 1) What are all different subjects for which Udemy is offering courses ?\n",
        "\n",
        "df['subject'].value_counts()"
      ],
      "metadata": {
        "colab": {
          "base_uri": "https://localhost:8080/"
        },
        "id": "RyAjJ4ERpbmT",
        "outputId": "d04b25cb-6ee1-4bb1-af96-ee5ed471bcbb"
      },
      "execution_count": 10,
      "outputs": [
        {
          "output_type": "execute_result",
          "data": {
            "text/plain": [
              "Web Development        1200\n",
              "Business Finance       1199\n",
              "Musical Instruments     680\n",
              "Graphic Design          603\n",
              "Name: subject, dtype: int64"
            ]
          },
          "metadata": {},
          "execution_count": 10
        }
      ]
    },
    {
      "cell_type": "markdown",
      "source": [
        "The different subjects propose by Udemy are:\n",
        "\n",
        "*   -Musical Instruments\n",
        "*   -Business Finance\n",
        "*   -Graphic Design\n",
        "*   -Web Development\n"
      ],
      "metadata": {
        "id": "U-qX4eros8EB"
      }
    },
    {
      "cell_type": "code",
      "source": [
        "# Also we can confirm the different subjects by Udemy\n",
        "\n",
        "df.subject.unique()"
      ],
      "metadata": {
        "colab": {
          "base_uri": "https://localhost:8080/"
        },
        "id": "IQhgLcRYsYJS",
        "outputId": "0cb6c834-c90b-49c1-e22e-5b6280f53e0f"
      },
      "execution_count": 11,
      "outputs": [
        {
          "output_type": "execute_result",
          "data": {
            "text/plain": [
              "array(['Musical Instruments', 'Business Finance', 'Graphic Design',\n",
              "       'Web Development'], dtype=object)"
            ]
          },
          "metadata": {},
          "execution_count": 11
        }
      ]
    },
    {
      "cell_type": "code",
      "source": [
        "#Q. 2) Which subject has the maximum number of courses.\n",
        "df['subject'].value_counts()\n"
      ],
      "metadata": {
        "colab": {
          "base_uri": "https://localhost:8080/"
        },
        "id": "G9ZedYJwurLU",
        "outputId": "0d185a16-f720-47bc-c06f-d992607edb14"
      },
      "execution_count": 12,
      "outputs": [
        {
          "output_type": "execute_result",
          "data": {
            "text/plain": [
              "Web Development        1200\n",
              "Business Finance       1199\n",
              "Musical Instruments     680\n",
              "Graphic Design          603\n",
              "Name: subject, dtype: int64"
            ]
          },
          "metadata": {},
          "execution_count": 12
        }
      ]
    },
    {
      "cell_type": "markdown",
      "source": [
        "\n",
        "### We can see that the subject Web Development with 1200 has the maximum number of courses, in the same time the subject Graphic Design has the minimum num of courses with603 courses only. "
      ],
      "metadata": {
        "id": "I7wWXaHAwFsM"
      }
    },
    {
      "cell_type": "code",
      "source": [
        "#Q. 3) Show all the courses which are Free of Cost. \n",
        "\n",
        "df[df.is_paid ==False]\n"
      ],
      "metadata": {
        "colab": {
          "base_uri": "https://localhost:8080/",
          "height": 929
        },
        "id": "OdAH7x_5wQhE",
        "outputId": "e1f5891f-c758-4525-e225-446918fa1478"
      },
      "execution_count": 13,
      "outputs": [
        {
          "output_type": "execute_result",
          "data": {
            "text/html": [
              "<div>\n",
              "<style scoped>\n",
              "    .dataframe tbody tr th:only-of-type {\n",
              "        vertical-align: middle;\n",
              "    }\n",
              "\n",
              "    .dataframe tbody tr th {\n",
              "        vertical-align: top;\n",
              "    }\n",
              "\n",
              "    .dataframe thead th {\n",
              "        text-align: right;\n",
              "    }\n",
              "</style>\n",
              "<table border=\"1\" class=\"dataframe\">\n",
              "  <thead>\n",
              "    <tr style=\"text-align: right;\">\n",
              "      <th></th>\n",
              "      <th>course_id</th>\n",
              "      <th>course_title</th>\n",
              "      <th>is_paid</th>\n",
              "      <th>price</th>\n",
              "      <th>num_subscribers</th>\n",
              "      <th>num_reviews</th>\n",
              "      <th>num_lectures</th>\n",
              "      <th>level</th>\n",
              "      <th>content_duration</th>\n",
              "      <th>published_timestamp</th>\n",
              "      <th>subject</th>\n",
              "    </tr>\n",
              "  </thead>\n",
              "  <tbody>\n",
              "    <tr>\n",
              "      <th>41</th>\n",
              "      <td>286070</td>\n",
              "      <td>5 lecciones que todo guitarrista debe tomar</td>\n",
              "      <td>False</td>\n",
              "      <td>Free</td>\n",
              "      <td>4452</td>\n",
              "      <td>263</td>\n",
              "      <td>14</td>\n",
              "      <td>Beginner Level</td>\n",
              "      <td>1 hour</td>\n",
              "      <td>2014-08-23T05:08:14Z</td>\n",
              "      <td>Musical Instruments</td>\n",
              "    </tr>\n",
              "    <tr>\n",
              "      <th>49</th>\n",
              "      <td>696630</td>\n",
              "      <td>7 Ways A Beginner Guitarist Can Sound Better, ...</td>\n",
              "      <td>False</td>\n",
              "      <td>Free</td>\n",
              "      <td>4529</td>\n",
              "      <td>193</td>\n",
              "      <td>7</td>\n",
              "      <td>Beginner Level</td>\n",
              "      <td>36 mins</td>\n",
              "      <td>2015-12-21T18:50:50Z</td>\n",
              "      <td>Musical Instruments</td>\n",
              "    </tr>\n",
              "    <tr>\n",
              "      <th>57</th>\n",
              "      <td>955914</td>\n",
              "      <td>A beginner`s guide to fingerpicking and strumm...</td>\n",
              "      <td>False</td>\n",
              "      <td>Free</td>\n",
              "      <td>3481</td>\n",
              "      <td>29</td>\n",
              "      <td>20</td>\n",
              "      <td>Beginner Level</td>\n",
              "      <td>2 hours</td>\n",
              "      <td>2016-09-13T21:51:59Z</td>\n",
              "      <td>Musical Instruments</td>\n",
              "    </tr>\n",
              "    <tr>\n",
              "      <th>67</th>\n",
              "      <td>270976</td>\n",
              "      <td>A how to guide in HTML</td>\n",
              "      <td>False</td>\n",
              "      <td>Free</td>\n",
              "      <td>7318</td>\n",
              "      <td>205</td>\n",
              "      <td>8</td>\n",
              "      <td>Beginner Level</td>\n",
              "      <td>35 mins</td>\n",
              "      <td>2014-08-10T20:19:10Z</td>\n",
              "      <td>Web Development</td>\n",
              "    </tr>\n",
              "    <tr>\n",
              "      <th>74</th>\n",
              "      <td>1214144</td>\n",
              "      <td>¡Triunfar en La Bolsa de Valores No Requiere d...</td>\n",
              "      <td>False</td>\n",
              "      <td>Free</td>\n",
              "      <td>338</td>\n",
              "      <td>7</td>\n",
              "      <td>6</td>\n",
              "      <td>Beginner Level</td>\n",
              "      <td>1 hour</td>\n",
              "      <td>2017-05-30T14:30:12Z</td>\n",
              "      <td>Business Finance</td>\n",
              "    </tr>\n",
              "    <tr>\n",
              "      <th>...</th>\n",
              "      <td>...</td>\n",
              "      <td>...</td>\n",
              "      <td>...</td>\n",
              "      <td>...</td>\n",
              "      <td>...</td>\n",
              "      <td>...</td>\n",
              "      <td>...</td>\n",
              "      <td>...</td>\n",
              "      <td>...</td>\n",
              "      <td>...</td>\n",
              "      <td>...</td>\n",
              "    </tr>\n",
              "    <tr>\n",
              "      <th>3620</th>\n",
              "      <td>552598</td>\n",
              "      <td>WordPress in under an hour - Create/manage you...</td>\n",
              "      <td>False</td>\n",
              "      <td>Free</td>\n",
              "      <td>6474</td>\n",
              "      <td>86</td>\n",
              "      <td>15</td>\n",
              "      <td>All Levels</td>\n",
              "      <td>1 hour</td>\n",
              "      <td>2015-07-15T00:21:56Z</td>\n",
              "      <td>Web Development</td>\n",
              "    </tr>\n",
              "    <tr>\n",
              "      <th>3638</th>\n",
              "      <td>1068590</td>\n",
              "      <td>Wordpress Website Mastery 2017</td>\n",
              "      <td>False</td>\n",
              "      <td>Free</td>\n",
              "      <td>5181</td>\n",
              "      <td>64</td>\n",
              "      <td>22</td>\n",
              "      <td>Beginner Level</td>\n",
              "      <td>2.5 hours</td>\n",
              "      <td>2017-01-18T17:01:40Z</td>\n",
              "      <td>Web Development</td>\n",
              "    </tr>\n",
              "    <tr>\n",
              "      <th>3652</th>\n",
              "      <td>752706</td>\n",
              "      <td>Write quicker HTML5 and CSS 3; productivity ha...</td>\n",
              "      <td>False</td>\n",
              "      <td>Free</td>\n",
              "      <td>13016</td>\n",
              "      <td>286</td>\n",
              "      <td>15</td>\n",
              "      <td>All Levels</td>\n",
              "      <td>1.5 hours</td>\n",
              "      <td>2016-03-03T17:45:31Z</td>\n",
              "      <td>Web Development</td>\n",
              "    </tr>\n",
              "    <tr>\n",
              "      <th>3674</th>\n",
              "      <td>1257976</td>\n",
              "      <td>Your First 10 Guitar Lessons - Learn how to pl...</td>\n",
              "      <td>False</td>\n",
              "      <td>Free</td>\n",
              "      <td>924</td>\n",
              "      <td>4</td>\n",
              "      <td>18</td>\n",
              "      <td>Beginner Level</td>\n",
              "      <td>1 hour</td>\n",
              "      <td>2017-06-29T00:29:36Z</td>\n",
              "      <td>Musical Instruments</td>\n",
              "    </tr>\n",
              "    <tr>\n",
              "      <th>3680</th>\n",
              "      <td>1225194</td>\n",
              "      <td>Zoho Books Gestion Financière d'Entreprise pas...</td>\n",
              "      <td>False</td>\n",
              "      <td>Free</td>\n",
              "      <td>229</td>\n",
              "      <td>0</td>\n",
              "      <td>33</td>\n",
              "      <td>All Levels</td>\n",
              "      <td>2 hours</td>\n",
              "      <td>2017-05-26T16:45:55Z</td>\n",
              "      <td>Business Finance</td>\n",
              "    </tr>\n",
              "  </tbody>\n",
              "</table>\n",
              "<p>310 rows × 11 columns</p>\n",
              "</div>"
            ],
            "text/plain": [
              "      course_id  ...              subject\n",
              "41       286070  ...  Musical Instruments\n",
              "49       696630  ...  Musical Instruments\n",
              "57       955914  ...  Musical Instruments\n",
              "67       270976  ...      Web Development\n",
              "74      1214144  ...     Business Finance\n",
              "...         ...  ...                  ...\n",
              "3620     552598  ...      Web Development\n",
              "3638    1068590  ...      Web Development\n",
              "3652     752706  ...      Web Development\n",
              "3674    1257976  ...  Musical Instruments\n",
              "3680    1225194  ...     Business Finance\n",
              "\n",
              "[310 rows x 11 columns]"
            ]
          },
          "metadata": {},
          "execution_count": 13
        }
      ]
    },
    {
      "cell_type": "code",
      "source": [
        "#4) Show all the courses which are Paid\n",
        "df[df.is_paid ==True]"
      ],
      "metadata": {
        "colab": {
          "base_uri": "https://localhost:8080/",
          "height": 981
        },
        "id": "3-yy3ehLzago",
        "outputId": "b72de5c8-133a-45e8-efbe-36fff114d9de"
      },
      "execution_count": 14,
      "outputs": [
        {
          "output_type": "execute_result",
          "data": {
            "text/html": [
              "<div>\n",
              "<style scoped>\n",
              "    .dataframe tbody tr th:only-of-type {\n",
              "        vertical-align: middle;\n",
              "    }\n",
              "\n",
              "    .dataframe tbody tr th {\n",
              "        vertical-align: top;\n",
              "    }\n",
              "\n",
              "    .dataframe thead th {\n",
              "        text-align: right;\n",
              "    }\n",
              "</style>\n",
              "<table border=\"1\" class=\"dataframe\">\n",
              "  <thead>\n",
              "    <tr style=\"text-align: right;\">\n",
              "      <th></th>\n",
              "      <th>course_id</th>\n",
              "      <th>course_title</th>\n",
              "      <th>is_paid</th>\n",
              "      <th>price</th>\n",
              "      <th>num_subscribers</th>\n",
              "      <th>num_reviews</th>\n",
              "      <th>num_lectures</th>\n",
              "      <th>level</th>\n",
              "      <th>content_duration</th>\n",
              "      <th>published_timestamp</th>\n",
              "      <th>subject</th>\n",
              "    </tr>\n",
              "  </thead>\n",
              "  <tbody>\n",
              "    <tr>\n",
              "      <th>0</th>\n",
              "      <td>288942</td>\n",
              "      <td>#1 Piano Hand Coordination: Play 10th Ballad i...</td>\n",
              "      <td>True</td>\n",
              "      <td>35</td>\n",
              "      <td>3137</td>\n",
              "      <td>18</td>\n",
              "      <td>68</td>\n",
              "      <td>All Levels</td>\n",
              "      <td>1.5 hours</td>\n",
              "      <td>2014-09-18T05:07:05Z</td>\n",
              "      <td>Musical Instruments</td>\n",
              "    </tr>\n",
              "    <tr>\n",
              "      <th>1</th>\n",
              "      <td>1170074</td>\n",
              "      <td>#10 Hand Coordination - Transfer Chord Ballad ...</td>\n",
              "      <td>True</td>\n",
              "      <td>75</td>\n",
              "      <td>1593</td>\n",
              "      <td>1</td>\n",
              "      <td>41</td>\n",
              "      <td>Intermediate Level</td>\n",
              "      <td>1 hour</td>\n",
              "      <td>2017-04-12T19:06:34Z</td>\n",
              "      <td>Musical Instruments</td>\n",
              "    </tr>\n",
              "    <tr>\n",
              "      <th>2</th>\n",
              "      <td>1193886</td>\n",
              "      <td>#12 Hand Coordination: Let your Hands dance wi...</td>\n",
              "      <td>True</td>\n",
              "      <td>75</td>\n",
              "      <td>482</td>\n",
              "      <td>1</td>\n",
              "      <td>47</td>\n",
              "      <td>Intermediate Level</td>\n",
              "      <td>1.5 hours</td>\n",
              "      <td>2017-04-26T18:34:57Z</td>\n",
              "      <td>Musical Instruments</td>\n",
              "    </tr>\n",
              "    <tr>\n",
              "      <th>3</th>\n",
              "      <td>1116700</td>\n",
              "      <td>#4 Piano Hand Coordination: Fun Piano Runs in ...</td>\n",
              "      <td>True</td>\n",
              "      <td>75</td>\n",
              "      <td>850</td>\n",
              "      <td>3</td>\n",
              "      <td>43</td>\n",
              "      <td>Intermediate Level</td>\n",
              "      <td>1 hour</td>\n",
              "      <td>2017-02-21T23:48:18Z</td>\n",
              "      <td>Musical Instruments</td>\n",
              "    </tr>\n",
              "    <tr>\n",
              "      <th>4</th>\n",
              "      <td>1120410</td>\n",
              "      <td>#5  Piano Hand Coordination:  Piano Runs in 2 ...</td>\n",
              "      <td>True</td>\n",
              "      <td>75</td>\n",
              "      <td>940</td>\n",
              "      <td>3</td>\n",
              "      <td>32</td>\n",
              "      <td>Intermediate Level</td>\n",
              "      <td>37 mins</td>\n",
              "      <td>2017-02-21T23:44:49Z</td>\n",
              "      <td>Musical Instruments</td>\n",
              "    </tr>\n",
              "    <tr>\n",
              "      <th>...</th>\n",
              "      <td>...</td>\n",
              "      <td>...</td>\n",
              "      <td>...</td>\n",
              "      <td>...</td>\n",
              "      <td>...</td>\n",
              "      <td>...</td>\n",
              "      <td>...</td>\n",
              "      <td>...</td>\n",
              "      <td>...</td>\n",
              "      <td>...</td>\n",
              "      <td>...</td>\n",
              "    </tr>\n",
              "    <tr>\n",
              "      <th>3676</th>\n",
              "      <td>498488</td>\n",
              "      <td>Your First Successful Forex Trades - With Case...</td>\n",
              "      <td>True</td>\n",
              "      <td>200</td>\n",
              "      <td>1079</td>\n",
              "      <td>34</td>\n",
              "      <td>16</td>\n",
              "      <td>All Levels</td>\n",
              "      <td>2.5 hours</td>\n",
              "      <td>2015-05-26T20:48:48Z</td>\n",
              "      <td>Business Finance</td>\n",
              "    </tr>\n",
              "    <tr>\n",
              "      <th>3677</th>\n",
              "      <td>328960</td>\n",
              "      <td>Your Own Site in 45 Min: The Complete Wordpres...</td>\n",
              "      <td>True</td>\n",
              "      <td>120</td>\n",
              "      <td>1566</td>\n",
              "      <td>29</td>\n",
              "      <td>36</td>\n",
              "      <td>All Levels</td>\n",
              "      <td>4 hours</td>\n",
              "      <td>2015-04-20T22:15:17Z</td>\n",
              "      <td>Web Development</td>\n",
              "    </tr>\n",
              "    <tr>\n",
              "      <th>3678</th>\n",
              "      <td>552700</td>\n",
              "      <td>Your Second Course on Piano: Two Handed Playing</td>\n",
              "      <td>True</td>\n",
              "      <td>70</td>\n",
              "      <td>1018</td>\n",
              "      <td>12</td>\n",
              "      <td>22</td>\n",
              "      <td>Beginner Level</td>\n",
              "      <td>5 hours</td>\n",
              "      <td>2015-10-26T20:04:21Z</td>\n",
              "      <td>Musical Instruments</td>\n",
              "    </tr>\n",
              "    <tr>\n",
              "      <th>3679</th>\n",
              "      <td>631754</td>\n",
              "      <td>Zend Framework 2: Learn the PHP framework ZF2 ...</td>\n",
              "      <td>True</td>\n",
              "      <td>40</td>\n",
              "      <td>723</td>\n",
              "      <td>130</td>\n",
              "      <td>37</td>\n",
              "      <td>All Levels</td>\n",
              "      <td>6.5 hours</td>\n",
              "      <td>2015-11-11T18:55:45Z</td>\n",
              "      <td>Web Development</td>\n",
              "    </tr>\n",
              "    <tr>\n",
              "      <th>3681</th>\n",
              "      <td>964478</td>\n",
              "      <td>Zombie Apocalypse Photoshop Actions</td>\n",
              "      <td>True</td>\n",
              "      <td>50</td>\n",
              "      <td>12</td>\n",
              "      <td>1</td>\n",
              "      <td>15</td>\n",
              "      <td>All Levels</td>\n",
              "      <td>1.5 hours</td>\n",
              "      <td>2016-09-26T22:19:48Z</td>\n",
              "      <td>Graphic Design</td>\n",
              "    </tr>\n",
              "  </tbody>\n",
              "</table>\n",
              "<p>3372 rows × 11 columns</p>\n",
              "</div>"
            ],
            "text/plain": [
              "      course_id  ...              subject\n",
              "0        288942  ...  Musical Instruments\n",
              "1       1170074  ...  Musical Instruments\n",
              "2       1193886  ...  Musical Instruments\n",
              "3       1116700  ...  Musical Instruments\n",
              "4       1120410  ...  Musical Instruments\n",
              "...         ...  ...                  ...\n",
              "3676     498488  ...     Business Finance\n",
              "3677     328960  ...      Web Development\n",
              "3678     552700  ...  Musical Instruments\n",
              "3679     631754  ...      Web Development\n",
              "3681     964478  ...       Graphic Design\n",
              "\n",
              "[3372 rows x 11 columns]"
            ]
          },
          "metadata": {},
          "execution_count": 14
        }
      ]
    },
    {
      "cell_type": "markdown",
      "source": [
        "We have 310 Free courses and 3372 paid courses."
      ],
      "metadata": {
        "id": "lA1Ttt-8yjUV"
      }
    },
    {
      "cell_type": "code",
      "source": [
        "# 5) Which are Top Selling Courses ?\n",
        "# To find out the top selling courses, we've to find the courses with the best num_subscribers.\n",
        "# We check if all courses are different or there're some duplicate \n",
        "\n",
        "df['course_title'].value_counts()\n"
      ],
      "metadata": {
        "colab": {
          "base_uri": "https://localhost:8080/"
        },
        "id": "0Li_5gKTzQZy",
        "outputId": "1b01a354-88f1-42ba-9e84-93e458ad1cdc"
      },
      "execution_count": 15,
      "outputs": [
        {
          "output_type": "execute_result",
          "data": {
            "text/plain": [
              "Creating an animated greeting card via Google Slides        3\n",
              "Acoustic Blues Guitar Lessons                               3\n",
              "CFA Level 2- Quantitative Methods                           2\n",
              "Introduction to Forex Trading Business For Beginners        2\n",
              "Aprende a tocar el acordeón de botones                      2\n",
              "                                                           ..\n",
              "Angular 2 & TypeScript Beginner Web Development             1\n",
              "ASP.NET MVC 5 Project - Facebook Clone                      1\n",
              "Ultimate Guide To Trading Engulfing Candlestick Strategy    1\n",
              "Einnahmen aus Udemy-Kursen als Dozent korrekt versteuern    1\n",
              "HTML & CSS for beginners: Build 3 projects from scratch     1\n",
              "Name: course_title, Length: 3667, dtype: int64"
            ]
          },
          "metadata": {},
          "execution_count": 15
        }
      ]
    },
    {
      "cell_type": "markdown",
      "source": [
        "As we can see that we have some courses that's reapeting"
      ],
      "metadata": {
        "id": "oOlC3ZMg1fRG"
      }
    },
    {
      "cell_type": "code",
      "source": [
        "\n",
        "df.groupby(['course_title'])['num_subscribers'].max().sort_values(ascending= False)"
      ],
      "metadata": {
        "colab": {
          "base_uri": "https://localhost:8080/"
        },
        "id": "1Zzy3U5H2iEj",
        "outputId": "394ea2fb-a10c-48a8-de03-91ed4f88535e"
      },
      "execution_count": 16,
      "outputs": [
        {
          "output_type": "execute_result",
          "data": {
            "text/plain": [
              "course_title\n",
              "Learn HTML5 Programming From Scratch                      268923\n",
              "Coding for Entrepreneurs Basic                            161029\n",
              "The Web Developer Bootcamp                                121584\n",
              "Build Your First Website in 1 Week with HTML5 and CSS3    120291\n",
              "The Complete Web Developer Course 2.0                     114512\n",
              "                                                           ...  \n",
              "Accounting - The 6 most important rules you must learn         0\n",
              "Basic Bookkeeping                                              0\n",
              "Building a Balanced Scorecard                                  0\n",
              "Photoshop: Creando elemental de aire                           0\n",
              "Learn to trade using technical analysis                        0\n",
              "Name: num_subscribers, Length: 3667, dtype: int64"
            ]
          },
          "metadata": {},
          "execution_count": 16
        }
      ]
    },
    {
      "cell_type": "markdown",
      "source": [
        "The top 3 selling courses are : Learn HTML5 Programming From Scratch with 268923 subs, and Coding for Entrepreneurs Basic with 161029 subs, then The Web Developer Bootcamp with 121584 subs"
      ],
      "metadata": {
        "id": "p9ctKeAH32j2"
      }
    },
    {
      "cell_type": "code",
      "source": [
        "# 6) Which are Least Selling Courses ? \n",
        "\n",
        "df.sort_values('num_subscribers' , ascending = True )"
      ],
      "metadata": {
        "colab": {
          "base_uri": "https://localhost:8080/",
          "height": 825
        },
        "id": "joRl0azG4UBr",
        "outputId": "5ea0b57e-05b7-4ce0-a566-5ea630766eb6"
      },
      "execution_count": 17,
      "outputs": [
        {
          "output_type": "execute_result",
          "data": {
            "text/html": [
              "<div>\n",
              "<style scoped>\n",
              "    .dataframe tbody tr th:only-of-type {\n",
              "        vertical-align: middle;\n",
              "    }\n",
              "\n",
              "    .dataframe tbody tr th {\n",
              "        vertical-align: top;\n",
              "    }\n",
              "\n",
              "    .dataframe thead th {\n",
              "        text-align: right;\n",
              "    }\n",
              "</style>\n",
              "<table border=\"1\" class=\"dataframe\">\n",
              "  <thead>\n",
              "    <tr style=\"text-align: right;\">\n",
              "      <th></th>\n",
              "      <th>course_id</th>\n",
              "      <th>course_title</th>\n",
              "      <th>is_paid</th>\n",
              "      <th>price</th>\n",
              "      <th>num_subscribers</th>\n",
              "      <th>num_reviews</th>\n",
              "      <th>num_lectures</th>\n",
              "      <th>level</th>\n",
              "      <th>content_duration</th>\n",
              "      <th>published_timestamp</th>\n",
              "      <th>subject</th>\n",
              "    </tr>\n",
              "  </thead>\n",
              "  <tbody>\n",
              "    <tr>\n",
              "      <th>649</th>\n",
              "      <td>1233314</td>\n",
              "      <td>Building a Balanced Scorecard</td>\n",
              "      <td>True</td>\n",
              "      <td>50</td>\n",
              "      <td>0</td>\n",
              "      <td>0</td>\n",
              "      <td>11</td>\n",
              "      <td>Intermediate Level</td>\n",
              "      <td>2 hours</td>\n",
              "      <td>2017-07-03T21:38:22Z</td>\n",
              "      <td>Business Finance</td>\n",
              "    </tr>\n",
              "    <tr>\n",
              "      <th>3259</th>\n",
              "      <td>1232282</td>\n",
              "      <td>The Cash Flow Statement - An Introduction</td>\n",
              "      <td>True</td>\n",
              "      <td>50</td>\n",
              "      <td>0</td>\n",
              "      <td>0</td>\n",
              "      <td>10</td>\n",
              "      <td>Beginner Level</td>\n",
              "      <td>1.5 hours</td>\n",
              "      <td>2017-06-28T16:05:51Z</td>\n",
              "      <td>Business Finance</td>\n",
              "    </tr>\n",
              "    <tr>\n",
              "      <th>3261</th>\n",
              "      <td>1275872</td>\n",
              "      <td>The Complete Adobe Spark Course</td>\n",
              "      <td>True</td>\n",
              "      <td>150</td>\n",
              "      <td>0</td>\n",
              "      <td>0</td>\n",
              "      <td>29</td>\n",
              "      <td>All Levels</td>\n",
              "      <td>2 hours</td>\n",
              "      <td>2017-07-03T17:39:57Z</td>\n",
              "      <td>Graphic Design</td>\n",
              "    </tr>\n",
              "    <tr>\n",
              "      <th>910</th>\n",
              "      <td>726314</td>\n",
              "      <td>Create Beautiful Image Maps for Your Website</td>\n",
              "      <td>True</td>\n",
              "      <td>20</td>\n",
              "      <td>0</td>\n",
              "      <td>0</td>\n",
              "      <td>8</td>\n",
              "      <td>Intermediate Level</td>\n",
              "      <td>37 mins</td>\n",
              "      <td>2016-01-18T17:56:36Z</td>\n",
              "      <td>Graphic Design</td>\n",
              "    </tr>\n",
              "    <tr>\n",
              "      <th>3328</th>\n",
              "      <td>715476</td>\n",
              "      <td>The Cuckoo Strategy to get European Funding</td>\n",
              "      <td>True</td>\n",
              "      <td>160</td>\n",
              "      <td>0</td>\n",
              "      <td>0</td>\n",
              "      <td>6</td>\n",
              "      <td>All Levels</td>\n",
              "      <td>1 hour</td>\n",
              "      <td>2016-01-06T02:38:23Z</td>\n",
              "      <td>Business Finance</td>\n",
              "    </tr>\n",
              "    <tr>\n",
              "      <th>...</th>\n",
              "      <td>...</td>\n",
              "      <td>...</td>\n",
              "      <td>...</td>\n",
              "      <td>...</td>\n",
              "      <td>...</td>\n",
              "      <td>...</td>\n",
              "      <td>...</td>\n",
              "      <td>...</td>\n",
              "      <td>...</td>\n",
              "      <td>...</td>\n",
              "      <td>...</td>\n",
              "    </tr>\n",
              "    <tr>\n",
              "      <th>3316</th>\n",
              "      <td>764164</td>\n",
              "      <td>The Complete Web Developer Course 2.0</td>\n",
              "      <td>True</td>\n",
              "      <td>200</td>\n",
              "      <td>114512</td>\n",
              "      <td>22412</td>\n",
              "      <td>304</td>\n",
              "      <td>All Levels</td>\n",
              "      <td>30.5 hours</td>\n",
              "      <td>2016-03-08T22:28:36Z</td>\n",
              "      <td>Web Development</td>\n",
              "    </tr>\n",
              "    <tr>\n",
              "      <th>640</th>\n",
              "      <td>173548</td>\n",
              "      <td>Build Your First Website in 1 Week with HTML5 ...</td>\n",
              "      <td>False</td>\n",
              "      <td>Free</td>\n",
              "      <td>120291</td>\n",
              "      <td>5924</td>\n",
              "      <td>30</td>\n",
              "      <td>Beginner Level</td>\n",
              "      <td>3 hours</td>\n",
              "      <td>2014-04-08T16:21:30Z</td>\n",
              "      <td>Web Development</td>\n",
              "    </tr>\n",
              "    <tr>\n",
              "      <th>3385</th>\n",
              "      <td>625204</td>\n",
              "      <td>The Web Developer Bootcamp</td>\n",
              "      <td>True</td>\n",
              "      <td>200</td>\n",
              "      <td>121584</td>\n",
              "      <td>27445</td>\n",
              "      <td>342</td>\n",
              "      <td>All Levels</td>\n",
              "      <td>43 hours</td>\n",
              "      <td>2015-11-02T21:13:27Z</td>\n",
              "      <td>Web Development</td>\n",
              "    </tr>\n",
              "    <tr>\n",
              "      <th>776</th>\n",
              "      <td>59014</td>\n",
              "      <td>Coding for Entrepreneurs Basic</td>\n",
              "      <td>False</td>\n",
              "      <td>Free</td>\n",
              "      <td>161029</td>\n",
              "      <td>279</td>\n",
              "      <td>27</td>\n",
              "      <td>Beginner Level</td>\n",
              "      <td>3.5 hours</td>\n",
              "      <td>2013-06-09T15:51:55Z</td>\n",
              "      <td>Web Development</td>\n",
              "    </tr>\n",
              "    <tr>\n",
              "      <th>2230</th>\n",
              "      <td>41295</td>\n",
              "      <td>Learn HTML5 Programming From Scratch</td>\n",
              "      <td>False</td>\n",
              "      <td>Free</td>\n",
              "      <td>268923</td>\n",
              "      <td>8629</td>\n",
              "      <td>45</td>\n",
              "      <td>All Levels</td>\n",
              "      <td>10.5 hours</td>\n",
              "      <td>2013-02-14T07:03:41Z</td>\n",
              "      <td>Web Development</td>\n",
              "    </tr>\n",
              "  </tbody>\n",
              "</table>\n",
              "<p>3682 rows × 11 columns</p>\n",
              "</div>"
            ],
            "text/plain": [
              "      course_id  ...           subject\n",
              "649     1233314  ...  Business Finance\n",
              "3259    1232282  ...  Business Finance\n",
              "3261    1275872  ...    Graphic Design\n",
              "910      726314  ...    Graphic Design\n",
              "3328     715476  ...  Business Finance\n",
              "...         ...  ...               ...\n",
              "3316     764164  ...   Web Development\n",
              "640      173548  ...   Web Development\n",
              "3385     625204  ...   Web Development\n",
              "776       59014  ...   Web Development\n",
              "2230      41295  ...   Web Development\n",
              "\n",
              "[3682 rows x 11 columns]"
            ]
          },
          "metadata": {},
          "execution_count": 17
        }
      ]
    },
    {
      "cell_type": "markdown",
      "source": [
        "As we can see from the previous result, some of courses are without subscribers for example: \n",
        "\n",
        "*   Building a Balanced Scorecard\n",
        "*   The Cash Flow Statement - An Introduction\n",
        "*   The Complete Adobe Spark Course\n",
        "*   Create Beautiful Image Maps for Your Website\n",
        "The idea behind this question is to find out: Why this courses are not so popular?, and should we creat some publicity to grow up and popularize these courses.\n",
        "\n",
        "\n",
        "\n"
      ],
      "metadata": {
        "id": "XJAYdI9YHWLp"
      }
    },
    {
      "cell_type": "code",
      "source": [
        "#  Q. 7) Show all courses of Graphic Design where the price is below 100 ?\n",
        "\n",
        "df[(df['subject'] =='Graphic Design') & (df['price'] < '100')]\n"
      ],
      "metadata": {
        "colab": {
          "base_uri": "https://localhost:8080/",
          "height": 69
        },
        "id": "__sR7ZPtJP7o",
        "outputId": "ca016aee-bcf4-4fff-db17-28cd24598348"
      },
      "execution_count": 18,
      "outputs": [
        {
          "output_type": "execute_result",
          "data": {
            "text/html": [
              "<div>\n",
              "<style scoped>\n",
              "    .dataframe tbody tr th:only-of-type {\n",
              "        vertical-align: middle;\n",
              "    }\n",
              "\n",
              "    .dataframe tbody tr th {\n",
              "        vertical-align: top;\n",
              "    }\n",
              "\n",
              "    .dataframe thead th {\n",
              "        text-align: right;\n",
              "    }\n",
              "</style>\n",
              "<table border=\"1\" class=\"dataframe\">\n",
              "  <thead>\n",
              "    <tr style=\"text-align: right;\">\n",
              "      <th></th>\n",
              "      <th>course_id</th>\n",
              "      <th>course_title</th>\n",
              "      <th>is_paid</th>\n",
              "      <th>price</th>\n",
              "      <th>num_subscribers</th>\n",
              "      <th>num_reviews</th>\n",
              "      <th>num_lectures</th>\n",
              "      <th>level</th>\n",
              "      <th>content_duration</th>\n",
              "      <th>published_timestamp</th>\n",
              "      <th>subject</th>\n",
              "    </tr>\n",
              "  </thead>\n",
              "  <tbody>\n",
              "  </tbody>\n",
              "</table>\n",
              "</div>"
            ],
            "text/plain": [
              "Empty DataFrame\n",
              "Columns: [course_id, course_title, is_paid, price, num_subscribers, num_reviews, num_lectures, level, content_duration, published_timestamp, subject]\n",
              "Index: []"
            ]
          },
          "metadata": {},
          "execution_count": 18
        }
      ]
    },
    {
      "cell_type": "markdown",
      "source": [
        "No courses of the  Graphic Design where the price is below 100"
      ],
      "metadata": {
        "id": "oJGidvcdOdY_"
      }
    },
    {
      "cell_type": "code",
      "source": [
        "# Q. 8) List out all the courses that are related to 'Python'\n",
        "\n",
        "df[df['course_title'].str.contains('Python')]"
      ],
      "metadata": {
        "colab": {
          "base_uri": "https://localhost:8080/",
          "height": 1000
        },
        "id": "qyErJsK2Ohb_",
        "outputId": "bee97907-e1a9-416a-b86b-98789b121e24"
      },
      "execution_count": 19,
      "outputs": [
        {
          "output_type": "execute_result",
          "data": {
            "text/html": [
              "<div>\n",
              "<style scoped>\n",
              "    .dataframe tbody tr th:only-of-type {\n",
              "        vertical-align: middle;\n",
              "    }\n",
              "\n",
              "    .dataframe tbody tr th {\n",
              "        vertical-align: top;\n",
              "    }\n",
              "\n",
              "    .dataframe thead th {\n",
              "        text-align: right;\n",
              "    }\n",
              "</style>\n",
              "<table border=\"1\" class=\"dataframe\">\n",
              "  <thead>\n",
              "    <tr style=\"text-align: right;\">\n",
              "      <th></th>\n",
              "      <th>course_id</th>\n",
              "      <th>course_title</th>\n",
              "      <th>is_paid</th>\n",
              "      <th>price</th>\n",
              "      <th>num_subscribers</th>\n",
              "      <th>num_reviews</th>\n",
              "      <th>num_lectures</th>\n",
              "      <th>level</th>\n",
              "      <th>content_duration</th>\n",
              "      <th>published_timestamp</th>\n",
              "      <th>subject</th>\n",
              "    </tr>\n",
              "  </thead>\n",
              "  <tbody>\n",
              "    <tr>\n",
              "      <th>216</th>\n",
              "      <td>599504</td>\n",
              "      <td>Advanced Scalable Python Web Development Using...</td>\n",
              "      <td>True</td>\n",
              "      <td>120</td>\n",
              "      <td>1299</td>\n",
              "      <td>56</td>\n",
              "      <td>71</td>\n",
              "      <td>Intermediate Level</td>\n",
              "      <td>14 hours</td>\n",
              "      <td>2016-08-11T22:09:24Z</td>\n",
              "      <td>Web Development</td>\n",
              "    </tr>\n",
              "    <tr>\n",
              "      <th>777</th>\n",
              "      <td>47963</td>\n",
              "      <td>Coding for Entrepreneurs: Learn Python, Django...</td>\n",
              "      <td>True</td>\n",
              "      <td>195</td>\n",
              "      <td>23412</td>\n",
              "      <td>799</td>\n",
              "      <td>251</td>\n",
              "      <td>All Levels</td>\n",
              "      <td>45 hours</td>\n",
              "      <td>2013-04-08T00:46:14Z</td>\n",
              "      <td>Web Development</td>\n",
              "    </tr>\n",
              "    <tr>\n",
              "      <th>814</th>\n",
              "      <td>631128</td>\n",
              "      <td>Complete Python Web Course: Build 8 Python Web...</td>\n",
              "      <td>True</td>\n",
              "      <td>110</td>\n",
              "      <td>7489</td>\n",
              "      <td>941</td>\n",
              "      <td>173</td>\n",
              "      <td>All Levels</td>\n",
              "      <td>16 hours</td>\n",
              "      <td>2015-11-08T20:57:35Z</td>\n",
              "      <td>Web Development</td>\n",
              "    </tr>\n",
              "    <tr>\n",
              "      <th>842</th>\n",
              "      <td>186096</td>\n",
              "      <td>Core: A Web App Reference Guide for Django, Py...</td>\n",
              "      <td>True</td>\n",
              "      <td>195</td>\n",
              "      <td>2497</td>\n",
              "      <td>98</td>\n",
              "      <td>154</td>\n",
              "      <td>All Levels</td>\n",
              "      <td>26 hours</td>\n",
              "      <td>2014-05-29T00:58:43Z</td>\n",
              "      <td>Web Development</td>\n",
              "    </tr>\n",
              "    <tr>\n",
              "      <th>1400</th>\n",
              "      <td>394832</td>\n",
              "      <td>Fun and creative web engineering with Python a...</td>\n",
              "      <td>False</td>\n",
              "      <td>Free</td>\n",
              "      <td>10917</td>\n",
              "      <td>319</td>\n",
              "      <td>25</td>\n",
              "      <td>All Levels</td>\n",
              "      <td>2 hours</td>\n",
              "      <td>2015-06-09T19:51:50Z</td>\n",
              "      <td>Web Development</td>\n",
              "    </tr>\n",
              "    <tr>\n",
              "      <th>1932</th>\n",
              "      <td>1038538</td>\n",
              "      <td>Introduction to QGIS Python Programming</td>\n",
              "      <td>True</td>\n",
              "      <td>85</td>\n",
              "      <td>197</td>\n",
              "      <td>26</td>\n",
              "      <td>28</td>\n",
              "      <td>Beginner Level</td>\n",
              "      <td>3.5 hours</td>\n",
              "      <td>2016-12-22T00:11:22Z</td>\n",
              "      <td>Web Development</td>\n",
              "    </tr>\n",
              "    <tr>\n",
              "      <th>1969</th>\n",
              "      <td>902888</td>\n",
              "      <td>Investment Portfolio Analysis with Python</td>\n",
              "      <td>True</td>\n",
              "      <td>50</td>\n",
              "      <td>209</td>\n",
              "      <td>13</td>\n",
              "      <td>37</td>\n",
              "      <td>All Levels</td>\n",
              "      <td>7 hours</td>\n",
              "      <td>2016-07-13T21:40:32Z</td>\n",
              "      <td>Business Finance</td>\n",
              "    </tr>\n",
              "    <tr>\n",
              "      <th>2294</th>\n",
              "      <td>391546</td>\n",
              "      <td>Learn Python and Django: Payment Processing</td>\n",
              "      <td>True</td>\n",
              "      <td>70</td>\n",
              "      <td>17714</td>\n",
              "      <td>198</td>\n",
              "      <td>23</td>\n",
              "      <td>All Levels</td>\n",
              "      <td>3.5 hours</td>\n",
              "      <td>2015-02-09T15:37:56Z</td>\n",
              "      <td>Web Development</td>\n",
              "    </tr>\n",
              "    <tr>\n",
              "      <th>2295</th>\n",
              "      <td>1063722</td>\n",
              "      <td>Learn Python Django - A Hands-On Course</td>\n",
              "      <td>True</td>\n",
              "      <td>50</td>\n",
              "      <td>1339</td>\n",
              "      <td>21</td>\n",
              "      <td>18</td>\n",
              "      <td>Beginner Level</td>\n",
              "      <td>2 hours</td>\n",
              "      <td>2017-01-18T21:53:34Z</td>\n",
              "      <td>Web Development</td>\n",
              "    </tr>\n",
              "    <tr>\n",
              "      <th>2341</th>\n",
              "      <td>546848</td>\n",
              "      <td>Learn to code in Python and learn Adobe Photos...</td>\n",
              "      <td>True</td>\n",
              "      <td>50</td>\n",
              "      <td>1132</td>\n",
              "      <td>1</td>\n",
              "      <td>29</td>\n",
              "      <td>All Levels</td>\n",
              "      <td>2 hours</td>\n",
              "      <td>2015-07-08T00:15:12Z</td>\n",
              "      <td>Graphic Design</td>\n",
              "    </tr>\n",
              "    <tr>\n",
              "      <th>2906</th>\n",
              "      <td>368340</td>\n",
              "      <td>Professional Python Web Development Using Flask</td>\n",
              "      <td>True</td>\n",
              "      <td>120</td>\n",
              "      <td>3420</td>\n",
              "      <td>489</td>\n",
              "      <td>102</td>\n",
              "      <td>Beginner Level</td>\n",
              "      <td>14.5 hours</td>\n",
              "      <td>2015-03-04T00:10:36Z</td>\n",
              "      <td>Web Development</td>\n",
              "    </tr>\n",
              "    <tr>\n",
              "      <th>2908</th>\n",
              "      <td>1035940</td>\n",
              "      <td>Professional RESTful API Design using Python F...</td>\n",
              "      <td>True</td>\n",
              "      <td>120</td>\n",
              "      <td>578</td>\n",
              "      <td>25</td>\n",
              "      <td>36</td>\n",
              "      <td>Intermediate Level</td>\n",
              "      <td>4.5 hours</td>\n",
              "      <td>2017-01-11T21:15:25Z</td>\n",
              "      <td>Web Development</td>\n",
              "    </tr>\n",
              "    <tr>\n",
              "      <th>2929</th>\n",
              "      <td>270808</td>\n",
              "      <td>Projects in Django and Python</td>\n",
              "      <td>True</td>\n",
              "      <td>60</td>\n",
              "      <td>1764</td>\n",
              "      <td>53</td>\n",
              "      <td>28</td>\n",
              "      <td>All Levels</td>\n",
              "      <td>6.5 hours</td>\n",
              "      <td>2014-10-21T07:58:07Z</td>\n",
              "      <td>Web Development</td>\n",
              "    </tr>\n",
              "    <tr>\n",
              "      <th>2952</th>\n",
              "      <td>1170894</td>\n",
              "      <td>Python Algo Stock Trading: Automate Your Trading!</td>\n",
              "      <td>True</td>\n",
              "      <td>95</td>\n",
              "      <td>1165</td>\n",
              "      <td>21</td>\n",
              "      <td>41</td>\n",
              "      <td>Beginner Level</td>\n",
              "      <td>2.5 hours</td>\n",
              "      <td>2017-05-28T23:41:03Z</td>\n",
              "      <td>Business Finance</td>\n",
              "    </tr>\n",
              "    <tr>\n",
              "      <th>2953</th>\n",
              "      <td>1070886</td>\n",
              "      <td>Python Algo Trading: FX Trading with Oanda</td>\n",
              "      <td>True</td>\n",
              "      <td>200</td>\n",
              "      <td>453</td>\n",
              "      <td>42</td>\n",
              "      <td>33</td>\n",
              "      <td>Intermediate Level</td>\n",
              "      <td>3 hours</td>\n",
              "      <td>2017-03-14T00:39:45Z</td>\n",
              "      <td>Business Finance</td>\n",
              "    </tr>\n",
              "    <tr>\n",
              "      <th>2954</th>\n",
              "      <td>1196544</td>\n",
              "      <td>Python Algo Trading: Sentiment Trading with News</td>\n",
              "      <td>True</td>\n",
              "      <td>200</td>\n",
              "      <td>294</td>\n",
              "      <td>19</td>\n",
              "      <td>42</td>\n",
              "      <td>All Levels</td>\n",
              "      <td>7 hours</td>\n",
              "      <td>2017-04-28T16:41:44Z</td>\n",
              "      <td>Business Finance</td>\n",
              "    </tr>\n",
              "    <tr>\n",
              "      <th>2955</th>\n",
              "      <td>822444</td>\n",
              "      <td>Python and Django Full Stack Web Developer Boo...</td>\n",
              "      <td>True</td>\n",
              "      <td>200</td>\n",
              "      <td>11832</td>\n",
              "      <td>1883</td>\n",
              "      <td>191</td>\n",
              "      <td>All Levels</td>\n",
              "      <td>31.5 hours</td>\n",
              "      <td>2017-02-24T18:40:55Z</td>\n",
              "      <td>Web Development</td>\n",
              "    </tr>\n",
              "    <tr>\n",
              "      <th>2956</th>\n",
              "      <td>477702</td>\n",
              "      <td>Python for Beginners: Python Programming Langu...</td>\n",
              "      <td>True</td>\n",
              "      <td>150</td>\n",
              "      <td>6153</td>\n",
              "      <td>125</td>\n",
              "      <td>84</td>\n",
              "      <td>Beginner Level</td>\n",
              "      <td>5 hours</td>\n",
              "      <td>2015-06-14T18:18:57Z</td>\n",
              "      <td>Web Development</td>\n",
              "    </tr>\n",
              "    <tr>\n",
              "      <th>2957</th>\n",
              "      <td>1035472</td>\n",
              "      <td>Python for Finance: Investment Fundamentals &amp; ...</td>\n",
              "      <td>True</td>\n",
              "      <td>195</td>\n",
              "      <td>3811</td>\n",
              "      <td>278</td>\n",
              "      <td>103</td>\n",
              "      <td>All Levels</td>\n",
              "      <td>6.5 hours</td>\n",
              "      <td>2017-03-30T22:17:09Z</td>\n",
              "      <td>Business Finance</td>\n",
              "    </tr>\n",
              "    <tr>\n",
              "      <th>2958</th>\n",
              "      <td>529828</td>\n",
              "      <td>Python for Trading &amp; Investing</td>\n",
              "      <td>True</td>\n",
              "      <td>95</td>\n",
              "      <td>638</td>\n",
              "      <td>25</td>\n",
              "      <td>36</td>\n",
              "      <td>All Levels</td>\n",
              "      <td>5 hours</td>\n",
              "      <td>2015-06-17T22:23:31Z</td>\n",
              "      <td>Business Finance</td>\n",
              "    </tr>\n",
              "    <tr>\n",
              "      <th>2959</th>\n",
              "      <td>70640</td>\n",
              "      <td>Python Programming: Create an Digital Marketpl...</td>\n",
              "      <td>True</td>\n",
              "      <td>195</td>\n",
              "      <td>4198</td>\n",
              "      <td>145</td>\n",
              "      <td>161</td>\n",
              "      <td>All Levels</td>\n",
              "      <td>26 hours</td>\n",
              "      <td>2013-10-20T19:53:28Z</td>\n",
              "      <td>Web Development</td>\n",
              "    </tr>\n",
              "    <tr>\n",
              "      <th>2960</th>\n",
              "      <td>523312</td>\n",
              "      <td>Python Web Programming</td>\n",
              "      <td>True</td>\n",
              "      <td>100</td>\n",
              "      <td>1020</td>\n",
              "      <td>46</td>\n",
              "      <td>60</td>\n",
              "      <td>Beginner Level</td>\n",
              "      <td>6 hours</td>\n",
              "      <td>2015-07-01T21:46:36Z</td>\n",
              "      <td>Web Development</td>\n",
              "    </tr>\n",
              "    <tr>\n",
              "      <th>2962</th>\n",
              "      <td>1088656</td>\n",
              "      <td>Quantitative Trading Analysis with Python</td>\n",
              "      <td>True</td>\n",
              "      <td>50</td>\n",
              "      <td>256</td>\n",
              "      <td>17</td>\n",
              "      <td>49</td>\n",
              "      <td>All Levels</td>\n",
              "      <td>5.5 hours</td>\n",
              "      <td>2017-01-27T17:11:28Z</td>\n",
              "      <td>Business Finance</td>\n",
              "    </tr>\n",
              "    <tr>\n",
              "      <th>3013</th>\n",
              "      <td>970600</td>\n",
              "      <td>REST APIs with Flask and Python</td>\n",
              "      <td>True</td>\n",
              "      <td>110</td>\n",
              "      <td>5151</td>\n",
              "      <td>737</td>\n",
              "      <td>115</td>\n",
              "      <td>Intermediate Level</td>\n",
              "      <td>12.5 hours</td>\n",
              "      <td>2016-11-06T19:00:38Z</td>\n",
              "      <td>Web Development</td>\n",
              "    </tr>\n",
              "    <tr>\n",
              "      <th>3154</th>\n",
              "      <td>815482</td>\n",
              "      <td>Stock Technical Analysis with Python</td>\n",
              "      <td>True</td>\n",
              "      <td>50</td>\n",
              "      <td>409</td>\n",
              "      <td>35</td>\n",
              "      <td>46</td>\n",
              "      <td>All Levels</td>\n",
              "      <td>8 hours</td>\n",
              "      <td>2016-04-12T00:40:03Z</td>\n",
              "      <td>Business Finance</td>\n",
              "    </tr>\n",
              "    <tr>\n",
              "      <th>3272</th>\n",
              "      <td>938560</td>\n",
              "      <td>The Complete Ethical Hacking Course 2.0: Pytho...</td>\n",
              "      <td>True</td>\n",
              "      <td>195</td>\n",
              "      <td>7827</td>\n",
              "      <td>268</td>\n",
              "      <td>66</td>\n",
              "      <td>All Levels</td>\n",
              "      <td>11 hours</td>\n",
              "      <td>2016-09-26T15:08:29Z</td>\n",
              "      <td>Web Development</td>\n",
              "    </tr>\n",
              "    <tr>\n",
              "      <th>3460</th>\n",
              "      <td>76052</td>\n",
              "      <td>Try Django 1.9 | Build a Blog and Learn Python...</td>\n",
              "      <td>True</td>\n",
              "      <td>50</td>\n",
              "      <td>7407</td>\n",
              "      <td>172</td>\n",
              "      <td>147</td>\n",
              "      <td>All Levels</td>\n",
              "      <td>20 hours</td>\n",
              "      <td>2014-03-04T07:12:21Z</td>\n",
              "      <td>Web Development</td>\n",
              "    </tr>\n",
              "    <tr>\n",
              "      <th>3573</th>\n",
              "      <td>16646</td>\n",
              "      <td>Web Programming with Python</td>\n",
              "      <td>True</td>\n",
              "      <td>50</td>\n",
              "      <td>35267</td>\n",
              "      <td>217</td>\n",
              "      <td>53</td>\n",
              "      <td>All Levels</td>\n",
              "      <td>4 hours</td>\n",
              "      <td>2012-04-25T00:01:43Z</td>\n",
              "      <td>Web Development</td>\n",
              "    </tr>\n",
              "    <tr>\n",
              "      <th>3574</th>\n",
              "      <td>574082</td>\n",
              "      <td>Web Scraping with Python, Ruby &amp; import. io</td>\n",
              "      <td>True</td>\n",
              "      <td>75</td>\n",
              "      <td>973</td>\n",
              "      <td>50</td>\n",
              "      <td>46</td>\n",
              "      <td>All Levels</td>\n",
              "      <td>4.5 hours</td>\n",
              "      <td>2015-08-09T22:16:41Z</td>\n",
              "      <td>Web Development</td>\n",
              "    </tr>\n",
              "  </tbody>\n",
              "</table>\n",
              "</div>"
            ],
            "text/plain": [
              "      course_id  ...           subject\n",
              "216      599504  ...   Web Development\n",
              "777       47963  ...   Web Development\n",
              "814      631128  ...   Web Development\n",
              "842      186096  ...   Web Development\n",
              "1400     394832  ...   Web Development\n",
              "1932    1038538  ...   Web Development\n",
              "1969     902888  ...  Business Finance\n",
              "2294     391546  ...   Web Development\n",
              "2295    1063722  ...   Web Development\n",
              "2341     546848  ...    Graphic Design\n",
              "2906     368340  ...   Web Development\n",
              "2908    1035940  ...   Web Development\n",
              "2929     270808  ...   Web Development\n",
              "2952    1170894  ...  Business Finance\n",
              "2953    1070886  ...  Business Finance\n",
              "2954    1196544  ...  Business Finance\n",
              "2955     822444  ...   Web Development\n",
              "2956     477702  ...   Web Development\n",
              "2957    1035472  ...  Business Finance\n",
              "2958     529828  ...  Business Finance\n",
              "2959      70640  ...   Web Development\n",
              "2960     523312  ...   Web Development\n",
              "2962    1088656  ...  Business Finance\n",
              "3013     970600  ...   Web Development\n",
              "3154     815482  ...  Business Finance\n",
              "3272     938560  ...   Web Development\n",
              "3460      76052  ...   Web Development\n",
              "3573      16646  ...   Web Development\n",
              "3574     574082  ...   Web Development\n",
              "\n",
              "[29 rows x 11 columns]"
            ]
          },
          "metadata": {},
          "execution_count": 19
        }
      ]
    },
    {
      "cell_type": "code",
      "source": [
        "df[df['course_title'].str.contains('Python')].count()"
      ],
      "metadata": {
        "colab": {
          "base_uri": "https://localhost:8080/"
        },
        "id": "-07mIJvORLHT",
        "outputId": "ad03001b-ecf8-454c-89fe-8d1837cf57b3"
      },
      "execution_count": 20,
      "outputs": [
        {
          "output_type": "execute_result",
          "data": {
            "text/plain": [
              "course_id              29\n",
              "course_title           29\n",
              "is_paid                29\n",
              "price                  29\n",
              "num_subscribers        29\n",
              "num_reviews            29\n",
              "num_lectures           29\n",
              "level                  29\n",
              "content_duration       29\n",
              "published_timestamp    29\n",
              "subject                29\n",
              "dtype: int64"
            ]
          },
          "metadata": {},
          "execution_count": 20
        }
      ]
    },
    {
      "cell_type": "markdown",
      "source": [
        "We have 29 courses that are related to 'Python'"
      ],
      "metadata": {
        "id": "I9aJeQyoRqJ8"
      }
    },
    {
      "cell_type": "code",
      "source": [
        "# Q. 9) What are courses that were published in the year 2015 ?\n",
        "\n",
        "#first we create a column for the years( split the years from the column published_timestamp)\n",
        "\n",
        "df['year']=pd.to_datetime(df['published_timestamp']).dt.year\n",
        "\n",
        "df.head(3)"
      ],
      "metadata": {
        "colab": {
          "base_uri": "https://localhost:8080/",
          "height": 319
        },
        "id": "vpTXN1tQRxyH",
        "outputId": "d3e6dee7-7cce-4f44-c234-f1479f3d623c"
      },
      "execution_count": 21,
      "outputs": [
        {
          "output_type": "execute_result",
          "data": {
            "text/html": [
              "<div>\n",
              "<style scoped>\n",
              "    .dataframe tbody tr th:only-of-type {\n",
              "        vertical-align: middle;\n",
              "    }\n",
              "\n",
              "    .dataframe tbody tr th {\n",
              "        vertical-align: top;\n",
              "    }\n",
              "\n",
              "    .dataframe thead th {\n",
              "        text-align: right;\n",
              "    }\n",
              "</style>\n",
              "<table border=\"1\" class=\"dataframe\">\n",
              "  <thead>\n",
              "    <tr style=\"text-align: right;\">\n",
              "      <th></th>\n",
              "      <th>course_id</th>\n",
              "      <th>course_title</th>\n",
              "      <th>is_paid</th>\n",
              "      <th>price</th>\n",
              "      <th>num_subscribers</th>\n",
              "      <th>num_reviews</th>\n",
              "      <th>num_lectures</th>\n",
              "      <th>level</th>\n",
              "      <th>content_duration</th>\n",
              "      <th>published_timestamp</th>\n",
              "      <th>subject</th>\n",
              "      <th>year</th>\n",
              "    </tr>\n",
              "  </thead>\n",
              "  <tbody>\n",
              "    <tr>\n",
              "      <th>0</th>\n",
              "      <td>288942</td>\n",
              "      <td>#1 Piano Hand Coordination: Play 10th Ballad i...</td>\n",
              "      <td>True</td>\n",
              "      <td>35</td>\n",
              "      <td>3137</td>\n",
              "      <td>18</td>\n",
              "      <td>68</td>\n",
              "      <td>All Levels</td>\n",
              "      <td>1.5 hours</td>\n",
              "      <td>2014-09-18T05:07:05Z</td>\n",
              "      <td>Musical Instruments</td>\n",
              "      <td>2014</td>\n",
              "    </tr>\n",
              "    <tr>\n",
              "      <th>1</th>\n",
              "      <td>1170074</td>\n",
              "      <td>#10 Hand Coordination - Transfer Chord Ballad ...</td>\n",
              "      <td>True</td>\n",
              "      <td>75</td>\n",
              "      <td>1593</td>\n",
              "      <td>1</td>\n",
              "      <td>41</td>\n",
              "      <td>Intermediate Level</td>\n",
              "      <td>1 hour</td>\n",
              "      <td>2017-04-12T19:06:34Z</td>\n",
              "      <td>Musical Instruments</td>\n",
              "      <td>2017</td>\n",
              "    </tr>\n",
              "    <tr>\n",
              "      <th>2</th>\n",
              "      <td>1193886</td>\n",
              "      <td>#12 Hand Coordination: Let your Hands dance wi...</td>\n",
              "      <td>True</td>\n",
              "      <td>75</td>\n",
              "      <td>482</td>\n",
              "      <td>1</td>\n",
              "      <td>47</td>\n",
              "      <td>Intermediate Level</td>\n",
              "      <td>1.5 hours</td>\n",
              "      <td>2017-04-26T18:34:57Z</td>\n",
              "      <td>Musical Instruments</td>\n",
              "      <td>2017</td>\n",
              "    </tr>\n",
              "  </tbody>\n",
              "</table>\n",
              "</div>"
            ],
            "text/plain": [
              "   course_id  ...  year\n",
              "0     288942  ...  2014\n",
              "1    1170074  ...  2017\n",
              "2    1193886  ...  2017\n",
              "\n",
              "[3 rows x 12 columns]"
            ]
          },
          "metadata": {},
          "execution_count": 21
        }
      ]
    },
    {
      "cell_type": "code",
      "source": [
        "df.dtypes"
      ],
      "metadata": {
        "colab": {
          "base_uri": "https://localhost:8080/"
        },
        "id": "YrnkscrRYRws",
        "outputId": "5a4e8fd9-7d8a-40a9-a407-50e0a32c79ce"
      },
      "execution_count": 22,
      "outputs": [
        {
          "output_type": "execute_result",
          "data": {
            "text/plain": [
              "course_id               int64\n",
              "course_title           object\n",
              "is_paid                  bool\n",
              "price                  object\n",
              "num_subscribers         int64\n",
              "num_reviews             int64\n",
              "num_lectures            int64\n",
              "level                  object\n",
              "content_duration       object\n",
              "published_timestamp    object\n",
              "subject                object\n",
              "year                    int64\n",
              "dtype: object"
            ]
          },
          "metadata": {},
          "execution_count": 22
        }
      ]
    },
    {
      "cell_type": "code",
      "source": [
        "df[df.year == 2015]"
      ],
      "metadata": {
        "colab": {
          "base_uri": "https://localhost:8080/",
          "height": 947
        },
        "id": "hP350I5fYzku",
        "outputId": "3018f325-ee11-4bd9-b6e4-62729c0f1413"
      },
      "execution_count": 23,
      "outputs": [
        {
          "output_type": "execute_result",
          "data": {
            "text/html": [
              "<div>\n",
              "<style scoped>\n",
              "    .dataframe tbody tr th:only-of-type {\n",
              "        vertical-align: middle;\n",
              "    }\n",
              "\n",
              "    .dataframe tbody tr th {\n",
              "        vertical-align: top;\n",
              "    }\n",
              "\n",
              "    .dataframe thead th {\n",
              "        text-align: right;\n",
              "    }\n",
              "</style>\n",
              "<table border=\"1\" class=\"dataframe\">\n",
              "  <thead>\n",
              "    <tr style=\"text-align: right;\">\n",
              "      <th></th>\n",
              "      <th>course_id</th>\n",
              "      <th>course_title</th>\n",
              "      <th>is_paid</th>\n",
              "      <th>price</th>\n",
              "      <th>num_subscribers</th>\n",
              "      <th>num_reviews</th>\n",
              "      <th>num_lectures</th>\n",
              "      <th>level</th>\n",
              "      <th>content_duration</th>\n",
              "      <th>published_timestamp</th>\n",
              "      <th>subject</th>\n",
              "      <th>year</th>\n",
              "    </tr>\n",
              "  </thead>\n",
              "  <tbody>\n",
              "    <tr>\n",
              "      <th>10</th>\n",
              "      <td>591880</td>\n",
              "      <td>1 - Concepts of Statistics For Beginners Step ...</td>\n",
              "      <td>True</td>\n",
              "      <td>200</td>\n",
              "      <td>273</td>\n",
              "      <td>4</td>\n",
              "      <td>15</td>\n",
              "      <td>Beginner Level</td>\n",
              "      <td>31 mins</td>\n",
              "      <td>2015-08-30T22:48:34Z</td>\n",
              "      <td>Business Finance</td>\n",
              "      <td>2015</td>\n",
              "    </tr>\n",
              "    <tr>\n",
              "      <th>16</th>\n",
              "      <td>302450</td>\n",
              "      <td>10 Numbers Every Business Owner Should Know</td>\n",
              "      <td>True</td>\n",
              "      <td>20</td>\n",
              "      <td>13</td>\n",
              "      <td>1</td>\n",
              "      <td>9</td>\n",
              "      <td>All Levels</td>\n",
              "      <td>1 hour</td>\n",
              "      <td>2015-03-08T19:11:24Z</td>\n",
              "      <td>Business Finance</td>\n",
              "      <td>2015</td>\n",
              "    </tr>\n",
              "    <tr>\n",
              "      <th>19</th>\n",
              "      <td>384928</td>\n",
              "      <td>101 Blues riffs - learn how the harmonica supe...</td>\n",
              "      <td>True</td>\n",
              "      <td>200</td>\n",
              "      <td>1350</td>\n",
              "      <td>65</td>\n",
              "      <td>55</td>\n",
              "      <td>Intermediate Level</td>\n",
              "      <td>6.5 hours</td>\n",
              "      <td>2015-01-04T21:14:31Z</td>\n",
              "      <td>Musical Instruments</td>\n",
              "      <td>2015</td>\n",
              "    </tr>\n",
              "    <tr>\n",
              "      <th>23</th>\n",
              "      <td>550842</td>\n",
              "      <td>16 Guitar Chords to Jam With - (Beginner - Int...</td>\n",
              "      <td>True</td>\n",
              "      <td>20</td>\n",
              "      <td>1224</td>\n",
              "      <td>19</td>\n",
              "      <td>20</td>\n",
              "      <td>Beginner Level</td>\n",
              "      <td>1 hour</td>\n",
              "      <td>2015-07-10T19:53:56Z</td>\n",
              "      <td>Musical Instruments</td>\n",
              "      <td>2015</td>\n",
              "    </tr>\n",
              "    <tr>\n",
              "      <th>26</th>\n",
              "      <td>486240</td>\n",
              "      <td>2 Easy Steps To Investment And Avoiding Traps</td>\n",
              "      <td>True</td>\n",
              "      <td>20</td>\n",
              "      <td>828</td>\n",
              "      <td>1</td>\n",
              "      <td>20</td>\n",
              "      <td>All Levels</td>\n",
              "      <td>1 hour</td>\n",
              "      <td>2015-04-27T23:18:59Z</td>\n",
              "      <td>Business Finance</td>\n",
              "      <td>2015</td>\n",
              "    </tr>\n",
              "    <tr>\n",
              "      <th>...</th>\n",
              "      <td>...</td>\n",
              "      <td>...</td>\n",
              "      <td>...</td>\n",
              "      <td>...</td>\n",
              "      <td>...</td>\n",
              "      <td>...</td>\n",
              "      <td>...</td>\n",
              "      <td>...</td>\n",
              "      <td>...</td>\n",
              "      <td>...</td>\n",
              "      <td>...</td>\n",
              "      <td>...</td>\n",
              "    </tr>\n",
              "    <tr>\n",
              "      <th>3675</th>\n",
              "      <td>551170</td>\n",
              "      <td>Your First Course on Piano</td>\n",
              "      <td>True</td>\n",
              "      <td>70</td>\n",
              "      <td>2002</td>\n",
              "      <td>34</td>\n",
              "      <td>33</td>\n",
              "      <td>Beginner Level</td>\n",
              "      <td>4 hours</td>\n",
              "      <td>2015-07-16T17:07:49Z</td>\n",
              "      <td>Musical Instruments</td>\n",
              "      <td>2015</td>\n",
              "    </tr>\n",
              "    <tr>\n",
              "      <th>3676</th>\n",
              "      <td>498488</td>\n",
              "      <td>Your First Successful Forex Trades - With Case...</td>\n",
              "      <td>True</td>\n",
              "      <td>200</td>\n",
              "      <td>1079</td>\n",
              "      <td>34</td>\n",
              "      <td>16</td>\n",
              "      <td>All Levels</td>\n",
              "      <td>2.5 hours</td>\n",
              "      <td>2015-05-26T20:48:48Z</td>\n",
              "      <td>Business Finance</td>\n",
              "      <td>2015</td>\n",
              "    </tr>\n",
              "    <tr>\n",
              "      <th>3677</th>\n",
              "      <td>328960</td>\n",
              "      <td>Your Own Site in 45 Min: The Complete Wordpres...</td>\n",
              "      <td>True</td>\n",
              "      <td>120</td>\n",
              "      <td>1566</td>\n",
              "      <td>29</td>\n",
              "      <td>36</td>\n",
              "      <td>All Levels</td>\n",
              "      <td>4 hours</td>\n",
              "      <td>2015-04-20T22:15:17Z</td>\n",
              "      <td>Web Development</td>\n",
              "      <td>2015</td>\n",
              "    </tr>\n",
              "    <tr>\n",
              "      <th>3678</th>\n",
              "      <td>552700</td>\n",
              "      <td>Your Second Course on Piano: Two Handed Playing</td>\n",
              "      <td>True</td>\n",
              "      <td>70</td>\n",
              "      <td>1018</td>\n",
              "      <td>12</td>\n",
              "      <td>22</td>\n",
              "      <td>Beginner Level</td>\n",
              "      <td>5 hours</td>\n",
              "      <td>2015-10-26T20:04:21Z</td>\n",
              "      <td>Musical Instruments</td>\n",
              "      <td>2015</td>\n",
              "    </tr>\n",
              "    <tr>\n",
              "      <th>3679</th>\n",
              "      <td>631754</td>\n",
              "      <td>Zend Framework 2: Learn the PHP framework ZF2 ...</td>\n",
              "      <td>True</td>\n",
              "      <td>40</td>\n",
              "      <td>723</td>\n",
              "      <td>130</td>\n",
              "      <td>37</td>\n",
              "      <td>All Levels</td>\n",
              "      <td>6.5 hours</td>\n",
              "      <td>2015-11-11T18:55:45Z</td>\n",
              "      <td>Web Development</td>\n",
              "      <td>2015</td>\n",
              "    </tr>\n",
              "  </tbody>\n",
              "</table>\n",
              "<p>1014 rows × 12 columns</p>\n",
              "</div>"
            ],
            "text/plain": [
              "      course_id  ...  year\n",
              "10       591880  ...  2015\n",
              "16       302450  ...  2015\n",
              "19       384928  ...  2015\n",
              "23       550842  ...  2015\n",
              "26       486240  ...  2015\n",
              "...         ...  ...   ...\n",
              "3675     551170  ...  2015\n",
              "3676     498488  ...  2015\n",
              "3677     328960  ...  2015\n",
              "3678     552700  ...  2015\n",
              "3679     631754  ...  2015\n",
              "\n",
              "[1014 rows x 12 columns]"
            ]
          },
          "metadata": {},
          "execution_count": 23
        }
      ]
    },
    {
      "cell_type": "markdown",
      "source": [
        "PS: WE've 1014 courses that were published in the year 2015"
      ],
      "metadata": {
        "id": "wBOYkZfUaJtD"
      }
    },
    {
      "cell_type": "code",
      "source": [
        "# 10) What is the Max. Number of Subscribers for Each Level of courses ?\n",
        "\n",
        "df.groupby(['level'])['num_subscribers'].max().sort_values(ascending= False)\n"
      ],
      "metadata": {
        "colab": {
          "base_uri": "https://localhost:8080/"
        },
        "id": "xCupkEC8aamO",
        "outputId": "ce5ef8d6-f91c-4a96-badd-9e6f1f568c30"
      },
      "execution_count": 28,
      "outputs": [
        {
          "output_type": "execute_result",
          "data": {
            "text/plain": [
              "level\n",
              "All Levels            268923\n",
              "Beginner Level        161029\n",
              "Intermediate Level     29167\n",
              "Expert Level            5172\n",
              "Name: num_subscribers, dtype: int64"
            ]
          },
          "metadata": {},
          "execution_count": 28
        }
      ]
    },
    {
      "cell_type": "markdown",
      "source": [
        "We have more subsceibers for all levels with 268923 subs, then for beginers with 161029 subs."
      ],
      "metadata": {
        "id": "l_HMdZIpo7Kt"
      }
    },
    {
      "cell_type": "markdown",
      "source": [
        "### VISUALIZATION"
      ],
      "metadata": {
        "id": "QthDjciPpW9T"
      }
    },
    {
      "cell_type": "code",
      "source": [
        "df.year.unique()"
      ],
      "metadata": {
        "colab": {
          "base_uri": "https://localhost:8080/"
        },
        "id": "sz3U1c8MtCfk",
        "outputId": "e2eafb7d-215f-4884-eede-5bc932c675cf"
      },
      "execution_count": 40,
      "outputs": [
        {
          "output_type": "execute_result",
          "data": {
            "text/plain": [
              "array([2014, 2017, 2016, 2015, 2013, 2012, 2011])"
            ]
          },
          "metadata": {},
          "execution_count": 40
        }
      ]
    },
    {
      "cell_type": "code",
      "source": [
        "# Visualization PIE representing the % of mean 'num_subscribers' per year (from the 2011 to 2017)\n",
        "\n",
        "colors = ['gold', 'yellowgreen', 'lightcoral', 'lightskyblue', 'red','white','purple']\n",
        "df.groupby(['year'])['num_subscribers'].mean().plot.pie(autopct='%0.f%%',colors = colors)"
      ],
      "metadata": {
        "colab": {
          "base_uri": "https://localhost:8080/",
          "height": 884
        },
        "id": "ZXfOOc1-ppzU",
        "outputId": "a093c78c-689b-4bb0-c4de-744e5f58a6ef"
      },
      "execution_count": 41,
      "outputs": [
        {
          "output_type": "execute_result",
          "data": {
            "text/plain": [
              "<matplotlib.axes._subplots.AxesSubplot at 0x7f90de17d510>"
            ]
          },
          "metadata": {},
          "execution_count": 41
        },
        {
          "output_type": "display_data",
          "data": {
            "image/png": "[encoded data removed]",
            "text/plain": [
              "<Figure size 2880x1872 with 1 Axes>"
            ]
          },
          "metadata": {}
        }
      ]
    },
    {
      "cell_type": "markdown",
      "source": [
        "AS we can see from the precedent PIE, Udemy school has a serious descending number of student. From 43% subscribers in 2011 to 2% in 2017"
      ],
      "metadata": {
        "id": "Jn8x0XzXtU38"
      }
    },
    {
      "cell_type": "code",
      "source": [
        "df.subject.unique()"
      ],
      "metadata": {
        "colab": {
          "base_uri": "https://localhost:8080/"
        },
        "id": "2AJznuIwvr-W",
        "outputId": "2cfdb39b-1b6f-423b-f5f2-1bb1ce9ebf59"
      },
      "execution_count": 62,
      "outputs": [
        {
          "output_type": "execute_result",
          "data": {
            "text/plain": [
              "array(['Musical Instruments', 'Business Finance', 'Graphic Design',\n",
              "       'Web Development'], dtype=object)"
            ]
          },
          "metadata": {},
          "execution_count": 62
        }
      ]
    }
  ],
  "metadata": {
    "colab": {
      "collapsed_sections": [],
      "name": "Bienvenue dans Colaboratory",
      "provenance": [],
      "include_colab_link": true
    },
    "kernelspec": {
      "display_name": "Python 3",
      "name": "python3"
    }
  },
  "nbformat": 4,
  "nbformat_minor": 0
}
