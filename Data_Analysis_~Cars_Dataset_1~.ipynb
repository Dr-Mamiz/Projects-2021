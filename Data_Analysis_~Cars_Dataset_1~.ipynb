{
  "nbformat": 4,
  "nbformat_minor": 0,
  "metadata": {
    "colab": {
      "name": "Data Analysis ~Cars Dataset #1~.ipynb",
      "provenance": [],
      "authorship_tag": "ABX9TyMXZ53LrFbmAxH+CbKrmbQC",
      "include_colab_link": true
    },
    "kernelspec": {
      "name": "python3",
      "display_name": "Python 3"
    },
    "language_info": {
      "name": "python"
    }
  },
  "cells": [
    {
      "cell_type": "markdown",
      "metadata": {
        "id": "view-in-github",
        "colab_type": "text"
      },
      "source": [
        "<a href=\"https://colab.research.google.com/github/Dr-Mamiz/Projects-Data-Analysis/blob/main/Data_Analysis_~Cars_Dataset_1~.ipynb\" target=\"_parent\"><img src=\"https://colab.research.google.com/assets/colab-badge.svg\" alt=\"Open In Colab\"/></a>"
      ]
    },
    {
      "cell_type": "code",
      "metadata": {
        "id": "3Bk4IQJm7rIZ"
      },
      "source": [
        ""
      ],
      "execution_count": null,
      "outputs": []
    },
    {
      "cell_type": "markdown",
      "metadata": {
        "id": "e1thC1YxroJB"
      },
      "source": [
        "Data Analysis ~ ***Cars Dataset ***~ **Cars Project**\n",
        "\n",
        "                              **TASK**\n",
        "\n",
        "Questions are given in the project and then solved with the help of Python. It is a project of Data Analysis with Python or you can say, Data Science with Python.\n",
        "\n",
        "Part I :\n",
        "CLEANING THE DATA\n",
        "Q. 1)  Find all the unique 'Wind Speed' values in the data.\n",
        "Q. 2) Find the number of times when the 'Weather is exactly Clear'.\n",
        "Q. 3) Find the number of times when the 'Wind Speed was exactly 4 km/h'.\n",
        "Q. 4) Find out all the Null Values in the data.\n",
        "Q. 5) Rename the column name 'Weather' of the dataframe to 'Weather Condition'.\n",
        "Q. 6) What is the mean 'Visibility' ?\n",
        "Q. 7) What is the Standard Deviation of 'Pressure'  in this data?\n",
        "Q. 8) What is the Variance of 'Relative Humidity' in this data ?\n",
        "Q. 9) Find all instances when 'Snow' was recorded.\n",
        "Q. 10) Find all instances when 'Wind Speed is above 24' and 'Visibility is 25'.\n",
        "Q. 11) What is the Mean value of each column against each 'Weather Condition ?\n",
        "Q. 12) What is the Minimum & Maximum value of each column against each 'Weather Condition ?\n",
        "Q. 13) Show all the Records where Weather Condition is Fog.\n",
        "Q. 14) Find all instances when 'Weather is Clear' or 'Visibility is above 40'.\n",
        "Q. 15) Find all instances when :\n",
        "A. 'Weather is Clear' and 'Relative Humidity is greater than 50'\n",
        "or B. 'Visibility is above 40\n",
        "Part II :\n",
        "Visualisation"
      ]
    },
    {
      "cell_type": "code",
      "metadata": {
        "id": "ocC2fv4YsGEX"
      },
      "source": [
        "# Importe packages\n",
        "import pandas as pd\n",
        "import numpy as np\n",
        "import matplotlib.pyplot as plt\n"
      ],
      "execution_count": 1,
      "outputs": []
    },
    {
      "cell_type": "code",
      "metadata": {
        "id": "CC7KTktWslta"
      },
      "source": [
        "# Import dataset\n",
        "data_cars= pd.read_csv('/content/2. Cars Data1.csv')\n"
      ],
      "execution_count": 23,
      "outputs": []
    },
    {
      "cell_type": "code",
      "metadata": {
        "colab": {
          "base_uri": "https://localhost:8080/"
        },
        "id": "Jz3JFQsLq6Bx",
        "outputId": "edecb7ea-8037-4fd9-87a5-15388d9653a0"
      },
      "source": [
        "#Analysing our dataset\n",
        "data_cars.head(5)\n",
        "data_cars.isnull().sum()\n",
        "data_cars.dtypes"
      ],
      "execution_count": 26,
      "outputs": [
        {
          "output_type": "execute_result",
          "data": {
            "text/plain": [
              "Make            object\n",
              "Model           object\n",
              "Type            object\n",
              "Origin          object\n",
              "DriveTrain      object\n",
              "MSRP            object\n",
              "Invoice         object\n",
              "EngineSize     float64\n",
              "Cylinders      float64\n",
              "Horsepower     float64\n",
              "MPG_City       float64\n",
              "MPG_Highway    float64\n",
              "Weight         float64\n",
              "Wheelbase      float64\n",
              "Length         float64\n",
              "dtype: object"
            ]
          },
          "metadata": {},
          "execution_count": 26
        }
      ]
    },
    {
      "cell_type": "code",
      "metadata": {
        "colab": {
          "base_uri": "https://localhost:8080/"
        },
        "id": "l7trboj8rcbD",
        "outputId": "c0a4d98d-3144-4065-e549-0c79720d0ff7"
      },
      "source": [
        "data_cars.isnull().sum()"
      ],
      "execution_count": 4,
      "outputs": [
        {
          "output_type": "execute_result",
          "data": {
            "text/plain": [
              "Make           4\n",
              "Model          4\n",
              "Type           4\n",
              "Origin         4\n",
              "DriveTrain     4\n",
              "MSRP           4\n",
              "Invoice        4\n",
              "EngineSize     4\n",
              "Cylinders      6\n",
              "Horsepower     4\n",
              "MPG_City       4\n",
              "MPG_Highway    4\n",
              "Weight         4\n",
              "Wheelbase      4\n",
              "Length         4\n",
              "dtype: int64"
            ]
          },
          "metadata": {},
          "execution_count": 4
        }
      ]
    },
    {
      "cell_type": "code",
      "metadata": {
        "id": "rrCwJmkwsUTj"
      },
      "source": [
        "# Copy of our dataset\n",
        "df=data_cars.copy()"
      ],
      "execution_count": 5,
      "outputs": []
    },
    {
      "cell_type": "markdown",
      "metadata": {
        "id": "L4Puzu0iAagJ"
      },
      "source": [
        "In this part I'll start the **CLEANING OF OUR DATA**\n"
      ]
    },
    {
      "cell_type": "code",
      "metadata": {
        "id": "XUfcP5ETrRTW"
      },
      "source": [
        "# Replace nan in *Make,Model,Type,Origin,DriveTrain* with the value just before\n",
        "\n",
        "df['Make'].fillna(method='ffill', inplace=True)\n",
        "df['Model'].fillna(method='ffill', inplace=True)\n",
        "df['Type'].fillna(method='ffill', inplace=True)\n",
        "df['Origin'].fillna(method='ffill', inplace=True)\n",
        "df['DriveTrain'].fillna(method='ffill', inplace=True)"
      ],
      "execution_count": 6,
      "outputs": []
    },
    {
      "cell_type": "code",
      "metadata": {
        "colab": {
          "base_uri": "https://localhost:8080/"
        },
        "id": "4cDngZAitWWm",
        "outputId": "3f50d284-363e-466d-9f96-3cec93cf66cd"
      },
      "source": [
        "df.isnull().sum()"
      ],
      "execution_count": 7,
      "outputs": [
        {
          "output_type": "execute_result",
          "data": {
            "text/plain": [
              "Make           0\n",
              "Model          0\n",
              "Type           0\n",
              "Origin         0\n",
              "DriveTrain     0\n",
              "MSRP           4\n",
              "Invoice        4\n",
              "EngineSize     4\n",
              "Cylinders      6\n",
              "Horsepower     4\n",
              "MPG_City       4\n",
              "MPG_Highway    4\n",
              "Weight         4\n",
              "Wheelbase      4\n",
              "Length         4\n",
              "dtype: int64"
            ]
          },
          "metadata": {},
          "execution_count": 7
        }
      ]
    },
    {
      "cell_type": "code",
      "metadata": {
        "id": "vJaOoyqit4pV"
      },
      "source": [
        "# Fill nan in *EngineSize,Cylinders,Horsepower,MPG_City,MPG_Higwhay,Weight,Wheelbase,Length*\n",
        "df['MPG_City'].fillna(df['MPG_City'].median(),inplace=True)\n",
        "df['MPG_Highway'].fillna(df['MPG_Highway'].median(),inplace=True)\n",
        "df['Weight'].fillna(df['Weight'].mean(),inplace=True)\n",
        "df['Wheelbase'].fillna(df['Wheelbase'].mean(),inplace=True)\n",
        "df['Length'].fillna(df['Length'].mean(),inplace=True)\n",
        "df['EngineSize'].fillna(method='ffill', inplace=True)\n",
        "df['Cylinders'].fillna(method='ffill', inplace=True)\n",
        "df['Horsepower'].fillna(df['Horsepower'].median(),inplace=True)\n",
        "\n",
        "\n",
        "\n",
        "\n",
        "\n",
        "\n",
        "\n",
        "\n"
      ],
      "execution_count": 8,
      "outputs": []
    },
    {
      "cell_type": "code",
      "metadata": {
        "colab": {
          "base_uri": "https://localhost:8080/"
        },
        "id": "w67NWkkmxdeQ",
        "outputId": "ae5d2b11-f7c7-4932-923f-9ac9aa132984"
      },
      "source": [
        "# Remove character '$' from our dataset/columns\n",
        "df['MSRP']=df['MSRP'].str.replace('$','')\n",
        "df['Invoice']=df['Invoice'].str.replace('$','')\n",
        "df['MSRP']=df['MSRP'].str.replace(',','')\n",
        "df['Invoice']=df['Invoice'].str.replace(',','')\n",
        "df.dtypes"
      ],
      "execution_count": 9,
      "outputs": [
        {
          "output_type": "execute_result",
          "data": {
            "text/plain": [
              "Make            object\n",
              "Model           object\n",
              "Type            object\n",
              "Origin          object\n",
              "DriveTrain      object\n",
              "MSRP            object\n",
              "Invoice         object\n",
              "EngineSize     float64\n",
              "Cylinders      float64\n",
              "Horsepower     float64\n",
              "MPG_City       float64\n",
              "MPG_Highway    float64\n",
              "Weight         float64\n",
              "Wheelbase      float64\n",
              "Length         float64\n",
              "dtype: object"
            ]
          },
          "metadata": {},
          "execution_count": 9
        }
      ]
    },
    {
      "cell_type": "code",
      "metadata": {
        "id": "mf_-7XEW0DCL"
      },
      "source": [
        "# Fill nan in *MSRP,Invoice*\n",
        "df['MSRP'].fillna(df['MSRP'].median(),inplace=True)\n",
        "df['Invoice'].fillna(df['Invoice'].median(),inplace=True)\n"
      ],
      "execution_count": 10,
      "outputs": []
    },
    {
      "cell_type": "code",
      "metadata": {
        "colab": {
          "base_uri": "https://localhost:8080/"
        },
        "id": "aPqVZyPt-WhA",
        "outputId": "3aa51fc2-14d6-45aa-8f60-4c1e9951bb05"
      },
      "source": [
        "# Checking that we don't have nan in our dataset\n",
        "df.isnull().sum()"
      ],
      "execution_count": 11,
      "outputs": [
        {
          "output_type": "execute_result",
          "data": {
            "text/plain": [
              "Make           0\n",
              "Model          0\n",
              "Type           0\n",
              "Origin         0\n",
              "DriveTrain     0\n",
              "MSRP           0\n",
              "Invoice        0\n",
              "EngineSize     0\n",
              "Cylinders      0\n",
              "Horsepower     0\n",
              "MPG_City       0\n",
              "MPG_Highway    0\n",
              "Weight         0\n",
              "Wheelbase      0\n",
              "Length         0\n",
              "dtype: int64"
            ]
          },
          "metadata": {},
          "execution_count": 11
        }
      ]
    },
    {
      "cell_type": "code",
      "metadata": {
        "colab": {
          "base_uri": "https://localhost:8080/"
        },
        "id": "oeawjLdP_kQ6",
        "outputId": "dd1634bc-eb45-4eab-d34b-2b09cbb95201"
      },
      "source": [
        "#Q1: What are the different the different types of make in our dataset, and what is the account of each in our dataset\n",
        "\n",
        "df['Make'].value_counts()"
      ],
      "execution_count": 12,
      "outputs": [
        {
          "output_type": "execute_result",
          "data": {
            "text/plain": [
              "Toyota           28\n",
              "Chevrolet        27\n",
              "Mercedes-Benz    26\n",
              "Ford             23\n",
              "BMW              22\n",
              "Audi             19\n",
              "Honda            18\n",
              "Nissan           17\n",
              "Chrysler         15\n",
              "Volkswagen       15\n",
              "Mitsubishi       13\n",
              "Dodge            13\n",
              "Hyundai          13\n",
              "Jaguar           12\n",
              "Volvo            12\n",
              "Lexus            11\n",
              "Kia              11\n",
              "Pontiac          11\n",
              "Subaru           11\n",
              "Mazda            11\n",
              "Mercury           9\n",
              "Buick             9\n",
              "Lincoln           9\n",
              "Infiniti          8\n",
              "Cadillac          8\n",
              "Suzuki            8\n",
              "GMC               8\n",
              "Saturn            8\n",
              "Acura             7\n",
              "Saab              7\n",
              "Porsche           7\n",
              "Oldsmobile        3\n",
              "Jeep              3\n",
              "Land Rover        3\n",
              "Isuzu             2\n",
              "Scion             2\n",
              "MINI              2\n",
              "Hummer            1\n",
              "Name: Make, dtype: int64"
            ]
          },
          "metadata": {},
          "execution_count": 12
        }
      ]
    },
    {
      "cell_type": "code",
      "metadata": {
        "colab": {
          "base_uri": "https://localhost:8080/",
          "height": 487
        },
        "id": "BWarUncndenX",
        "outputId": "5e636a43-adfa-453e-8f3e-ef5b5f1374d3"
      },
      "source": [
        "df.head(10)"
      ],
      "execution_count": null,
      "outputs": [
        {
          "output_type": "execute_result",
          "data": {
            "text/html": [
              "<div>\n",
              "<style scoped>\n",
              "    .dataframe tbody tr th:only-of-type {\n",
              "        vertical-align: middle;\n",
              "    }\n",
              "\n",
              "    .dataframe tbody tr th {\n",
              "        vertical-align: top;\n",
              "    }\n",
              "\n",
              "    .dataframe thead th {\n",
              "        text-align: right;\n",
              "    }\n",
              "</style>\n",
              "<table border=\"1\" class=\"dataframe\">\n",
              "  <thead>\n",
              "    <tr style=\"text-align: right;\">\n",
              "      <th></th>\n",
              "      <th>Make</th>\n",
              "      <th>Model</th>\n",
              "      <th>Type</th>\n",
              "      <th>Origin</th>\n",
              "      <th>DriveTrain</th>\n",
              "      <th>MSRP</th>\n",
              "      <th>Invoice</th>\n",
              "      <th>EngineSize</th>\n",
              "      <th>Cylinders</th>\n",
              "      <th>Horsepower</th>\n",
              "      <th>MPG_City</th>\n",
              "      <th>MPG_Highway</th>\n",
              "      <th>Weight</th>\n",
              "      <th>Wheelbase</th>\n",
              "      <th>Length</th>\n",
              "    </tr>\n",
              "  </thead>\n",
              "  <tbody>\n",
              "    <tr>\n",
              "      <th>0</th>\n",
              "      <td>Acura</td>\n",
              "      <td>MDX</td>\n",
              "      <td>SUV</td>\n",
              "      <td>Asia</td>\n",
              "      <td>All</td>\n",
              "      <td>36945</td>\n",
              "      <td>33337</td>\n",
              "      <td>3.5</td>\n",
              "      <td>6.0</td>\n",
              "      <td>265.0</td>\n",
              "      <td>17.0</td>\n",
              "      <td>23.0</td>\n",
              "      <td>4451.0</td>\n",
              "      <td>106.0</td>\n",
              "      <td>189.0</td>\n",
              "    </tr>\n",
              "    <tr>\n",
              "      <th>1</th>\n",
              "      <td>Acura</td>\n",
              "      <td>RSX Type S 2dr</td>\n",
              "      <td>Sedan</td>\n",
              "      <td>Asia</td>\n",
              "      <td>Front</td>\n",
              "      <td>23820</td>\n",
              "      <td>21761</td>\n",
              "      <td>2.0</td>\n",
              "      <td>4.0</td>\n",
              "      <td>200.0</td>\n",
              "      <td>24.0</td>\n",
              "      <td>31.0</td>\n",
              "      <td>2778.0</td>\n",
              "      <td>101.0</td>\n",
              "      <td>172.0</td>\n",
              "    </tr>\n",
              "    <tr>\n",
              "      <th>2</th>\n",
              "      <td>Acura</td>\n",
              "      <td>TSX 4dr</td>\n",
              "      <td>Sedan</td>\n",
              "      <td>Asia</td>\n",
              "      <td>Front</td>\n",
              "      <td>26990</td>\n",
              "      <td>24647</td>\n",
              "      <td>2.4</td>\n",
              "      <td>4.0</td>\n",
              "      <td>200.0</td>\n",
              "      <td>22.0</td>\n",
              "      <td>29.0</td>\n",
              "      <td>3230.0</td>\n",
              "      <td>105.0</td>\n",
              "      <td>183.0</td>\n",
              "    </tr>\n",
              "    <tr>\n",
              "      <th>3</th>\n",
              "      <td>Acura</td>\n",
              "      <td>TL 4dr</td>\n",
              "      <td>Sedan</td>\n",
              "      <td>Asia</td>\n",
              "      <td>Front</td>\n",
              "      <td>33195</td>\n",
              "      <td>30299</td>\n",
              "      <td>3.2</td>\n",
              "      <td>6.0</td>\n",
              "      <td>270.0</td>\n",
              "      <td>20.0</td>\n",
              "      <td>28.0</td>\n",
              "      <td>3575.0</td>\n",
              "      <td>108.0</td>\n",
              "      <td>186.0</td>\n",
              "    </tr>\n",
              "    <tr>\n",
              "      <th>4</th>\n",
              "      <td>Acura</td>\n",
              "      <td>3.5 RL 4dr</td>\n",
              "      <td>Sedan</td>\n",
              "      <td>Asia</td>\n",
              "      <td>Front</td>\n",
              "      <td>43755</td>\n",
              "      <td>39014</td>\n",
              "      <td>3.5</td>\n",
              "      <td>6.0</td>\n",
              "      <td>225.0</td>\n",
              "      <td>18.0</td>\n",
              "      <td>24.0</td>\n",
              "      <td>3880.0</td>\n",
              "      <td>115.0</td>\n",
              "      <td>197.0</td>\n",
              "    </tr>\n",
              "    <tr>\n",
              "      <th>5</th>\n",
              "      <td>Acura</td>\n",
              "      <td>3.5 RL w/Navigation 4dr</td>\n",
              "      <td>Sedan</td>\n",
              "      <td>Asia</td>\n",
              "      <td>Front</td>\n",
              "      <td>46100</td>\n",
              "      <td>41100</td>\n",
              "      <td>3.5</td>\n",
              "      <td>6.0</td>\n",
              "      <td>225.0</td>\n",
              "      <td>18.0</td>\n",
              "      <td>24.0</td>\n",
              "      <td>3893.0</td>\n",
              "      <td>115.0</td>\n",
              "      <td>197.0</td>\n",
              "    </tr>\n",
              "    <tr>\n",
              "      <th>6</th>\n",
              "      <td>Acura</td>\n",
              "      <td>NSX coupe 2dr manual S</td>\n",
              "      <td>Sports</td>\n",
              "      <td>Asia</td>\n",
              "      <td>Rear</td>\n",
              "      <td>89765</td>\n",
              "      <td>79978</td>\n",
              "      <td>3.2</td>\n",
              "      <td>6.0</td>\n",
              "      <td>290.0</td>\n",
              "      <td>17.0</td>\n",
              "      <td>24.0</td>\n",
              "      <td>3153.0</td>\n",
              "      <td>100.0</td>\n",
              "      <td>174.0</td>\n",
              "    </tr>\n",
              "    <tr>\n",
              "      <th>7</th>\n",
              "      <td>Audi</td>\n",
              "      <td>A4 1.8T 4dr</td>\n",
              "      <td>Sedan</td>\n",
              "      <td>Europe</td>\n",
              "      <td>Front</td>\n",
              "      <td>25940</td>\n",
              "      <td>23508</td>\n",
              "      <td>1.8</td>\n",
              "      <td>4.0</td>\n",
              "      <td>170.0</td>\n",
              "      <td>22.0</td>\n",
              "      <td>31.0</td>\n",
              "      <td>3252.0</td>\n",
              "      <td>104.0</td>\n",
              "      <td>179.0</td>\n",
              "    </tr>\n",
              "    <tr>\n",
              "      <th>8</th>\n",
              "      <td>Audi</td>\n",
              "      <td>A41.8T convertible 2dr</td>\n",
              "      <td>Sedan</td>\n",
              "      <td>Europe</td>\n",
              "      <td>Front</td>\n",
              "      <td>35940</td>\n",
              "      <td>32506</td>\n",
              "      <td>1.8</td>\n",
              "      <td>4.0</td>\n",
              "      <td>170.0</td>\n",
              "      <td>23.0</td>\n",
              "      <td>30.0</td>\n",
              "      <td>3638.0</td>\n",
              "      <td>105.0</td>\n",
              "      <td>180.0</td>\n",
              "    </tr>\n",
              "    <tr>\n",
              "      <th>9</th>\n",
              "      <td>Audi</td>\n",
              "      <td>A4 3.0 4dr</td>\n",
              "      <td>Sedan</td>\n",
              "      <td>Europe</td>\n",
              "      <td>Front</td>\n",
              "      <td>31840</td>\n",
              "      <td>28846</td>\n",
              "      <td>3.0</td>\n",
              "      <td>6.0</td>\n",
              "      <td>220.0</td>\n",
              "      <td>20.0</td>\n",
              "      <td>28.0</td>\n",
              "      <td>3462.0</td>\n",
              "      <td>104.0</td>\n",
              "      <td>179.0</td>\n",
              "    </tr>\n",
              "  </tbody>\n",
              "</table>\n",
              "</div>"
            ],
            "text/plain": [
              "    Make                    Model    Type  ...  Weight Wheelbase Length\n",
              "0  Acura                      MDX     SUV  ...  4451.0     106.0  189.0\n",
              "1  Acura           RSX Type S 2dr   Sedan  ...  2778.0     101.0  172.0\n",
              "2  Acura                  TSX 4dr   Sedan  ...  3230.0     105.0  183.0\n",
              "3  Acura                   TL 4dr   Sedan  ...  3575.0     108.0  186.0\n",
              "4  Acura               3.5 RL 4dr   Sedan  ...  3880.0     115.0  197.0\n",
              "5  Acura  3.5 RL w/Navigation 4dr   Sedan  ...  3893.0     115.0  197.0\n",
              "6  Acura   NSX coupe 2dr manual S  Sports  ...  3153.0     100.0  174.0\n",
              "7   Audi              A4 1.8T 4dr   Sedan  ...  3252.0     104.0  179.0\n",
              "8   Audi   A41.8T convertible 2dr   Sedan  ...  3638.0     105.0  180.0\n",
              "9   Audi               A4 3.0 4dr   Sedan  ...  3462.0     104.0  179.0\n",
              "\n",
              "[10 rows x 15 columns]"
            ]
          },
          "metadata": {},
          "execution_count": 43
        }
      ]
    },
    {
      "cell_type": "code",
      "metadata": {
        "colab": {
          "base_uri": "https://localhost:8080/"
        },
        "id": "PFMIer0Fbaay",
        "outputId": "f0c24482-c7cf-40ef-cffd-bf181295c48c"
      },
      "source": [
        "df.groupby(['Make','Origin'])['Model'].count()"
      ],
      "execution_count": 14,
      "outputs": [
        {
          "output_type": "execute_result",
          "data": {
            "text/plain": [
              "Make           Origin\n",
              "Acura          Asia       7\n",
              "Audi           Europe    19\n",
              "BMW            Europe    22\n",
              "Buick          USA        9\n",
              "Cadillac       USA        8\n",
              "Chevrolet      USA       27\n",
              "Chrysler       USA       15\n",
              "Dodge          USA       13\n",
              "Ford           USA       23\n",
              "GMC            USA        8\n",
              "Honda          Asia      18\n",
              "Hummer         USA        1\n",
              "Hyundai        Asia      13\n",
              "Infiniti       Asia       8\n",
              "Isuzu          Asia       2\n",
              "Jaguar         Europe    12\n",
              "Jeep           USA        3\n",
              "Kia            Asia      11\n",
              "Land Rover     Europe     3\n",
              "Lexus          Asia      11\n",
              "Lincoln        USA        9\n",
              "MINI           Europe     2\n",
              "Mazda          Asia      11\n",
              "Mercedes-Benz  Europe    26\n",
              "Mercury        USA        9\n",
              "Mitsubishi     Asia      13\n",
              "Nissan         Asia      17\n",
              "Oldsmobile     USA        3\n",
              "Pontiac        USA       11\n",
              "Porsche        Europe     7\n",
              "Saab           Europe     7\n",
              "Saturn         USA        8\n",
              "Scion          Asia       2\n",
              "Subaru         Asia      11\n",
              "Suzuki         Asia       8\n",
              "Toyota         Asia      28\n",
              "Volkswagen     Europe    15\n",
              "Volvo          Europe    12\n",
              "Name: Model, dtype: int64"
            ]
          },
          "metadata": {},
          "execution_count": 14
        }
      ]
    },
    {
      "cell_type": "code",
      "metadata": {
        "colab": {
          "base_uri": "https://localhost:8080/"
        },
        "id": "Ptc2P4ih1Nrs",
        "outputId": "b8d27962-2bc4-435e-b9fb-4c983bc36ab4"
      },
      "source": [
        "# Orgin of cars  VS make\n",
        "df.groupby(['Origin'])['Model'].count()"
      ],
      "execution_count": 13,
      "outputs": [
        {
          "output_type": "execute_result",
          "data": {
            "text/plain": [
              "Origin\n",
              "Asia      160\n",
              "Europe    125\n",
              "USA       147\n",
              "Name: Model, dtype: int64"
            ]
          },
          "metadata": {},
          "execution_count": 13
        }
      ]
    },
    {
      "cell_type": "code",
      "metadata": {
        "colab": {
          "base_uri": "https://localhost:8080/",
          "height": 267
        },
        "id": "ElecCjIcvCLJ",
        "outputId": "0b304d98-5a2e-4cf4-bc52-70f6474d7525"
      },
      "source": [
        "# Visialisation PIE 'different Model by origin'\n",
        " \n",
        "df.groupby(['Origin'])['Model'].count().plot.pie(autopct='%0.f%%')"
      ],
      "execution_count": 16,
      "outputs": [
        {
          "output_type": "execute_result",
          "data": {
            "text/plain": [
              "<matplotlib.axes._subplots.AxesSubplot at 0x7f4e6b21fd50>"
            ]
          },
          "metadata": {},
          "execution_count": 16
        },
        {
          "output_type": "display_data",
          "data": {
            "image/png": "[encoded data removed]",
            "text/plain": [
              "<Figure size 432x288 with 1 Axes>"
            ]
          },
          "metadata": {}
        }
      ]
    },
    {
      "cell_type": "markdown",
      "metadata": {
        "id": "Rmpvf3PsBpYn"
      },
      "source": [
        "In our data we have more cars with origine of Asia than USA and Europe."
      ]
    },
    {
      "cell_type": "code",
      "metadata": {
        "colab": {
          "base_uri": "https://localhost:8080/",
          "height": 746
        },
        "id": "39SCb2CW3BaW",
        "outputId": "d33357b9-361c-4b1c-800a-e4e2d79c8dc4"
      },
      "source": [
        "df3=df.copy()\n",
        "# Deleet duplicated element in 'Make'\n",
        "df3['grouped']=df3.groupby('Make')['Model'].transform(lambda x:','.join(x))\n",
        "df3.head(5)"
      ],
      "execution_count": 17,
      "outputs": [
        {
          "output_type": "execute_result",
          "data": {
            "text/html": [
              "<div>\n",
              "<style scoped>\n",
              "    .dataframe tbody tr th:only-of-type {\n",
              "        vertical-align: middle;\n",
              "    }\n",
              "\n",
              "    .dataframe tbody tr th {\n",
              "        vertical-align: top;\n",
              "    }\n",
              "\n",
              "    .dataframe thead th {\n",
              "        text-align: right;\n",
              "    }\n",
              "</style>\n",
              "<table border=\"1\" class=\"dataframe\">\n",
              "  <thead>\n",
              "    <tr style=\"text-align: right;\">\n",
              "      <th></th>\n",
              "      <th>Make</th>\n",
              "      <th>Model</th>\n",
              "      <th>Type</th>\n",
              "      <th>Origin</th>\n",
              "      <th>DriveTrain</th>\n",
              "      <th>MSRP</th>\n",
              "      <th>Invoice</th>\n",
              "      <th>EngineSize</th>\n",
              "      <th>Cylinders</th>\n",
              "      <th>Horsepower</th>\n",
              "      <th>MPG_City</th>\n",
              "      <th>MPG_Highway</th>\n",
              "      <th>Weight</th>\n",
              "      <th>Wheelbase</th>\n",
              "      <th>Length</th>\n",
              "      <th>grouped</th>\n",
              "    </tr>\n",
              "  </thead>\n",
              "  <tbody>\n",
              "    <tr>\n",
              "      <th>0</th>\n",
              "      <td>Acura</td>\n",
              "      <td>MDX</td>\n",
              "      <td>SUV</td>\n",
              "      <td>Asia</td>\n",
              "      <td>All</td>\n",
              "      <td>36945</td>\n",
              "      <td>33337</td>\n",
              "      <td>3.5</td>\n",
              "      <td>6.0</td>\n",
              "      <td>265.0</td>\n",
              "      <td>17.0</td>\n",
              "      <td>23.0</td>\n",
              "      <td>4451.0</td>\n",
              "      <td>106.0</td>\n",
              "      <td>189.0</td>\n",
              "      <td>MDX,RSX Type S 2dr,TSX 4dr,TL 4dr,3.5 RL 4dr,3...</td>\n",
              "    </tr>\n",
              "    <tr>\n",
              "      <th>1</th>\n",
              "      <td>Acura</td>\n",
              "      <td>RSX Type S 2dr</td>\n",
              "      <td>Sedan</td>\n",
              "      <td>Asia</td>\n",
              "      <td>Front</td>\n",
              "      <td>23820</td>\n",
              "      <td>21761</td>\n",
              "      <td>2.0</td>\n",
              "      <td>4.0</td>\n",
              "      <td>200.0</td>\n",
              "      <td>24.0</td>\n",
              "      <td>31.0</td>\n",
              "      <td>2778.0</td>\n",
              "      <td>101.0</td>\n",
              "      <td>172.0</td>\n",
              "      <td>MDX,RSX Type S 2dr,TSX 4dr,TL 4dr,3.5 RL 4dr,3...</td>\n",
              "    </tr>\n",
              "    <tr>\n",
              "      <th>2</th>\n",
              "      <td>Acura</td>\n",
              "      <td>TSX 4dr</td>\n",
              "      <td>Sedan</td>\n",
              "      <td>Asia</td>\n",
              "      <td>Front</td>\n",
              "      <td>26990</td>\n",
              "      <td>24647</td>\n",
              "      <td>2.4</td>\n",
              "      <td>4.0</td>\n",
              "      <td>200.0</td>\n",
              "      <td>22.0</td>\n",
              "      <td>29.0</td>\n",
              "      <td>3230.0</td>\n",
              "      <td>105.0</td>\n",
              "      <td>183.0</td>\n",
              "      <td>MDX,RSX Type S 2dr,TSX 4dr,TL 4dr,3.5 RL 4dr,3...</td>\n",
              "    </tr>\n",
              "    <tr>\n",
              "      <th>3</th>\n",
              "      <td>Acura</td>\n",
              "      <td>TL 4dr</td>\n",
              "      <td>Sedan</td>\n",
              "      <td>Asia</td>\n",
              "      <td>Front</td>\n",
              "      <td>33195</td>\n",
              "      <td>30299</td>\n",
              "      <td>3.2</td>\n",
              "      <td>6.0</td>\n",
              "      <td>270.0</td>\n",
              "      <td>20.0</td>\n",
              "      <td>28.0</td>\n",
              "      <td>3575.0</td>\n",
              "      <td>108.0</td>\n",
              "      <td>186.0</td>\n",
              "      <td>MDX,RSX Type S 2dr,TSX 4dr,TL 4dr,3.5 RL 4dr,3...</td>\n",
              "    </tr>\n",
              "    <tr>\n",
              "      <th>4</th>\n",
              "      <td>Acura</td>\n",
              "      <td>3.5 RL 4dr</td>\n",
              "      <td>Sedan</td>\n",
              "      <td>Asia</td>\n",
              "      <td>Front</td>\n",
              "      <td>43755</td>\n",
              "      <td>39014</td>\n",
              "      <td>3.5</td>\n",
              "      <td>6.0</td>\n",
              "      <td>225.0</td>\n",
              "      <td>18.0</td>\n",
              "      <td>24.0</td>\n",
              "      <td>3880.0</td>\n",
              "      <td>115.0</td>\n",
              "      <td>197.0</td>\n",
              "      <td>MDX,RSX Type S 2dr,TSX 4dr,TL 4dr,3.5 RL 4dr,3...</td>\n",
              "    </tr>\n",
              "  </tbody>\n",
              "</table>\n",
              "</div>"
            ],
            "text/plain": [
              "    Make  ...                                            grouped\n",
              "0  Acura  ...  MDX,RSX Type S 2dr,TSX 4dr,TL 4dr,3.5 RL 4dr,3...\n",
              "1  Acura  ...  MDX,RSX Type S 2dr,TSX 4dr,TL 4dr,3.5 RL 4dr,3...\n",
              "2  Acura  ...  MDX,RSX Type S 2dr,TSX 4dr,TL 4dr,3.5 RL 4dr,3...\n",
              "3  Acura  ...  MDX,RSX Type S 2dr,TSX 4dr,TL 4dr,3.5 RL 4dr,3...\n",
              "4  Acura  ...  MDX,RSX Type S 2dr,TSX 4dr,TL 4dr,3.5 RL 4dr,3...\n",
              "\n",
              "[5 rows x 16 columns]"
            ]
          },
          "metadata": {},
          "execution_count": 17
        }
      ]
    },
    {
      "cell_type": "code",
      "metadata": {
        "colab": {
          "base_uri": "https://localhost:8080/",
          "height": 267
        },
        "id": "hyfiXe5a5FS_",
        "outputId": "b1c0a724-2da8-4a1b-98ed-368dcaf380dd"
      },
      "source": [
        "df3.groupby(['Make'])['grouped'].count().plot.pie()\n"
      ],
      "execution_count": null,
      "outputs": [
        {
          "output_type": "execute_result",
          "data": {
            "text/plain": [
              "<matplotlib.axes._subplots.AxesSubplot at 0x7fa70526ab90>"
            ]
          },
          "metadata": {},
          "execution_count": 73
        },
        {
          "output_type": "display_data",
          "data": {
            "image/png": "[encoded data removed]",
            "text/plain": [
              "<Figure size 432x288 with 1 Axes>"
            ]
          },
          "metadata": {}
        }
      ]
    },
    {
      "cell_type": "code",
      "metadata": {
        "colab": {
          "base_uri": "https://localhost:8080/"
        },
        "id": "EsH7GG-T53i_",
        "outputId": "71f9fe39-be7a-49bf-881a-ac090566716d"
      },
      "source": [
        "# The highst Horsepower for each Make\n",
        "df3.groupby(['Make'])['Horsepower'].max()"
      ],
      "execution_count": 19,
      "outputs": [
        {
          "output_type": "execute_result",
          "data": {
            "text/plain": [
              "Make\n",
              "Acura            290.0\n",
              "Audi             450.0\n",
              "BMW              333.0\n",
              "Buick            275.0\n",
              "Cadillac         345.0\n",
              "Chevrolet        350.0\n",
              "Chrysler         255.0\n",
              "Dodge            500.0\n",
              "Ford             310.0\n",
              "GMC              325.0\n",
              "Honda            240.0\n",
              "Hummer           316.0\n",
              "Hyundai          210.0\n",
              "Infiniti         340.0\n",
              "Isuzu            275.0\n",
              "Jaguar           390.0\n",
              "Jeep             195.0\n",
              "Kia              195.0\n",
              "Land Rover       282.0\n",
              "Lexus            300.0\n",
              "Lincoln          302.0\n",
              "MINI             163.0\n",
              "Mazda            238.0\n",
              "Mercedes-Benz    493.0\n",
              "Mercury          302.0\n",
              "Mitsubishi       271.0\n",
              "Nissan           305.0\n",
              "Oldsmobile       185.0\n",
              "Pontiac          340.0\n",
              "Porsche          477.0\n",
              "Saab             250.0\n",
              "Saturn           182.0\n",
              "Scion            108.0\n",
              "Subaru           300.0\n",
              "Suzuki           185.0\n",
              "Toyota           325.0\n",
              "Volkswagen       420.0\n",
              "Volvo            300.0\n",
              "Name: Horsepower, dtype: float64"
            ]
          },
          "metadata": {},
          "execution_count": 19
        }
      ]
    },
    {
      "cell_type": "code",
      "metadata": {
        "colab": {
          "base_uri": "https://localhost:8080/",
          "height": 364
        },
        "id": "Eo7dwkCxAn_S",
        "outputId": "06fbf49f-813a-4aae-e387-a84039a76008"
      },
      "source": [
        "# visualisation for The highst Horsepower for each model\n",
        "df3.groupby(['Make'])['Horsepower'].max().plot(kind='bar')"
      ],
      "execution_count": null,
      "outputs": [
        {
          "output_type": "execute_result",
          "data": {
            "text/plain": [
              "<matplotlib.axes._subplots.AxesSubplot at 0x7fa704e40810>"
            ]
          },
          "metadata": {},
          "execution_count": 112
        },
        {
          "output_type": "display_data",
          "data": {
            "image/png": "[encoded data removed]",
            "text/plain": [
              "<Figure size 432x288 with 1 Axes>"
            ]
          },
          "metadata": {
            "needs_background": "light"
          }
        }
      ]
    },
    {
      "cell_type": "markdown",
      "metadata": {
        "id": "uPJnioS_CYvp"
      },
      "source": [
        "Sudi, Dodge, M.Benz, Porsche and Volkswagen have a monopoly on the most powerful cars (hp)."
      ]
    },
    {
      "cell_type": "code",
      "metadata": {
        "colab": {
          "base_uri": "https://localhost:8080/",
          "height": 323
        },
        "id": "tji1dYDCBAkI",
        "outputId": "be4f1abb-8395-4fd7-b8e0-9d1c53a91c1e"
      },
      "source": [
        "# visualisation for The highst Horsepower by Origin\n",
        "df3.groupby(['Origin'])['Horsepower'].max().plot(kind='bar')"
      ],
      "execution_count": null,
      "outputs": [
        {
          "output_type": "execute_result",
          "data": {
            "text/plain": [
              "<matplotlib.axes._subplots.AxesSubplot at 0x7fa704d5f690>"
            ]
          },
          "metadata": {},
          "execution_count": 113
        },
        {
          "output_type": "display_data",
          "data": {
            "image/png": "[encoded data removed]",
            "text/plain": [
              "<Figure size 432x288 with 1 Axes>"
            ]
          },
          "metadata": {
            "needs_background": "light"
          }
        }
      ]
    },
    {
      "cell_type": "markdown",
      "metadata": {
        "id": "KEJFjd3oDJP3"
      },
      "source": [
        "USA has the pole position in terms of the most powerful cars then Europe and Asia."
      ]
    },
    {
      "cell_type": "code",
      "metadata": {
        "colab": {
          "base_uri": "https://localhost:8080/",
          "height": 746
        },
        "id": "wBc3YHMrBbtq",
        "outputId": "5619613a-e042-4c0f-ece7-f0eb441135fe"
      },
      "source": [
        "# Creation of a new column \" MPG_mean\" for the mean \"MPG_City,MPG_Highway\"\n",
        "\n",
        "df3['MPG_mean']=(df3['MPG_City']+df3['MPG_Highway'])//2\n",
        "df3.head(5)"
      ],
      "execution_count": 32,
      "outputs": [
        {
          "output_type": "execute_result",
          "data": {
            "text/html": [
              "<div>\n",
              "<style scoped>\n",
              "    .dataframe tbody tr th:only-of-type {\n",
              "        vertical-align: middle;\n",
              "    }\n",
              "\n",
              "    .dataframe tbody tr th {\n",
              "        vertical-align: top;\n",
              "    }\n",
              "\n",
              "    .dataframe thead th {\n",
              "        text-align: right;\n",
              "    }\n",
              "</style>\n",
              "<table border=\"1\" class=\"dataframe\">\n",
              "  <thead>\n",
              "    <tr style=\"text-align: right;\">\n",
              "      <th></th>\n",
              "      <th>Make</th>\n",
              "      <th>Model</th>\n",
              "      <th>Type</th>\n",
              "      <th>Origin</th>\n",
              "      <th>DriveTrain</th>\n",
              "      <th>MSRP</th>\n",
              "      <th>Invoice</th>\n",
              "      <th>EngineSize</th>\n",
              "      <th>Cylinders</th>\n",
              "      <th>Horsepower</th>\n",
              "      <th>MPG_City</th>\n",
              "      <th>MPG_Highway</th>\n",
              "      <th>Weight</th>\n",
              "      <th>Wheelbase</th>\n",
              "      <th>Length</th>\n",
              "      <th>grouped</th>\n",
              "      <th>MPG_mean</th>\n",
              "    </tr>\n",
              "  </thead>\n",
              "  <tbody>\n",
              "    <tr>\n",
              "      <th>0</th>\n",
              "      <td>Acura</td>\n",
              "      <td>MDX</td>\n",
              "      <td>SUV</td>\n",
              "      <td>Asia</td>\n",
              "      <td>All</td>\n",
              "      <td>36945</td>\n",
              "      <td>33337</td>\n",
              "      <td>3.5</td>\n",
              "      <td>6.0</td>\n",
              "      <td>265.0</td>\n",
              "      <td>17.0</td>\n",
              "      <td>23.0</td>\n",
              "      <td>4451.0</td>\n",
              "      <td>106.0</td>\n",
              "      <td>189.0</td>\n",
              "      <td>MDX,RSX Type S 2dr,TSX 4dr,TL 4dr,3.5 RL 4dr,3...</td>\n",
              "      <td>20.0</td>\n",
              "    </tr>\n",
              "    <tr>\n",
              "      <th>1</th>\n",
              "      <td>Acura</td>\n",
              "      <td>RSX Type S 2dr</td>\n",
              "      <td>Sedan</td>\n",
              "      <td>Asia</td>\n",
              "      <td>Front</td>\n",
              "      <td>23820</td>\n",
              "      <td>21761</td>\n",
              "      <td>2.0</td>\n",
              "      <td>4.0</td>\n",
              "      <td>200.0</td>\n",
              "      <td>24.0</td>\n",
              "      <td>31.0</td>\n",
              "      <td>2778.0</td>\n",
              "      <td>101.0</td>\n",
              "      <td>172.0</td>\n",
              "      <td>MDX,RSX Type S 2dr,TSX 4dr,TL 4dr,3.5 RL 4dr,3...</td>\n",
              "      <td>27.0</td>\n",
              "    </tr>\n",
              "    <tr>\n",
              "      <th>2</th>\n",
              "      <td>Acura</td>\n",
              "      <td>TSX 4dr</td>\n",
              "      <td>Sedan</td>\n",
              "      <td>Asia</td>\n",
              "      <td>Front</td>\n",
              "      <td>26990</td>\n",
              "      <td>24647</td>\n",
              "      <td>2.4</td>\n",
              "      <td>4.0</td>\n",
              "      <td>200.0</td>\n",
              "      <td>22.0</td>\n",
              "      <td>29.0</td>\n",
              "      <td>3230.0</td>\n",
              "      <td>105.0</td>\n",
              "      <td>183.0</td>\n",
              "      <td>MDX,RSX Type S 2dr,TSX 4dr,TL 4dr,3.5 RL 4dr,3...</td>\n",
              "      <td>25.0</td>\n",
              "    </tr>\n",
              "    <tr>\n",
              "      <th>3</th>\n",
              "      <td>Acura</td>\n",
              "      <td>TL 4dr</td>\n",
              "      <td>Sedan</td>\n",
              "      <td>Asia</td>\n",
              "      <td>Front</td>\n",
              "      <td>33195</td>\n",
              "      <td>30299</td>\n",
              "      <td>3.2</td>\n",
              "      <td>6.0</td>\n",
              "      <td>270.0</td>\n",
              "      <td>20.0</td>\n",
              "      <td>28.0</td>\n",
              "      <td>3575.0</td>\n",
              "      <td>108.0</td>\n",
              "      <td>186.0</td>\n",
              "      <td>MDX,RSX Type S 2dr,TSX 4dr,TL 4dr,3.5 RL 4dr,3...</td>\n",
              "      <td>24.0</td>\n",
              "    </tr>\n",
              "    <tr>\n",
              "      <th>4</th>\n",
              "      <td>Acura</td>\n",
              "      <td>3.5 RL 4dr</td>\n",
              "      <td>Sedan</td>\n",
              "      <td>Asia</td>\n",
              "      <td>Front</td>\n",
              "      <td>43755</td>\n",
              "      <td>39014</td>\n",
              "      <td>3.5</td>\n",
              "      <td>6.0</td>\n",
              "      <td>225.0</td>\n",
              "      <td>18.0</td>\n",
              "      <td>24.0</td>\n",
              "      <td>3880.0</td>\n",
              "      <td>115.0</td>\n",
              "      <td>197.0</td>\n",
              "      <td>MDX,RSX Type S 2dr,TSX 4dr,TL 4dr,3.5 RL 4dr,3...</td>\n",
              "      <td>21.0</td>\n",
              "    </tr>\n",
              "  </tbody>\n",
              "</table>\n",
              "</div>"
            ],
            "text/plain": [
              "    Make  ... MPG_mean\n",
              "0  Acura  ...     20.0\n",
              "1  Acura  ...     27.0\n",
              "2  Acura  ...     25.0\n",
              "3  Acura  ...     24.0\n",
              "4  Acura  ...     21.0\n",
              "\n",
              "[5 rows x 17 columns]"
            ]
          },
          "metadata": {},
          "execution_count": 32
        }
      ]
    },
    {
      "cell_type": "code",
      "metadata": {
        "colab": {
          "base_uri": "https://localhost:8080/",
          "height": 364
        },
        "id": "fI3oWfesESSl",
        "outputId": "5d4e5663-b148-467f-9fe9-104219262d89"
      },
      "source": [
        "# visualisation for The mean MPG_mean by Make\n",
        "df3.groupby(['Make'])['MPG_mean'].mean().plot(kind='bar')"
      ],
      "execution_count": 33,
      "outputs": [
        {
          "output_type": "execute_result",
          "data": {
            "text/plain": [
              "<matplotlib.axes._subplots.AxesSubplot at 0x7f4e6ac80110>"
            ]
          },
          "metadata": {},
          "execution_count": 33
        },
        {
          "output_type": "display_data",
          "data": {
            "image/png": "[encoded data removed]",
            "text/plain": [
              "<Figure size 432x288 with 1 Axes>"
            ]
          },
          "metadata": {
            "needs_background": "light"
          }
        }
      ]
    },
    {
      "cell_type": "markdown",
      "metadata": {
        "id": "JRGspigaDYqE"
      },
      "source": [
        "Honda, Mini and Scion are the most economical in terms of fuel consumption while Hummer consumes almost 3 times more."
      ]
    },
    {
      "cell_type": "code",
      "metadata": {
        "colab": {
          "base_uri": "https://localhost:8080/",
          "height": 311
        },
        "id": "HP9GkES4E-qq",
        "outputId": "22116e19-a25e-4d80-9e7f-22a06493bc05"
      },
      "source": [
        "# visualisation for The mean MPG_mean by Cylinders\n",
        "# La visiualisation de la consomation moyenne parraport au nombre de cylindre\n",
        "\n",
        "df3.groupby(['Cylinders'])['MPG_mean'].mean().plot(kind='bar')"
      ],
      "execution_count": null,
      "outputs": [
        {
          "output_type": "execute_result",
          "data": {
            "text/plain": [
              "<matplotlib.axes._subplots.AxesSubplot at 0x7fa7038ddb10>"
            ]
          },
          "metadata": {},
          "execution_count": 143
        },
        {
          "output_type": "display_data",
          "data": {
            "image/png": "[encoded data removed]",
            "text/plain": [
              "<Figure size 432x288 with 1 Axes>"
            ]
          },
          "metadata": {
            "needs_background": "light"
          }
        }
      ]
    },
    {
      "cell_type": "markdown",
      "metadata": {
        "id": "ZefP0-GBEREn"
      },
      "source": [
        "3-cylinder cars are the most economical."
      ]
    },
    {
      "cell_type": "code",
      "metadata": {
        "colab": {
          "base_uri": "https://localhost:8080/",
          "height": 308
        },
        "id": "9oDCM2cjF5aG",
        "outputId": "1fd0f5da-ffb4-4bf0-fad7-59e007d32775"
      },
      "source": [
        "# visualisation for The mean MPG_Highway by Cylinders\n",
        "# La visiualisation de la consomation moyenne en MPG_Highway parraport au nombre de cylindre\n",
        "\n",
        "df3.groupby(['Cylinders'])['MPG_Highway'].mean().plot(kind='bar')\n",
        "plt.title('visualisation for The mean MPG_Highway by Cylinders')\n",
        "plt.xlabel('Number of Cylinders')\n",
        "plt.ylabel('MPG_mean')\n",
        "plt.show()\n"
      ],
      "execution_count": null,
      "outputs": [
        {
          "output_type": "display_data",
          "data": {
            "image/png": "[encoded data removed]",
            "text/plain": [
              "<Figure size 432x288 with 1 Axes>"
            ]
          },
          "metadata": {
            "needs_background": "light"
          }
        }
      ]
    },
    {
      "cell_type": "code",
      "metadata": {
        "colab": {
          "base_uri": "https://localhost:8080/",
          "height": 1000
        },
        "id": "VoZZdQ3QeNLc",
        "outputId": "60f0255c-1884-4d6e-83a1-97f525c7f3cb"
      },
      "source": [
        "# Show all the records where Origine is Asia or Europe\n",
        "\n",
        "df3[df3['Origin'].isin(['Asia','Europe'])]"
      ],
      "execution_count": null,
      "outputs": [
        {
          "output_type": "execute_result",
          "data": {
            "text/html": [
              "<div>\n",
              "<style scoped>\n",
              "    .dataframe tbody tr th:only-of-type {\n",
              "        vertical-align: middle;\n",
              "    }\n",
              "\n",
              "    .dataframe tbody tr th {\n",
              "        vertical-align: top;\n",
              "    }\n",
              "\n",
              "    .dataframe thead th {\n",
              "        text-align: right;\n",
              "    }\n",
              "</style>\n",
              "<table border=\"1\" class=\"dataframe\">\n",
              "  <thead>\n",
              "    <tr style=\"text-align: right;\">\n",
              "      <th></th>\n",
              "      <th>Make</th>\n",
              "      <th>Model</th>\n",
              "      <th>Type</th>\n",
              "      <th>Origin</th>\n",
              "      <th>DriveTrain</th>\n",
              "      <th>MSRP</th>\n",
              "      <th>Invoice</th>\n",
              "      <th>EngineSize</th>\n",
              "      <th>Cylinders</th>\n",
              "      <th>Horsepower</th>\n",
              "      <th>MPG_City</th>\n",
              "      <th>MPG_Highway</th>\n",
              "      <th>Weight</th>\n",
              "      <th>Wheelbase</th>\n",
              "      <th>Length</th>\n",
              "      <th>grouped</th>\n",
              "    </tr>\n",
              "  </thead>\n",
              "  <tbody>\n",
              "    <tr>\n",
              "      <th>0</th>\n",
              "      <td>Acura</td>\n",
              "      <td>MDX</td>\n",
              "      <td>SUV</td>\n",
              "      <td>Asia</td>\n",
              "      <td>All</td>\n",
              "      <td>36945</td>\n",
              "      <td>33337</td>\n",
              "      <td>3.5</td>\n",
              "      <td>6.0</td>\n",
              "      <td>265.0</td>\n",
              "      <td>17.0</td>\n",
              "      <td>23.0</td>\n",
              "      <td>4451.0</td>\n",
              "      <td>106.0</td>\n",
              "      <td>189.0</td>\n",
              "      <td>MDX,RSX Type S 2dr,TSX 4dr,TL 4dr,3.5 RL 4dr,3...</td>\n",
              "    </tr>\n",
              "    <tr>\n",
              "      <th>1</th>\n",
              "      <td>Acura</td>\n",
              "      <td>RSX Type S 2dr</td>\n",
              "      <td>Sedan</td>\n",
              "      <td>Asia</td>\n",
              "      <td>Front</td>\n",
              "      <td>23820</td>\n",
              "      <td>21761</td>\n",
              "      <td>2.0</td>\n",
              "      <td>4.0</td>\n",
              "      <td>200.0</td>\n",
              "      <td>24.0</td>\n",
              "      <td>31.0</td>\n",
              "      <td>2778.0</td>\n",
              "      <td>101.0</td>\n",
              "      <td>172.0</td>\n",
              "      <td>MDX,RSX Type S 2dr,TSX 4dr,TL 4dr,3.5 RL 4dr,3...</td>\n",
              "    </tr>\n",
              "    <tr>\n",
              "      <th>2</th>\n",
              "      <td>Acura</td>\n",
              "      <td>TSX 4dr</td>\n",
              "      <td>Sedan</td>\n",
              "      <td>Asia</td>\n",
              "      <td>Front</td>\n",
              "      <td>26990</td>\n",
              "      <td>24647</td>\n",
              "      <td>2.4</td>\n",
              "      <td>4.0</td>\n",
              "      <td>200.0</td>\n",
              "      <td>22.0</td>\n",
              "      <td>29.0</td>\n",
              "      <td>3230.0</td>\n",
              "      <td>105.0</td>\n",
              "      <td>183.0</td>\n",
              "      <td>MDX,RSX Type S 2dr,TSX 4dr,TL 4dr,3.5 RL 4dr,3...</td>\n",
              "    </tr>\n",
              "    <tr>\n",
              "      <th>3</th>\n",
              "      <td>Acura</td>\n",
              "      <td>TL 4dr</td>\n",
              "      <td>Sedan</td>\n",
              "      <td>Asia</td>\n",
              "      <td>Front</td>\n",
              "      <td>33195</td>\n",
              "      <td>30299</td>\n",
              "      <td>3.2</td>\n",
              "      <td>6.0</td>\n",
              "      <td>270.0</td>\n",
              "      <td>20.0</td>\n",
              "      <td>28.0</td>\n",
              "      <td>3575.0</td>\n",
              "      <td>108.0</td>\n",
              "      <td>186.0</td>\n",
              "      <td>MDX,RSX Type S 2dr,TSX 4dr,TL 4dr,3.5 RL 4dr,3...</td>\n",
              "    </tr>\n",
              "    <tr>\n",
              "      <th>4</th>\n",
              "      <td>Acura</td>\n",
              "      <td>3.5 RL 4dr</td>\n",
              "      <td>Sedan</td>\n",
              "      <td>Asia</td>\n",
              "      <td>Front</td>\n",
              "      <td>43755</td>\n",
              "      <td>39014</td>\n",
              "      <td>3.5</td>\n",
              "      <td>6.0</td>\n",
              "      <td>225.0</td>\n",
              "      <td>18.0</td>\n",
              "      <td>24.0</td>\n",
              "      <td>3880.0</td>\n",
              "      <td>115.0</td>\n",
              "      <td>197.0</td>\n",
              "      <td>MDX,RSX Type S 2dr,TSX 4dr,TL 4dr,3.5 RL 4dr,3...</td>\n",
              "    </tr>\n",
              "    <tr>\n",
              "      <th>...</th>\n",
              "      <td>...</td>\n",
              "      <td>...</td>\n",
              "      <td>...</td>\n",
              "      <td>...</td>\n",
              "      <td>...</td>\n",
              "      <td>...</td>\n",
              "      <td>...</td>\n",
              "      <td>...</td>\n",
              "      <td>...</td>\n",
              "      <td>...</td>\n",
              "      <td>...</td>\n",
              "      <td>...</td>\n",
              "      <td>...</td>\n",
              "      <td>...</td>\n",
              "      <td>...</td>\n",
              "      <td>...</td>\n",
              "    </tr>\n",
              "    <tr>\n",
              "      <th>427</th>\n",
              "      <td>Volvo</td>\n",
              "      <td>C70 LPT convertible 2dr</td>\n",
              "      <td>Sedan</td>\n",
              "      <td>Europe</td>\n",
              "      <td>Front</td>\n",
              "      <td>40565</td>\n",
              "      <td>38203</td>\n",
              "      <td>2.4</td>\n",
              "      <td>5.0</td>\n",
              "      <td>197.0</td>\n",
              "      <td>21.0</td>\n",
              "      <td>28.0</td>\n",
              "      <td>3450.0</td>\n",
              "      <td>105.0</td>\n",
              "      <td>186.0</td>\n",
              "      <td>XC90 T6,S40 4dr,S60 2.5 4dr,S60 T5 4dr,S60 R 4...</td>\n",
              "    </tr>\n",
              "    <tr>\n",
              "      <th>428</th>\n",
              "      <td>Volvo</td>\n",
              "      <td>C70 HPT convertible 2dr</td>\n",
              "      <td>Sedan</td>\n",
              "      <td>Europe</td>\n",
              "      <td>Front</td>\n",
              "      <td>42565</td>\n",
              "      <td>40083</td>\n",
              "      <td>2.3</td>\n",
              "      <td>5.0</td>\n",
              "      <td>242.0</td>\n",
              "      <td>20.0</td>\n",
              "      <td>26.0</td>\n",
              "      <td>3450.0</td>\n",
              "      <td>105.0</td>\n",
              "      <td>186.0</td>\n",
              "      <td>XC90 T6,S40 4dr,S60 2.5 4dr,S60 T5 4dr,S60 R 4...</td>\n",
              "    </tr>\n",
              "    <tr>\n",
              "      <th>429</th>\n",
              "      <td>Volvo</td>\n",
              "      <td>S80 T6 4dr</td>\n",
              "      <td>Sedan</td>\n",
              "      <td>Europe</td>\n",
              "      <td>Front</td>\n",
              "      <td>45210</td>\n",
              "      <td>42573</td>\n",
              "      <td>2.9</td>\n",
              "      <td>6.0</td>\n",
              "      <td>268.0</td>\n",
              "      <td>19.0</td>\n",
              "      <td>26.0</td>\n",
              "      <td>3653.0</td>\n",
              "      <td>110.0</td>\n",
              "      <td>190.0</td>\n",
              "      <td>XC90 T6,S40 4dr,S60 2.5 4dr,S60 T5 4dr,S60 R 4...</td>\n",
              "    </tr>\n",
              "    <tr>\n",
              "      <th>430</th>\n",
              "      <td>Volvo</td>\n",
              "      <td>V40</td>\n",
              "      <td>Wagon</td>\n",
              "      <td>Europe</td>\n",
              "      <td>Front</td>\n",
              "      <td>26135</td>\n",
              "      <td>24641</td>\n",
              "      <td>1.9</td>\n",
              "      <td>4.0</td>\n",
              "      <td>170.0</td>\n",
              "      <td>22.0</td>\n",
              "      <td>29.0</td>\n",
              "      <td>2822.0</td>\n",
              "      <td>101.0</td>\n",
              "      <td>180.0</td>\n",
              "      <td>XC90 T6,S40 4dr,S60 2.5 4dr,S60 T5 4dr,S60 R 4...</td>\n",
              "    </tr>\n",
              "    <tr>\n",
              "      <th>431</th>\n",
              "      <td>Volvo</td>\n",
              "      <td>XC70</td>\n",
              "      <td>Wagon</td>\n",
              "      <td>Europe</td>\n",
              "      <td>All</td>\n",
              "      <td>35145</td>\n",
              "      <td>33112</td>\n",
              "      <td>2.5</td>\n",
              "      <td>5.0</td>\n",
              "      <td>208.0</td>\n",
              "      <td>20.0</td>\n",
              "      <td>27.0</td>\n",
              "      <td>3823.0</td>\n",
              "      <td>109.0</td>\n",
              "      <td>186.0</td>\n",
              "      <td>XC90 T6,S40 4dr,S60 2.5 4dr,S60 T5 4dr,S60 R 4...</td>\n",
              "    </tr>\n",
              "  </tbody>\n",
              "</table>\n",
              "<p>285 rows × 16 columns</p>\n",
              "</div>"
            ],
            "text/plain": [
              "      Make  ...                                            grouped\n",
              "0    Acura  ...  MDX,RSX Type S 2dr,TSX 4dr,TL 4dr,3.5 RL 4dr,3...\n",
              "1    Acura  ...  MDX,RSX Type S 2dr,TSX 4dr,TL 4dr,3.5 RL 4dr,3...\n",
              "2    Acura  ...  MDX,RSX Type S 2dr,TSX 4dr,TL 4dr,3.5 RL 4dr,3...\n",
              "3    Acura  ...  MDX,RSX Type S 2dr,TSX 4dr,TL 4dr,3.5 RL 4dr,3...\n",
              "4    Acura  ...  MDX,RSX Type S 2dr,TSX 4dr,TL 4dr,3.5 RL 4dr,3...\n",
              "..     ...  ...                                                ...\n",
              "427  Volvo  ...  XC90 T6,S40 4dr,S60 2.5 4dr,S60 T5 4dr,S60 R 4...\n",
              "428  Volvo  ...  XC90 T6,S40 4dr,S60 2.5 4dr,S60 T5 4dr,S60 R 4...\n",
              "429  Volvo  ...  XC90 T6,S40 4dr,S60 2.5 4dr,S60 T5 4dr,S60 R 4...\n",
              "430  Volvo  ...  XC90 T6,S40 4dr,S60 2.5 4dr,S60 T5 4dr,S60 R 4...\n",
              "431  Volvo  ...  XC90 T6,S40 4dr,S60 2.5 4dr,S60 T5 4dr,S60 R 4...\n",
              "\n",
              "[285 rows x 16 columns]"
            ]
          },
          "metadata": {},
          "execution_count": 186
        }
      ]
    },
    {
      "cell_type": "code",
      "metadata": {
        "colab": {
          "base_uri": "https://localhost:8080/",
          "height": 1000
        },
        "id": "1hIp_jTHmFRk",
        "outputId": "5296af56-6bfe-4e64-d66a-7cdb35309ab0"
      },
      "source": [
        "# Instruction (Removing unwanted records)\n",
        "# Remove all the records(rows) where weight is above 4000\n",
        "\n",
        "df3[~(df3['Weight']>4000)]"
      ],
      "execution_count": null,
      "outputs": [
        {
          "output_type": "execute_result",
          "data": {
            "text/html": [
              "<div>\n",
              "<style scoped>\n",
              "    .dataframe tbody tr th:only-of-type {\n",
              "        vertical-align: middle;\n",
              "    }\n",
              "\n",
              "    .dataframe tbody tr th {\n",
              "        vertical-align: top;\n",
              "    }\n",
              "\n",
              "    .dataframe thead th {\n",
              "        text-align: right;\n",
              "    }\n",
              "</style>\n",
              "<table border=\"1\" class=\"dataframe\">\n",
              "  <thead>\n",
              "    <tr style=\"text-align: right;\">\n",
              "      <th></th>\n",
              "      <th>Make</th>\n",
              "      <th>Model</th>\n",
              "      <th>Type</th>\n",
              "      <th>Origin</th>\n",
              "      <th>DriveTrain</th>\n",
              "      <th>MSRP</th>\n",
              "      <th>Invoice</th>\n",
              "      <th>EngineSize</th>\n",
              "      <th>Cylinders</th>\n",
              "      <th>Horsepower</th>\n",
              "      <th>MPG_City</th>\n",
              "      <th>MPG_Highway</th>\n",
              "      <th>Weight</th>\n",
              "      <th>Wheelbase</th>\n",
              "      <th>Length</th>\n",
              "      <th>grouped</th>\n",
              "    </tr>\n",
              "  </thead>\n",
              "  <tbody>\n",
              "    <tr>\n",
              "      <th>1</th>\n",
              "      <td>Acura</td>\n",
              "      <td>RSX Type S 2dr</td>\n",
              "      <td>Sedan</td>\n",
              "      <td>Asia</td>\n",
              "      <td>Front</td>\n",
              "      <td>23820</td>\n",
              "      <td>21761</td>\n",
              "      <td>2.0</td>\n",
              "      <td>4.0</td>\n",
              "      <td>200.0</td>\n",
              "      <td>24.0</td>\n",
              "      <td>31.0</td>\n",
              "      <td>2778.0</td>\n",
              "      <td>101.0</td>\n",
              "      <td>172.0</td>\n",
              "      <td>MDX,RSX Type S 2dr,TSX 4dr,TL 4dr,3.5 RL 4dr,3...</td>\n",
              "    </tr>\n",
              "    <tr>\n",
              "      <th>2</th>\n",
              "      <td>Acura</td>\n",
              "      <td>TSX 4dr</td>\n",
              "      <td>Sedan</td>\n",
              "      <td>Asia</td>\n",
              "      <td>Front</td>\n",
              "      <td>26990</td>\n",
              "      <td>24647</td>\n",
              "      <td>2.4</td>\n",
              "      <td>4.0</td>\n",
              "      <td>200.0</td>\n",
              "      <td>22.0</td>\n",
              "      <td>29.0</td>\n",
              "      <td>3230.0</td>\n",
              "      <td>105.0</td>\n",
              "      <td>183.0</td>\n",
              "      <td>MDX,RSX Type S 2dr,TSX 4dr,TL 4dr,3.5 RL 4dr,3...</td>\n",
              "    </tr>\n",
              "    <tr>\n",
              "      <th>3</th>\n",
              "      <td>Acura</td>\n",
              "      <td>TL 4dr</td>\n",
              "      <td>Sedan</td>\n",
              "      <td>Asia</td>\n",
              "      <td>Front</td>\n",
              "      <td>33195</td>\n",
              "      <td>30299</td>\n",
              "      <td>3.2</td>\n",
              "      <td>6.0</td>\n",
              "      <td>270.0</td>\n",
              "      <td>20.0</td>\n",
              "      <td>28.0</td>\n",
              "      <td>3575.0</td>\n",
              "      <td>108.0</td>\n",
              "      <td>186.0</td>\n",
              "      <td>MDX,RSX Type S 2dr,TSX 4dr,TL 4dr,3.5 RL 4dr,3...</td>\n",
              "    </tr>\n",
              "    <tr>\n",
              "      <th>4</th>\n",
              "      <td>Acura</td>\n",
              "      <td>3.5 RL 4dr</td>\n",
              "      <td>Sedan</td>\n",
              "      <td>Asia</td>\n",
              "      <td>Front</td>\n",
              "      <td>43755</td>\n",
              "      <td>39014</td>\n",
              "      <td>3.5</td>\n",
              "      <td>6.0</td>\n",
              "      <td>225.0</td>\n",
              "      <td>18.0</td>\n",
              "      <td>24.0</td>\n",
              "      <td>3880.0</td>\n",
              "      <td>115.0</td>\n",
              "      <td>197.0</td>\n",
              "      <td>MDX,RSX Type S 2dr,TSX 4dr,TL 4dr,3.5 RL 4dr,3...</td>\n",
              "    </tr>\n",
              "    <tr>\n",
              "      <th>5</th>\n",
              "      <td>Acura</td>\n",
              "      <td>3.5 RL w/Navigation 4dr</td>\n",
              "      <td>Sedan</td>\n",
              "      <td>Asia</td>\n",
              "      <td>Front</td>\n",
              "      <td>46100</td>\n",
              "      <td>41100</td>\n",
              "      <td>3.5</td>\n",
              "      <td>6.0</td>\n",
              "      <td>225.0</td>\n",
              "      <td>18.0</td>\n",
              "      <td>24.0</td>\n",
              "      <td>3893.0</td>\n",
              "      <td>115.0</td>\n",
              "      <td>197.0</td>\n",
              "      <td>MDX,RSX Type S 2dr,TSX 4dr,TL 4dr,3.5 RL 4dr,3...</td>\n",
              "    </tr>\n",
              "    <tr>\n",
              "      <th>...</th>\n",
              "      <td>...</td>\n",
              "      <td>...</td>\n",
              "      <td>...</td>\n",
              "      <td>...</td>\n",
              "      <td>...</td>\n",
              "      <td>...</td>\n",
              "      <td>...</td>\n",
              "      <td>...</td>\n",
              "      <td>...</td>\n",
              "      <td>...</td>\n",
              "      <td>...</td>\n",
              "      <td>...</td>\n",
              "      <td>...</td>\n",
              "      <td>...</td>\n",
              "      <td>...</td>\n",
              "      <td>...</td>\n",
              "    </tr>\n",
              "    <tr>\n",
              "      <th>427</th>\n",
              "      <td>Volvo</td>\n",
              "      <td>C70 LPT convertible 2dr</td>\n",
              "      <td>Sedan</td>\n",
              "      <td>Europe</td>\n",
              "      <td>Front</td>\n",
              "      <td>40565</td>\n",
              "      <td>38203</td>\n",
              "      <td>2.4</td>\n",
              "      <td>5.0</td>\n",
              "      <td>197.0</td>\n",
              "      <td>21.0</td>\n",
              "      <td>28.0</td>\n",
              "      <td>3450.0</td>\n",
              "      <td>105.0</td>\n",
              "      <td>186.0</td>\n",
              "      <td>XC90 T6,S40 4dr,S60 2.5 4dr,S60 T5 4dr,S60 R 4...</td>\n",
              "    </tr>\n",
              "    <tr>\n",
              "      <th>428</th>\n",
              "      <td>Volvo</td>\n",
              "      <td>C70 HPT convertible 2dr</td>\n",
              "      <td>Sedan</td>\n",
              "      <td>Europe</td>\n",
              "      <td>Front</td>\n",
              "      <td>42565</td>\n",
              "      <td>40083</td>\n",
              "      <td>2.3</td>\n",
              "      <td>5.0</td>\n",
              "      <td>242.0</td>\n",
              "      <td>20.0</td>\n",
              "      <td>26.0</td>\n",
              "      <td>3450.0</td>\n",
              "      <td>105.0</td>\n",
              "      <td>186.0</td>\n",
              "      <td>XC90 T6,S40 4dr,S60 2.5 4dr,S60 T5 4dr,S60 R 4...</td>\n",
              "    </tr>\n",
              "    <tr>\n",
              "      <th>429</th>\n",
              "      <td>Volvo</td>\n",
              "      <td>S80 T6 4dr</td>\n",
              "      <td>Sedan</td>\n",
              "      <td>Europe</td>\n",
              "      <td>Front</td>\n",
              "      <td>45210</td>\n",
              "      <td>42573</td>\n",
              "      <td>2.9</td>\n",
              "      <td>6.0</td>\n",
              "      <td>268.0</td>\n",
              "      <td>19.0</td>\n",
              "      <td>26.0</td>\n",
              "      <td>3653.0</td>\n",
              "      <td>110.0</td>\n",
              "      <td>190.0</td>\n",
              "      <td>XC90 T6,S40 4dr,S60 2.5 4dr,S60 T5 4dr,S60 R 4...</td>\n",
              "    </tr>\n",
              "    <tr>\n",
              "      <th>430</th>\n",
              "      <td>Volvo</td>\n",
              "      <td>V40</td>\n",
              "      <td>Wagon</td>\n",
              "      <td>Europe</td>\n",
              "      <td>Front</td>\n",
              "      <td>26135</td>\n",
              "      <td>24641</td>\n",
              "      <td>1.9</td>\n",
              "      <td>4.0</td>\n",
              "      <td>170.0</td>\n",
              "      <td>22.0</td>\n",
              "      <td>29.0</td>\n",
              "      <td>2822.0</td>\n",
              "      <td>101.0</td>\n",
              "      <td>180.0</td>\n",
              "      <td>XC90 T6,S40 4dr,S60 2.5 4dr,S60 T5 4dr,S60 R 4...</td>\n",
              "    </tr>\n",
              "    <tr>\n",
              "      <th>431</th>\n",
              "      <td>Volvo</td>\n",
              "      <td>XC70</td>\n",
              "      <td>Wagon</td>\n",
              "      <td>Europe</td>\n",
              "      <td>All</td>\n",
              "      <td>35145</td>\n",
              "      <td>33112</td>\n",
              "      <td>2.5</td>\n",
              "      <td>5.0</td>\n",
              "      <td>208.0</td>\n",
              "      <td>20.0</td>\n",
              "      <td>27.0</td>\n",
              "      <td>3823.0</td>\n",
              "      <td>109.0</td>\n",
              "      <td>186.0</td>\n",
              "      <td>XC90 T6,S40 4dr,S60 2.5 4dr,S60 T5 4dr,S60 R 4...</td>\n",
              "    </tr>\n",
              "  </tbody>\n",
              "</table>\n",
              "<p>329 rows × 16 columns</p>\n",
              "</div>"
            ],
            "text/plain": [
              "      Make  ...                                            grouped\n",
              "1    Acura  ...  MDX,RSX Type S 2dr,TSX 4dr,TL 4dr,3.5 RL 4dr,3...\n",
              "2    Acura  ...  MDX,RSX Type S 2dr,TSX 4dr,TL 4dr,3.5 RL 4dr,3...\n",
              "3    Acura  ...  MDX,RSX Type S 2dr,TSX 4dr,TL 4dr,3.5 RL 4dr,3...\n",
              "4    Acura  ...  MDX,RSX Type S 2dr,TSX 4dr,TL 4dr,3.5 RL 4dr,3...\n",
              "5    Acura  ...  MDX,RSX Type S 2dr,TSX 4dr,TL 4dr,3.5 RL 4dr,3...\n",
              "..     ...  ...                                                ...\n",
              "427  Volvo  ...  XC90 T6,S40 4dr,S60 2.5 4dr,S60 T5 4dr,S60 R 4...\n",
              "428  Volvo  ...  XC90 T6,S40 4dr,S60 2.5 4dr,S60 T5 4dr,S60 R 4...\n",
              "429  Volvo  ...  XC90 T6,S40 4dr,S60 2.5 4dr,S60 T5 4dr,S60 R 4...\n",
              "430  Volvo  ...  XC90 T6,S40 4dr,S60 2.5 4dr,S60 T5 4dr,S60 R 4...\n",
              "431  Volvo  ...  XC90 T6,S40 4dr,S60 2.5 4dr,S60 T5 4dr,S60 R 4...\n",
              "\n",
              "[329 rows x 16 columns]"
            ]
          },
          "metadata": {},
          "execution_count": 193
        }
      ]
    },
    {
      "cell_type": "code",
      "metadata": {
        "colab": {
          "base_uri": "https://localhost:8080/"
        },
        "id": "XfuW2c2koQjc",
        "outputId": "d0a80f74-6452-4a56-a2f5-60c915af9cda"
      },
      "source": [
        "# Instruction * applying a function on a column*\n",
        "# Increase all the values of MPG_City column by 3\n",
        "\n",
        "df3['MPG_City']=df3['MPG_City'].apply(lambda x:x+3)\n",
        "df3['MPG_City'].head(5)"
      ],
      "execution_count": null,
      "outputs": [
        {
          "output_type": "execute_result",
          "data": {
            "text/plain": [
              "0    29.0\n",
              "1    36.0\n",
              "2    34.0\n",
              "3    32.0\n",
              "4    30.0\n",
              "Name: MPG_City, dtype: float64"
            ]
          },
          "metadata": {},
          "execution_count": 198
        }
      ]
    },
    {
      "cell_type": "code",
      "metadata": {
        "colab": {
          "base_uri": "https://localhost:8080/"
        },
        "id": "luOsjxu8Gs0W",
        "outputId": "f2daa1b7-ed26-433a-eb42-66981d684ad5"
      },
      "source": [
        "#Finding Pearson's Correlation Coefficient (EngineSize VS Cylinders)\n",
        "data_cars['EngineSize'].corr(data_cars['Cylinders'])\n"
      ],
      "execution_count": 30,
      "outputs": [
        {
          "output_type": "execute_result",
          "data": {
            "text/plain": [
              "0.9080023416876987"
            ]
          },
          "metadata": {},
          "execution_count": 30
        }
      ]
    },
    {
      "cell_type": "markdown",
      "metadata": {
        "id": "kTdCk3FYILAF"
      },
      "source": [
        "Very strong correlation between the size of engine and the numbers of cylinders."
      ]
    },
    {
      "cell_type": "code",
      "metadata": {
        "colab": {
          "base_uri": "https://localhost:8080/"
        },
        "id": "9prdV1Q0PC1k",
        "outputId": "8e46b838-ba07-4b7c-88c2-3643895de55a"
      },
      "source": [
        "\n",
        "df3['MPG_mean'].corr(df3['Horsepower'])"
      ],
      "execution_count": 37,
      "outputs": [
        {
          "output_type": "execute_result",
          "data": {
            "text/plain": [
              "-0.6660759470284282"
            ]
          },
          "metadata": {},
          "execution_count": 37
        }
      ]
    },
    {
      "cell_type": "markdown",
      "metadata": {
        "id": "GrjnWi3rQF0f"
      },
      "source": [
        "We've a negative (inverse) correlation. This is an indication that both MPG_mean and Horsepower move in the opposite direction.\n"
      ]
    }
  ]
}