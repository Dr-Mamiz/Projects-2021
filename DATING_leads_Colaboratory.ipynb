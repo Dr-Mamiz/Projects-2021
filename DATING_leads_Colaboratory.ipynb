{
  "cells": [
    {
      "cell_type": "markdown",
      "metadata": {
        "id": "view-in-github",
        "colab_type": "text"
      },
      "source": [
        "<a href=\"https://colab.research.google.com/github/Dr-Mamiz/Projects-Data-Analysis/blob/main/DATING_leads_Colaboratory.ipynb\" target=\"_parent\"><img src=\"https://colab.research.google.com/assets/colab-badge.svg\" alt=\"Open In Colab\"/></a>"
      ]
    },
    {
      "cell_type": "code",
      "source": [
        "# Import packages\n",
        "import os\n",
        "import pandas as pd\n",
        "import numpy as np\n",
        "import matplotlib.pyplot as plt\n",
        "import seaborn as sns"
      ],
      "metadata": {
        "id": "h5UcylNtf6GJ"
      },
      "execution_count": null,
      "outputs": []
    },
    {
      "cell_type": "markdown",
      "source": [
        "# **DATASET Advertiser_revenue**"
      ],
      "metadata": {
        "id": "6a5yZigoJt3C"
      }
    },
    {
      "cell_type": "code",
      "source": [
        "# Reading XL DATA in Python using Pandas - Exploring Option *XL/XLSX*\n",
        "xl_file=pd.ExcelFile('/content/Sample data 25 - 28aug.xlsx')\n",
        "Advertiser_revenue= xl_file.parse('Advertiser_revenue')\n",
        "Advertiser_revenue.head(8)"
      ],
      "metadata": {
        "colab": {
          "base_uri": "https://localhost:8080/",
          "height": 503
        },
        "id": "c-KaTMtlgDGG",
        "outputId": "af39c09d-397c-4774-b989-145a44a7e163"
      },
      "execution_count": null,
      "outputs": [
        {
          "output_type": "execute_result",
          "data": {
            "text/html": [
              "\n",
              "  <div id=\"df-f4d56997-0b9e-4e95-b1d8-0fd7611f9c81\">\n",
              "    <div class=\"colab-df-container\">\n",
              "      <div>\n",
              "<style scoped>\n",
              "    .dataframe tbody tr th:only-of-type {\n",
              "        vertical-align: middle;\n",
              "    }\n",
              "\n",
              "    .dataframe tbody tr th {\n",
              "        vertical-align: top;\n",
              "    }\n",
              "\n",
              "    .dataframe thead th {\n",
              "        text-align: right;\n",
              "    }\n",
              "</style>\n",
              "<table border=\"1\" class=\"dataframe\">\n",
              "  <thead>\n",
              "    <tr style=\"text-align: right;\">\n",
              "      <th></th>\n",
              "      <th>Conversion_id</th>\n",
              "      <th>Advertiser</th>\n",
              "      <th>Advertiser_id</th>\n",
              "      <th>date</th>\n",
              "      <th>device</th>\n",
              "      <th>geo</th>\n",
              "      <th>click_id</th>\n",
              "      <th>PI</th>\n",
              "      <th>Offer</th>\n",
              "      <th>payout</th>\n",
              "      <th>type</th>\n",
              "      <th>ConversionDate</th>\n",
              "    </tr>\n",
              "  </thead>\n",
              "  <tbody>\n",
              "    <tr>\n",
              "      <th>0</th>\n",
              "      <td>932843</td>\n",
              "      <td>AD_PPL</td>\n",
              "      <td>15</td>\n",
              "      <td>2021-08-26</td>\n",
              "      <td>mobile</td>\n",
              "      <td>US</td>\n",
              "      <td>aa55e2115caa474a97a583e407daae37</td>\n",
              "      <td>7</td>\n",
              "      <td>Offer_h</td>\n",
              "      <td>1.06</td>\n",
              "      <td>PPL</td>\n",
              "      <td>2021-08-26</td>\n",
              "    </tr>\n",
              "    <tr>\n",
              "      <th>1</th>\n",
              "      <td>936735</td>\n",
              "      <td>AD_PPL</td>\n",
              "      <td>15</td>\n",
              "      <td>2021-08-27</td>\n",
              "      <td>mobile</td>\n",
              "      <td>US</td>\n",
              "      <td>d7923fa7110e4dc884877dc5ed6f1f87</td>\n",
              "      <td>7</td>\n",
              "      <td>Offer_h</td>\n",
              "      <td>1.06</td>\n",
              "      <td>PPL</td>\n",
              "      <td>2021-08-27</td>\n",
              "    </tr>\n",
              "    <tr>\n",
              "      <th>2</th>\n",
              "      <td>937216</td>\n",
              "      <td>AD_PPL</td>\n",
              "      <td>15</td>\n",
              "      <td>2021-08-27</td>\n",
              "      <td>mobile</td>\n",
              "      <td>US</td>\n",
              "      <td>57e5065325ad47fb93e8c24b495b4d06</td>\n",
              "      <td>7</td>\n",
              "      <td>Offer_h</td>\n",
              "      <td>1.06</td>\n",
              "      <td>PPL</td>\n",
              "      <td>2021-08-27</td>\n",
              "    </tr>\n",
              "    <tr>\n",
              "      <th>3</th>\n",
              "      <td>943871</td>\n",
              "      <td>AD_PPL</td>\n",
              "      <td>15</td>\n",
              "      <td>2021-08-28</td>\n",
              "      <td>mobile</td>\n",
              "      <td>US</td>\n",
              "      <td>28ff4b940425460e939c3775a2541d08</td>\n",
              "      <td>7</td>\n",
              "      <td>Offer_h</td>\n",
              "      <td>1.06</td>\n",
              "      <td>PPL</td>\n",
              "      <td>2021-08-28</td>\n",
              "    </tr>\n",
              "    <tr>\n",
              "      <th>4</th>\n",
              "      <td>943247</td>\n",
              "      <td>AD_PPL</td>\n",
              "      <td>15</td>\n",
              "      <td>2021-08-28</td>\n",
              "      <td>mobile</td>\n",
              "      <td>US</td>\n",
              "      <td>2ea4f0e02153469d84757275dc8b703d</td>\n",
              "      <td>7</td>\n",
              "      <td>Offer_h</td>\n",
              "      <td>1.06</td>\n",
              "      <td>PPL</td>\n",
              "      <td>2021-08-28</td>\n",
              "    </tr>\n",
              "    <tr>\n",
              "      <th>5</th>\n",
              "      <td>943196</td>\n",
              "      <td>AD_PPL</td>\n",
              "      <td>15</td>\n",
              "      <td>2021-08-28</td>\n",
              "      <td>mobile</td>\n",
              "      <td>US</td>\n",
              "      <td>59f2dcd181cd47c7a044948db6c60d61</td>\n",
              "      <td>7</td>\n",
              "      <td>Offer_h</td>\n",
              "      <td>1.06</td>\n",
              "      <td>PPL</td>\n",
              "      <td>2021-08-28</td>\n",
              "    </tr>\n",
              "    <tr>\n",
              "      <th>6</th>\n",
              "      <td>942485</td>\n",
              "      <td>AD_PPL</td>\n",
              "      <td>15</td>\n",
              "      <td>2021-08-28</td>\n",
              "      <td>mobile</td>\n",
              "      <td>US</td>\n",
              "      <td>6eea4ee691c4422986dc61dc059f6749</td>\n",
              "      <td>7</td>\n",
              "      <td>Offer_h</td>\n",
              "      <td>1.06</td>\n",
              "      <td>PPL</td>\n",
              "      <td>2021-08-28</td>\n",
              "    </tr>\n",
              "    <tr>\n",
              "      <th>7</th>\n",
              "      <td>941849</td>\n",
              "      <td>AD_PPL</td>\n",
              "      <td>15</td>\n",
              "      <td>2021-08-28</td>\n",
              "      <td>mobile</td>\n",
              "      <td>US</td>\n",
              "      <td>4e4ca4f8bf9d48e396aa5c8e2b20fc1e</td>\n",
              "      <td>7</td>\n",
              "      <td>Offer_h</td>\n",
              "      <td>1.06</td>\n",
              "      <td>PPL</td>\n",
              "      <td>2021-08-28</td>\n",
              "    </tr>\n",
              "  </tbody>\n",
              "</table>\n",
              "</div>\n",
              "      <button class=\"colab-df-convert\" onclick=\"convertToInteractive('df-f4d56997-0b9e-4e95-b1d8-0fd7611f9c81')\"\n",
              "              title=\"Convert this dataframe to an interactive table.\"\n",
              "              style=\"display:none;\">\n",
              "        \n",
              "  <svg xmlns=\"http://www.w3.org/2000/svg\" height=\"24px\"viewBox=\"0 0 24 24\"\n",
              "       width=\"24px\">\n",
              "    <path d=\"M0 0h24v24H0V0z\" fill=\"none\"/>\n",
              "    <path d=\"M18.56 5.44l.94 2.06.94-2.06 2.06-.94-2.06-.94-.94-2.06-.94 2.06-2.06.94zm-11 1L8.5 8.5l.94-2.06 2.06-.94-2.06-.94L8.5 2.5l-.94 2.06-2.06.94zm10 10l.94 2.06.94-2.06 2.06-.94-2.06-.94-.94-2.06-.94 2.06-2.06.94z\"/><path d=\"M17.41 7.96l-1.37-1.37c-.4-.4-.92-.59-1.43-.59-.52 0-1.04.2-1.43.59L10.3 9.45l-7.72 7.72c-.78.78-.78 2.05 0 2.83L4 21.41c.39.39.9.59 1.41.59.51 0 1.02-.2 1.41-.59l7.78-7.78 2.81-2.81c.8-.78.8-2.07 0-2.86zM5.41 20L4 18.59l7.72-7.72 1.47 1.35L5.41 20z\"/>\n",
              "  </svg>\n",
              "      </button>\n",
              "      \n",
              "  <style>\n",
              "    .colab-df-container {\n",
              "      display:flex;\n",
              "      flex-wrap:wrap;\n",
              "      gap: 12px;\n",
              "    }\n",
              "\n",
              "    .colab-df-convert {\n",
              "      background-color: #E8F0FE;\n",
              "      border: none;\n",
              "      border-radius: 50%;\n",
              "      cursor: pointer;\n",
              "      display: none;\n",
              "      fill: #1967D2;\n",
              "      height: 32px;\n",
              "      padding: 0 0 0 0;\n",
              "      width: 32px;\n",
              "    }\n",
              "\n",
              "    .colab-df-convert:hover {\n",
              "      background-color: #E2EBFA;\n",
              "      box-shadow: 0px 1px 2px rgba(60, 64, 67, 0.3), 0px 1px 3px 1px rgba(60, 64, 67, 0.15);\n",
              "      fill: #174EA6;\n",
              "    }\n",
              "\n",
              "    [theme=dark] .colab-df-convert {\n",
              "      background-color: #3B4455;\n",
              "      fill: #D2E3FC;\n",
              "    }\n",
              "\n",
              "    [theme=dark] .colab-df-convert:hover {\n",
              "      background-color: #434B5C;\n",
              "      box-shadow: 0px 1px 3px 1px rgba(0, 0, 0, 0.15);\n",
              "      filter: drop-shadow(0px 1px 2px rgba(0, 0, 0, 0.3));\n",
              "      fill: #FFFFFF;\n",
              "    }\n",
              "  </style>\n",
              "\n",
              "      <script>\n",
              "        const buttonEl =\n",
              "          document.querySelector('#df-f4d56997-0b9e-4e95-b1d8-0fd7611f9c81 button.colab-df-convert');\n",
              "        buttonEl.style.display =\n",
              "          google.colab.kernel.accessAllowed ? 'block' : 'none';\n",
              "\n",
              "        async function convertToInteractive(key) {\n",
              "          const element = document.querySelector('#df-f4d56997-0b9e-4e95-b1d8-0fd7611f9c81');\n",
              "          const dataTable =\n",
              "            await google.colab.kernel.invokeFunction('convertToInteractive',\n",
              "                                                     [key], {});\n",
              "          if (!dataTable) return;\n",
              "\n",
              "          const docLinkHtml = 'Like what you see? Visit the ' +\n",
              "            '<a target=\"_blank\" href=https://colab.research.google.com/notebooks/data_table.ipynb>data table notebook</a>'\n",
              "            + ' to learn more about interactive tables.';\n",
              "          element.innerHTML = '';\n",
              "          dataTable['output_type'] = 'display_data';\n",
              "          await google.colab.output.renderOutput(dataTable, element);\n",
              "          const docLink = document.createElement('div');\n",
              "          docLink.innerHTML = docLinkHtml;\n",
              "          element.appendChild(docLink);\n",
              "        }\n",
              "      </script>\n",
              "    </div>\n",
              "  </div>\n",
              "  "
            ],
            "text/plain": [
              "   Conversion_id Advertiser  Advertiser_id  ... payout type ConversionDate\n",
              "0         932843     AD_PPL             15  ...   1.06  PPL     2021-08-26\n",
              "1         936735     AD_PPL             15  ...   1.06  PPL     2021-08-27\n",
              "2         937216     AD_PPL             15  ...   1.06  PPL     2021-08-27\n",
              "3         943871     AD_PPL             15  ...   1.06  PPL     2021-08-28\n",
              "4         943247     AD_PPL             15  ...   1.06  PPL     2021-08-28\n",
              "5         943196     AD_PPL             15  ...   1.06  PPL     2021-08-28\n",
              "6         942485     AD_PPL             15  ...   1.06  PPL     2021-08-28\n",
              "7         941849     AD_PPL             15  ...   1.06  PPL     2021-08-28\n",
              "\n",
              "[8 rows x 12 columns]"
            ]
          },
          "metadata": {},
          "execution_count": 2
        }
      ]
    },
    {
      "cell_type": "markdown",
      "source": [
        "##Usually I copy the dataset as df, to have the the original one safe in case I need to reuse it\n",
        "\n"
      ],
      "metadata": {
        "id": "N8x9mPq1lOMk"
      }
    },
    {
      "cell_type": "code",
      "source": [
        "# Copy of our dataset\n",
        "xl_file= pd.read_excel('/content/Sample data 25 - 28aug.xlsx')\n",
        "df=xl_file.copy()\n"
      ],
      "metadata": {
        "id": "t5A71C6XjvD8"
      },
      "execution_count": null,
      "outputs": []
    },
    {
      "cell_type": "code",
      "source": [
        "# Dataset SHAPE for Advertiser_revenue\n",
        "Advertiser_revenue.shape"
      ],
      "metadata": {
        "colab": {
          "base_uri": "https://localhost:8080/"
        },
        "id": "4l26hDL3lWf0",
        "outputId": "0d22365f-45c1-40f9-9a7e-60ccd1443ea9"
      },
      "execution_count": null,
      "outputs": [
        {
          "output_type": "execute_result",
          "data": {
            "text/plain": [
              "(23949, 12)"
            ]
          },
          "metadata": {},
          "execution_count": 4
        }
      ]
    },
    {
      "cell_type": "markdown",
      "source": [
        "**Our dataset contains Advertiser_revenue contains 23949 rows and 12 columns.**\n",
        "\n"
      ],
      "metadata": {
        "id": "eoK_5xH_lrdL"
      }
    },
    {
      "cell_type": "code",
      "source": [
        "# Basic information about our dataset Advertiser_revenue \n",
        "Advertiser_revenue.info()"
      ],
      "metadata": {
        "colab": {
          "base_uri": "https://localhost:8080/"
        },
        "id": "dE_lDonKl3AI",
        "outputId": "67d3160d-5cdc-4b5d-e903-efea2ac6de84"
      },
      "execution_count": null,
      "outputs": [
        {
          "output_type": "stream",
          "name": "stdout",
          "text": [
            "<class 'pandas.core.frame.DataFrame'>\n",
            "RangeIndex: 23949 entries, 0 to 23948\n",
            "Data columns (total 12 columns):\n",
            " #   Column          Non-Null Count  Dtype         \n",
            "---  ------          --------------  -----         \n",
            " 0   Conversion_id   23949 non-null  int64         \n",
            " 1   Advertiser      23949 non-null  object        \n",
            " 2   Advertiser_id   23949 non-null  int64         \n",
            " 3   date            23949 non-null  datetime64[ns]\n",
            " 4   device          23949 non-null  object        \n",
            " 5   geo             23949 non-null  object        \n",
            " 6   click_id        23944 non-null  object        \n",
            " 7   PI              23949 non-null  object        \n",
            " 8   Offer           23949 non-null  object        \n",
            " 9   payout          23949 non-null  float64       \n",
            " 10  type            23949 non-null  object        \n",
            " 11  ConversionDate  23949 non-null  datetime64[ns]\n",
            "dtypes: datetime64[ns](2), float64(1), int64(2), object(7)\n",
            "memory usage: 2.2+ MB\n"
          ]
        }
      ]
    },
    {
      "cell_type": "code",
      "source": [
        "# Checking if we have any weird values\n",
        "Advertiser_revenue.describe()"
      ],
      "metadata": {
        "colab": {
          "base_uri": "https://localhost:8080/",
          "height": 300
        },
        "id": "FJAOpWOkvLUB",
        "outputId": "c4f6b5e6-879c-4611-909c-08211ab6e7fe"
      },
      "execution_count": null,
      "outputs": [
        {
          "output_type": "execute_result",
          "data": {
            "text/html": [
              "\n",
              "  <div id=\"df-8a384936-d3b8-4630-837c-192fe923c1a5\">\n",
              "    <div class=\"colab-df-container\">\n",
              "      <div>\n",
              "<style scoped>\n",
              "    .dataframe tbody tr th:only-of-type {\n",
              "        vertical-align: middle;\n",
              "    }\n",
              "\n",
              "    .dataframe tbody tr th {\n",
              "        vertical-align: top;\n",
              "    }\n",
              "\n",
              "    .dataframe thead th {\n",
              "        text-align: right;\n",
              "    }\n",
              "</style>\n",
              "<table border=\"1\" class=\"dataframe\">\n",
              "  <thead>\n",
              "    <tr style=\"text-align: right;\">\n",
              "      <th></th>\n",
              "      <th>Advertiser_id</th>\n",
              "      <th>payout</th>\n",
              "    </tr>\n",
              "  </thead>\n",
              "  <tbody>\n",
              "    <tr>\n",
              "      <th>count</th>\n",
              "      <td>23949.000000</td>\n",
              "      <td>23949.000000</td>\n",
              "    </tr>\n",
              "    <tr>\n",
              "      <th>mean</th>\n",
              "      <td>28.161719</td>\n",
              "      <td>0.827878</td>\n",
              "    </tr>\n",
              "    <tr>\n",
              "      <th>std</th>\n",
              "      <td>18.870964</td>\n",
              "      <td>1.555221</td>\n",
              "    </tr>\n",
              "    <tr>\n",
              "      <th>min</th>\n",
              "      <td>6.000000</td>\n",
              "      <td>-75.000000</td>\n",
              "    </tr>\n",
              "    <tr>\n",
              "      <th>25%</th>\n",
              "      <td>11.000000</td>\n",
              "      <td>0.230000</td>\n",
              "    </tr>\n",
              "    <tr>\n",
              "      <th>50%</th>\n",
              "      <td>20.000000</td>\n",
              "      <td>0.750000</td>\n",
              "    </tr>\n",
              "    <tr>\n",
              "      <th>75%</th>\n",
              "      <td>50.000000</td>\n",
              "      <td>1.270000</td>\n",
              "    </tr>\n",
              "    <tr>\n",
              "      <th>max</th>\n",
              "      <td>51.000000</td>\n",
              "      <td>100.020000</td>\n",
              "    </tr>\n",
              "  </tbody>\n",
              "</table>\n",
              "</div>\n",
              "      <button class=\"colab-df-convert\" onclick=\"convertToInteractive('df-8a384936-d3b8-4630-837c-192fe923c1a5')\"\n",
              "              title=\"Convert this dataframe to an interactive table.\"\n",
              "              style=\"display:none;\">\n",
              "        \n",
              "  <svg xmlns=\"http://www.w3.org/2000/svg\" height=\"24px\"viewBox=\"0 0 24 24\"\n",
              "       width=\"24px\">\n",
              "    <path d=\"M0 0h24v24H0V0z\" fill=\"none\"/>\n",
              "    <path d=\"M18.56 5.44l.94 2.06.94-2.06 2.06-.94-2.06-.94-.94-2.06-.94 2.06-2.06.94zm-11 1L8.5 8.5l.94-2.06 2.06-.94-2.06-.94L8.5 2.5l-.94 2.06-2.06.94zm10 10l.94 2.06.94-2.06 2.06-.94-2.06-.94-.94-2.06-.94 2.06-2.06.94z\"/><path d=\"M17.41 7.96l-1.37-1.37c-.4-.4-.92-.59-1.43-.59-.52 0-1.04.2-1.43.59L10.3 9.45l-7.72 7.72c-.78.78-.78 2.05 0 2.83L4 21.41c.39.39.9.59 1.41.59.51 0 1.02-.2 1.41-.59l7.78-7.78 2.81-2.81c.8-.78.8-2.07 0-2.86zM5.41 20L4 18.59l7.72-7.72 1.47 1.35L5.41 20z\"/>\n",
              "  </svg>\n",
              "      </button>\n",
              "      \n",
              "  <style>\n",
              "    .colab-df-container {\n",
              "      display:flex;\n",
              "      flex-wrap:wrap;\n",
              "      gap: 12px;\n",
              "    }\n",
              "\n",
              "    .colab-df-convert {\n",
              "      background-color: #E8F0FE;\n",
              "      border: none;\n",
              "      border-radius: 50%;\n",
              "      cursor: pointer;\n",
              "      display: none;\n",
              "      fill: #1967D2;\n",
              "      height: 32px;\n",
              "      padding: 0 0 0 0;\n",
              "      width: 32px;\n",
              "    }\n",
              "\n",
              "    .colab-df-convert:hover {\n",
              "      background-color: #E2EBFA;\n",
              "      box-shadow: 0px 1px 2px rgba(60, 64, 67, 0.3), 0px 1px 3px 1px rgba(60, 64, 67, 0.15);\n",
              "      fill: #174EA6;\n",
              "    }\n",
              "\n",
              "    [theme=dark] .colab-df-convert {\n",
              "      background-color: #3B4455;\n",
              "      fill: #D2E3FC;\n",
              "    }\n",
              "\n",
              "    [theme=dark] .colab-df-convert:hover {\n",
              "      background-color: #434B5C;\n",
              "      box-shadow: 0px 1px 3px 1px rgba(0, 0, 0, 0.15);\n",
              "      filter: drop-shadow(0px 1px 2px rgba(0, 0, 0, 0.3));\n",
              "      fill: #FFFFFF;\n",
              "    }\n",
              "  </style>\n",
              "\n",
              "      <script>\n",
              "        const buttonEl =\n",
              "          document.querySelector('#df-8a384936-d3b8-4630-837c-192fe923c1a5 button.colab-df-convert');\n",
              "        buttonEl.style.display =\n",
              "          google.colab.kernel.accessAllowed ? 'block' : 'none';\n",
              "\n",
              "        async function convertToInteractive(key) {\n",
              "          const element = document.querySelector('#df-8a384936-d3b8-4630-837c-192fe923c1a5');\n",
              "          const dataTable =\n",
              "            await google.colab.kernel.invokeFunction('convertToInteractive',\n",
              "                                                     [key], {});\n",
              "          if (!dataTable) return;\n",
              "\n",
              "          const docLinkHtml = 'Like what you see? Visit the ' +\n",
              "            '<a target=\"_blank\" href=https://colab.research.google.com/notebooks/data_table.ipynb>data table notebook</a>'\n",
              "            + ' to learn more about interactive tables.';\n",
              "          element.innerHTML = '';\n",
              "          dataTable['output_type'] = 'display_data';\n",
              "          await google.colab.output.renderOutput(dataTable, element);\n",
              "          const docLink = document.createElement('div');\n",
              "          docLink.innerHTML = docLinkHtml;\n",
              "          element.appendChild(docLink);\n",
              "        }\n",
              "      </script>\n",
              "    </div>\n",
              "  </div>\n",
              "  "
            ],
            "text/plain": [
              "       Advertiser_id        payout\n",
              "count   23949.000000  23949.000000\n",
              "mean       28.161719      0.827878\n",
              "std        18.870964      1.555221\n",
              "min         6.000000    -75.000000\n",
              "25%        11.000000      0.230000\n",
              "50%        20.000000      0.750000\n",
              "75%        50.000000      1.270000\n",
              "max        51.000000    100.020000"
            ]
          },
          "metadata": {},
          "execution_count": 11
        }
      ]
    },
    {
      "cell_type": "markdown",
      "source": [
        "Perfect :)"
      ],
      "metadata": {
        "id": "rI8FGZzWvSZE"
      }
    },
    {
      "cell_type": "code",
      "source": [
        "# Since I don't need the columns 'Conversion_id' & 'click_id' & 'ConversionDate' so I'll delete them from our dataset\n",
        "del Advertiser_revenue['ConversionDate']\n",
        "del Advertiser_revenue['click_id']\n",
        "del Advertiser_revenue['Conversion_id']\n",
        "\n",
        "Advertiser_revenue.head(3)"
      ],
      "metadata": {
        "colab": {
          "base_uri": "https://localhost:8080/",
          "height": 143
        },
        "id": "osh8bFShvrH5",
        "outputId": "b663af9d-f54e-4f1f-f83a-059a7ac0ae9f"
      },
      "execution_count": null,
      "outputs": [
        {
          "output_type": "execute_result",
          "data": {
            "text/html": [
              "\n",
              "  <div id=\"df-2ce303b7-519c-4499-9b6c-f6a4ed206c5d\">\n",
              "    <div class=\"colab-df-container\">\n",
              "      <div>\n",
              "<style scoped>\n",
              "    .dataframe tbody tr th:only-of-type {\n",
              "        vertical-align: middle;\n",
              "    }\n",
              "\n",
              "    .dataframe tbody tr th {\n",
              "        vertical-align: top;\n",
              "    }\n",
              "\n",
              "    .dataframe thead th {\n",
              "        text-align: right;\n",
              "    }\n",
              "</style>\n",
              "<table border=\"1\" class=\"dataframe\">\n",
              "  <thead>\n",
              "    <tr style=\"text-align: right;\">\n",
              "      <th></th>\n",
              "      <th>Advertiser</th>\n",
              "      <th>Advertiser_id</th>\n",
              "      <th>date</th>\n",
              "      <th>device</th>\n",
              "      <th>geo</th>\n",
              "      <th>PI</th>\n",
              "      <th>Offer</th>\n",
              "      <th>payout</th>\n",
              "      <th>type</th>\n",
              "    </tr>\n",
              "  </thead>\n",
              "  <tbody>\n",
              "    <tr>\n",
              "      <th>0</th>\n",
              "      <td>AD_PPL</td>\n",
              "      <td>15</td>\n",
              "      <td>2021-08-26</td>\n",
              "      <td>mobile</td>\n",
              "      <td>US</td>\n",
              "      <td>7</td>\n",
              "      <td>Offer_h</td>\n",
              "      <td>1.06</td>\n",
              "      <td>PPL</td>\n",
              "    </tr>\n",
              "    <tr>\n",
              "      <th>1</th>\n",
              "      <td>AD_PPL</td>\n",
              "      <td>15</td>\n",
              "      <td>2021-08-27</td>\n",
              "      <td>mobile</td>\n",
              "      <td>US</td>\n",
              "      <td>7</td>\n",
              "      <td>Offer_h</td>\n",
              "      <td>1.06</td>\n",
              "      <td>PPL</td>\n",
              "    </tr>\n",
              "    <tr>\n",
              "      <th>2</th>\n",
              "      <td>AD_PPL</td>\n",
              "      <td>15</td>\n",
              "      <td>2021-08-27</td>\n",
              "      <td>mobile</td>\n",
              "      <td>US</td>\n",
              "      <td>7</td>\n",
              "      <td>Offer_h</td>\n",
              "      <td>1.06</td>\n",
              "      <td>PPL</td>\n",
              "    </tr>\n",
              "  </tbody>\n",
              "</table>\n",
              "</div>\n",
              "      <button class=\"colab-df-convert\" onclick=\"convertToInteractive('df-2ce303b7-519c-4499-9b6c-f6a4ed206c5d')\"\n",
              "              title=\"Convert this dataframe to an interactive table.\"\n",
              "              style=\"display:none;\">\n",
              "        \n",
              "  <svg xmlns=\"http://www.w3.org/2000/svg\" height=\"24px\"viewBox=\"0 0 24 24\"\n",
              "       width=\"24px\">\n",
              "    <path d=\"M0 0h24v24H0V0z\" fill=\"none\"/>\n",
              "    <path d=\"M18.56 5.44l.94 2.06.94-2.06 2.06-.94-2.06-.94-.94-2.06-.94 2.06-2.06.94zm-11 1L8.5 8.5l.94-2.06 2.06-.94-2.06-.94L8.5 2.5l-.94 2.06-2.06.94zm10 10l.94 2.06.94-2.06 2.06-.94-2.06-.94-.94-2.06-.94 2.06-2.06.94z\"/><path d=\"M17.41 7.96l-1.37-1.37c-.4-.4-.92-.59-1.43-.59-.52 0-1.04.2-1.43.59L10.3 9.45l-7.72 7.72c-.78.78-.78 2.05 0 2.83L4 21.41c.39.39.9.59 1.41.59.51 0 1.02-.2 1.41-.59l7.78-7.78 2.81-2.81c.8-.78.8-2.07 0-2.86zM5.41 20L4 18.59l7.72-7.72 1.47 1.35L5.41 20z\"/>\n",
              "  </svg>\n",
              "      </button>\n",
              "      \n",
              "  <style>\n",
              "    .colab-df-container {\n",
              "      display:flex;\n",
              "      flex-wrap:wrap;\n",
              "      gap: 12px;\n",
              "    }\n",
              "\n",
              "    .colab-df-convert {\n",
              "      background-color: #E8F0FE;\n",
              "      border: none;\n",
              "      border-radius: 50%;\n",
              "      cursor: pointer;\n",
              "      display: none;\n",
              "      fill: #1967D2;\n",
              "      height: 32px;\n",
              "      padding: 0 0 0 0;\n",
              "      width: 32px;\n",
              "    }\n",
              "\n",
              "    .colab-df-convert:hover {\n",
              "      background-color: #E2EBFA;\n",
              "      box-shadow: 0px 1px 2px rgba(60, 64, 67, 0.3), 0px 1px 3px 1px rgba(60, 64, 67, 0.15);\n",
              "      fill: #174EA6;\n",
              "    }\n",
              "\n",
              "    [theme=dark] .colab-df-convert {\n",
              "      background-color: #3B4455;\n",
              "      fill: #D2E3FC;\n",
              "    }\n",
              "\n",
              "    [theme=dark] .colab-df-convert:hover {\n",
              "      background-color: #434B5C;\n",
              "      box-shadow: 0px 1px 3px 1px rgba(0, 0, 0, 0.15);\n",
              "      filter: drop-shadow(0px 1px 2px rgba(0, 0, 0, 0.3));\n",
              "      fill: #FFFFFF;\n",
              "    }\n",
              "  </style>\n",
              "\n",
              "      <script>\n",
              "        const buttonEl =\n",
              "          document.querySelector('#df-2ce303b7-519c-4499-9b6c-f6a4ed206c5d button.colab-df-convert');\n",
              "        buttonEl.style.display =\n",
              "          google.colab.kernel.accessAllowed ? 'block' : 'none';\n",
              "\n",
              "        async function convertToInteractive(key) {\n",
              "          const element = document.querySelector('#df-2ce303b7-519c-4499-9b6c-f6a4ed206c5d');\n",
              "          const dataTable =\n",
              "            await google.colab.kernel.invokeFunction('convertToInteractive',\n",
              "                                                     [key], {});\n",
              "          if (!dataTable) return;\n",
              "\n",
              "          const docLinkHtml = 'Like what you see? Visit the ' +\n",
              "            '<a target=\"_blank\" href=https://colab.research.google.com/notebooks/data_table.ipynb>data table notebook</a>'\n",
              "            + ' to learn more about interactive tables.';\n",
              "          element.innerHTML = '';\n",
              "          dataTable['output_type'] = 'display_data';\n",
              "          await google.colab.output.renderOutput(dataTable, element);\n",
              "          const docLink = document.createElement('div');\n",
              "          docLink.innerHTML = docLinkHtml;\n",
              "          element.appendChild(docLink);\n",
              "        }\n",
              "      </script>\n",
              "    </div>\n",
              "  </div>\n",
              "  "
            ],
            "text/plain": [
              "  Advertiser  Advertiser_id       date  device geo PI    Offer  payout type\n",
              "0     AD_PPL             15 2021-08-26  mobile  US  7  Offer_h    1.06  PPL\n",
              "1     AD_PPL             15 2021-08-27  mobile  US  7  Offer_h    1.06  PPL\n",
              "2     AD_PPL             15 2021-08-27  mobile  US  7  Offer_h    1.06  PPL"
            ]
          },
          "metadata": {},
          "execution_count": 20
        }
      ]
    },
    {
      "cell_type": "code",
      "source": [
        "# Number of Advertisers by category for the dates: 25th ,26th ,27th ,28th of August\n",
        "Advertiser_revenue.groupby(['Advertiser'])['date'].count()"
      ],
      "metadata": {
        "colab": {
          "base_uri": "https://localhost:8080/"
        },
        "id": "1zCExO70zWqe",
        "outputId": "9e5a73c6-88ed-4d2d-f7cf-0360f9849a8a"
      },
      "execution_count": null,
      "outputs": [
        {
          "output_type": "execute_result",
          "data": {
            "text/plain": [
              "Advertiser\n",
              "AD_PPL           257\n",
              "AFF_PPL          263\n",
              "AF_PPL            14\n",
              "CL_PPL           606\n",
              "CPC_PPC         7631\n",
              "CUM_PPS            1\n",
              "IMA_CH_PPS        90\n",
              "IMA_DACH_PPS       2\n",
              "IMA_ES_PPS       173\n",
              "RED_PPL         2684\n",
              "RO_PPL          2979\n",
              "TDN_PPL          729\n",
              "TM2_PPL          832\n",
              "TN2_PPL          780\n",
              "TOG_PPL         3680\n",
              "TOG_PPS          801\n",
              "TP_PPL          2415\n",
              "XCA_PPL           12\n",
              "Name: date, dtype: int64"
            ]
          },
          "metadata": {},
          "execution_count": 23
        }
      ]
    },
    {
      "cell_type": "markdown",
      "source": [
        "\n",
        "##Number of Advertisers by category for the dates: 25th ,26th ,27th ,28th of August\n",
        "AD_PPL           257\n",
        "\n",
        "\n",
        "AFF_PPL          263\n",
        "\n",
        "\n",
        "AF_PPL            14\n",
        "\n",
        "\n",
        "CL_PPL           606\n",
        "\n",
        "\n",
        "CPC_PPC         7631\n",
        "\n",
        "\n",
        "CUM_PPS            1\n",
        "\n",
        "\n",
        "IMA_CH_PPS        90\n",
        "\n",
        "\n",
        "IMA_DACH_PPS       2\n",
        "\n",
        "\n",
        "IMA_ES_PPS       173\n",
        "\n",
        "\n",
        "RED_PPL         2684\n",
        "\n",
        "\n",
        "RO_PPL          2979\n",
        "\n",
        "\n",
        "TDN_PPL          729\n",
        "\n",
        "\n",
        "TM2_PPL          832\n",
        "\n",
        "\n",
        "TN2_PPL          780\n",
        "\n",
        "\n",
        "TOG_PPL         3680\n",
        "\n",
        "\n",
        "TOG_PPS          801\n",
        "\n",
        "\n",
        "TP_PPL          2415\n",
        "\n",
        "\n",
        "XCA_PPL           12"
      ],
      "metadata": {
        "id": "ExhQnxcrYI13"
      }
    },
    {
      "cell_type": "code",
      "source": [
        "Advertiser_revenue.geo.unique()"
      ],
      "metadata": {
        "colab": {
          "base_uri": "https://localhost:8080/"
        },
        "id": "SFbvtL0W1y88",
        "outputId": "eefab142-bfcf-4e9f-b296-9c09c8ebc466"
      },
      "execution_count": null,
      "outputs": [
        {
          "output_type": "execute_result",
          "data": {
            "text/plain": [
              "array(['US', 'BE', 'DE', 'CA', 'AU', 'UK', 'NZ', 'IT', 'FR', 'AT', 'CH',\n",
              "       'IE', 'NL', 'ES'], dtype=object)"
            ]
          },
          "metadata": {},
          "execution_count": 28
        }
      ]
    },
    {
      "cell_type": "code",
      "source": [
        "\n",
        "# visualization (diagram) Number of Advertisers by Countries\n",
        "plt.bar(Advertiser_revenue.groupby ('geo')['Advertiser'].count().index,df.groupby ('geo')['Advertiser'].count().values)\n",
        "plt.xticks(rotation='vertical')\n",
        "plt.xlabel ('Country')\n",
        "plt.ylabel ('Nb of AD')\n",
        "plt.show()"
      ],
      "metadata": {
        "colab": {
          "base_uri": "https://localhost:8080/",
          "height": 284
        },
        "id": "Gmg3wRq60JBS",
        "outputId": "6acdb2ae-12da-40e2-cac8-3228fb8b18d9"
      },
      "execution_count": null,
      "outputs": [
        {
          "output_type": "display_data",
          "data": {
            "image/png": "[encoded data removed]",
            "text/plain": [
              "<Figure size 432x288 with 1 Axes>"
            ]
          },
          "metadata": {
            "needs_background": "light"
          }
        }
      ]
    },
    {
      "cell_type": "markdown",
      "source": [
        "##As we can see from the diagram, NL is our best client and the next best are  DE & US.\n",
        "\n",
        "PS:We need to develop our market more in: AT, CA, IE, NZ and CH (to be market oriented)"
      ],
      "metadata": {
        "id": "SoIz3Ma35Un9"
      }
    },
    {
      "cell_type": "code",
      "source": [
        "# Income by AD category\n",
        "\n",
        "Advertiser_revenue.groupby(['Advertiser'])['payout'].sum().plot(kind='bar')\n",
        "plt.title('Income by AD category')\n",
        "plt.xlabel('Advertiser')\n",
        "plt.ylabel('payout_revenue')\n",
        "plt.show()"
      ],
      "metadata": {
        "colab": {
          "base_uri": "https://localhost:8080/",
          "height": 361
        },
        "id": "553e3ClC8lms",
        "outputId": "1905a281-5c13-4c58-819f-2dcc20985d44"
      },
      "execution_count": null,
      "outputs": [
        {
          "output_type": "display_data",
          "data": {
            "image/png": "[encoded data removed]",
            "text/plain": [
              "<Figure size 432x288 with 1 Axes>"
            ]
          },
          "metadata": {
            "needs_background": "light"
          }
        }
      ]
    },
    {
      "cell_type": "code",
      "source": [
        "# Income by Country\n",
        "\n",
        "Advertiser_revenue.groupby(['geo'])['payout'].sum().plot(kind='bar')\n",
        "plt.title('Income by Country')\n",
        "plt.xlabel('Country')\n",
        "plt.ylabel('payout_revenue')\n",
        "plt.show()"
      ],
      "metadata": {
        "colab": {
          "base_uri": "https://localhost:8080/",
          "height": 300
        },
        "id": "AGkGvbKf-0_j",
        "outputId": "0bbd0e93-e4b2-4758-e813-7f4b5e626672"
      },
      "execution_count": null,
      "outputs": [
        {
          "output_type": "display_data",
          "data": {
            "image/png": "[encoded data removed]",
            "text/plain": [
              "<Figure size 432x288 with 1 Axes>"
            ]
          },
          "metadata": {
            "needs_background": "light"
          }
        }
      ]
    },
    {
      "cell_type": "markdown",
      "source": [
        "##The highest incomes are from:\n",
        "\n",
        ".  1st postion: NL\n",
        "\n",
        ".  2nd position: DE\n",
        "\n",
        ".  3rd position: UK and BE\n",
        "\n",
        ".  4th position: USA\n",
        "\n",
        "*PS: I believe that we need to make more sales to: CA, FR,ES,IT,CH*"
      ],
      "metadata": {
        "id": "eZV4avBABtgf"
      }
    },
    {
      "cell_type": "code",
      "source": [
        "## Visualisation: PIE representing the % of mean Payout_Income per day\n",
        "\n",
        "colors = ['gold', 'yellowgreen', 'lightcoral', 'lightskyblue']\n",
        "Advertiser_revenue.groupby(['date'])['payout'].mean().plot.pie(autopct='%0.f%%',colors = colors)"
      ],
      "metadata": {
        "colab": {
          "base_uri": "https://localhost:8080/",
          "height": 267
        },
        "id": "aguM82A1Ffwo",
        "outputId": "15245446-0782-42d1-a2d0-05ae822fc23b"
      },
      "execution_count": null,
      "outputs": [
        {
          "output_type": "execute_result",
          "data": {
            "text/plain": [
              "<matplotlib.axes._subplots.AxesSubplot at 0x7f399fe3d090>"
            ]
          },
          "metadata": {},
          "execution_count": 53
        },
        {
          "output_type": "display_data",
          "data": {
            "image/png": "[encoded data removed]",
            "text/plain": [
              "<Figure size 432x288 with 1 Axes>"
            ]
          },
          "metadata": {}
        }
      ]
    },
    {
      "cell_type": "markdown",
      "source": [
        "##We are selling almost the same quantity of traffic during all days of the week. However, on the 28th *Saturday* a bit more due to the fact that it's a day off (weekend). "
      ],
      "metadata": {
        "id": "PB1MTfk7H-Dx"
      }
    },
    {
      "cell_type": "markdown",
      "source": [
        "# **DATASET payout_to_partners**"
      ],
      "metadata": {
        "id": "HkjvCf7-JfDl"
      }
    },
    {
      "cell_type": "code",
      "source": [
        "xl_file=pd.ExcelFile('/content/Sample data 25 - 28aug.xlsx')\n",
        "payout_to_partners= xl_file.parse('payout_to_partners')\n",
        "payout_to_partners.head(8)"
      ],
      "metadata": {
        "colab": {
          "base_uri": "https://localhost:8080/",
          "height": 503
        },
        "id": "eeUMqx5jJ4wc",
        "outputId": "0ee286b7-8045-4d56-c2ee-bb05aae92daf"
      },
      "execution_count": null,
      "outputs": [
        {
          "output_type": "execute_result",
          "data": {
            "text/html": [
              "\n",
              "  <div id=\"df-b9ff620f-71cb-4e9c-8776-9012e8025f6d\">\n",
              "    <div class=\"colab-df-container\">\n",
              "      <div>\n",
              "<style scoped>\n",
              "    .dataframe tbody tr th:only-of-type {\n",
              "        vertical-align: middle;\n",
              "    }\n",
              "\n",
              "    .dataframe tbody tr th {\n",
              "        vertical-align: top;\n",
              "    }\n",
              "\n",
              "    .dataframe thead th {\n",
              "        text-align: right;\n",
              "    }\n",
              "</style>\n",
              "<table border=\"1\" class=\"dataframe\">\n",
              "  <thead>\n",
              "    <tr style=\"text-align: right;\">\n",
              "      <th></th>\n",
              "      <th>PI</th>\n",
              "      <th>Advertiser_id</th>\n",
              "      <th>offer_name</th>\n",
              "      <th>country</th>\n",
              "      <th>click_date</th>\n",
              "      <th>Payout</th>\n",
              "      <th>transaction_id</th>\n",
              "      <th>type</th>\n",
              "      <th>conversion_status</th>\n",
              "      <th>Date.1</th>\n",
              "    </tr>\n",
              "  </thead>\n",
              "  <tbody>\n",
              "    <tr>\n",
              "      <th>0</th>\n",
              "      <td>77</td>\n",
              "      <td>9</td>\n",
              "      <td>Offer_b</td>\n",
              "      <td>Italy</td>\n",
              "      <td>8/27/2021 7:39:42 PM</td>\n",
              "      <td>1.65</td>\n",
              "      <td>e7c43602d0ec42978f0ce16b84302b04</td>\n",
              "      <td>CV</td>\n",
              "      <td>approved</td>\n",
              "      <td>2021-08-27</td>\n",
              "    </tr>\n",
              "    <tr>\n",
              "      <th>1</th>\n",
              "      <td>103</td>\n",
              "      <td>9</td>\n",
              "      <td>Offer_b</td>\n",
              "      <td>Spain</td>\n",
              "      <td>8/28/2021 10:11:23 AM</td>\n",
              "      <td>0.55</td>\n",
              "      <td>3fa2fd5bc9c4406a8576df0b20455835</td>\n",
              "      <td>CV</td>\n",
              "      <td>approved</td>\n",
              "      <td>2021-08-28</td>\n",
              "    </tr>\n",
              "    <tr>\n",
              "      <th>2</th>\n",
              "      <td>2</td>\n",
              "      <td>9</td>\n",
              "      <td>Offer_b</td>\n",
              "      <td>Netherlands</td>\n",
              "      <td>8/28/2021 7:04:16 PM</td>\n",
              "      <td>5.59</td>\n",
              "      <td>710c77437a9b45e498164f20d987f6f9</td>\n",
              "      <td>CV</td>\n",
              "      <td>approved</td>\n",
              "      <td>2021-08-28</td>\n",
              "    </tr>\n",
              "    <tr>\n",
              "      <th>3</th>\n",
              "      <td>445</td>\n",
              "      <td>9</td>\n",
              "      <td>Offer_b</td>\n",
              "      <td>Italy</td>\n",
              "      <td>8/25/2021 12:02:26 AM</td>\n",
              "      <td>1.65</td>\n",
              "      <td>9b159f8bcbb74b44b38510d6468d30fb</td>\n",
              "      <td>CV</td>\n",
              "      <td>approved</td>\n",
              "      <td>2021-08-25</td>\n",
              "    </tr>\n",
              "    <tr>\n",
              "      <th>4</th>\n",
              "      <td>559</td>\n",
              "      <td>9</td>\n",
              "      <td>Offer_b</td>\n",
              "      <td>Italy</td>\n",
              "      <td>8/25/2021 2:00:00 AM</td>\n",
              "      <td>1.65</td>\n",
              "      <td>19b0e887451b4a5c86f23e97cc0cd397</td>\n",
              "      <td>CV</td>\n",
              "      <td>approved</td>\n",
              "      <td>2021-08-25</td>\n",
              "    </tr>\n",
              "    <tr>\n",
              "      <th>5</th>\n",
              "      <td>149</td>\n",
              "      <td>9</td>\n",
              "      <td>Offer_b</td>\n",
              "      <td>Belgium</td>\n",
              "      <td>8/25/2021 4:04:50 PM</td>\n",
              "      <td>4.75</td>\n",
              "      <td>7785729c5d0242188b0ad0bd6b0b3afc</td>\n",
              "      <td>CV</td>\n",
              "      <td>approved</td>\n",
              "      <td>2021-08-25</td>\n",
              "    </tr>\n",
              "    <tr>\n",
              "      <th>6</th>\n",
              "      <td>152</td>\n",
              "      <td>9</td>\n",
              "      <td>Offer_b</td>\n",
              "      <td>Netherlands</td>\n",
              "      <td>8/26/2021 12:12:57 PM</td>\n",
              "      <td>5.25</td>\n",
              "      <td>42e89ccdf86e412a858ac4efdfa38c0f</td>\n",
              "      <td>CV</td>\n",
              "      <td>approved</td>\n",
              "      <td>2021-08-26</td>\n",
              "    </tr>\n",
              "    <tr>\n",
              "      <th>7</th>\n",
              "      <td>152</td>\n",
              "      <td>9</td>\n",
              "      <td>Offer_b</td>\n",
              "      <td>Netherlands</td>\n",
              "      <td>8/26/2021 12:40:06 PM</td>\n",
              "      <td>4.75</td>\n",
              "      <td>72d3312bd4954ed999995676ee6cd1ba</td>\n",
              "      <td>CV</td>\n",
              "      <td>approved</td>\n",
              "      <td>2021-08-26</td>\n",
              "    </tr>\n",
              "  </tbody>\n",
              "</table>\n",
              "</div>\n",
              "      <button class=\"colab-df-convert\" onclick=\"convertToInteractive('df-b9ff620f-71cb-4e9c-8776-9012e8025f6d')\"\n",
              "              title=\"Convert this dataframe to an interactive table.\"\n",
              "              style=\"display:none;\">\n",
              "        \n",
              "  <svg xmlns=\"http://www.w3.org/2000/svg\" height=\"24px\"viewBox=\"0 0 24 24\"\n",
              "       width=\"24px\">\n",
              "    <path d=\"M0 0h24v24H0V0z\" fill=\"none\"/>\n",
              "    <path d=\"M18.56 5.44l.94 2.06.94-2.06 2.06-.94-2.06-.94-.94-2.06-.94 2.06-2.06.94zm-11 1L8.5 8.5l.94-2.06 2.06-.94-2.06-.94L8.5 2.5l-.94 2.06-2.06.94zm10 10l.94 2.06.94-2.06 2.06-.94-2.06-.94-.94-2.06-.94 2.06-2.06.94z\"/><path d=\"M17.41 7.96l-1.37-1.37c-.4-.4-.92-.59-1.43-.59-.52 0-1.04.2-1.43.59L10.3 9.45l-7.72 7.72c-.78.78-.78 2.05 0 2.83L4 21.41c.39.39.9.59 1.41.59.51 0 1.02-.2 1.41-.59l7.78-7.78 2.81-2.81c.8-.78.8-2.07 0-2.86zM5.41 20L4 18.59l7.72-7.72 1.47 1.35L5.41 20z\"/>\n",
              "  </svg>\n",
              "      </button>\n",
              "      \n",
              "  <style>\n",
              "    .colab-df-container {\n",
              "      display:flex;\n",
              "      flex-wrap:wrap;\n",
              "      gap: 12px;\n",
              "    }\n",
              "\n",
              "    .colab-df-convert {\n",
              "      background-color: #E8F0FE;\n",
              "      border: none;\n",
              "      border-radius: 50%;\n",
              "      cursor: pointer;\n",
              "      display: none;\n",
              "      fill: #1967D2;\n",
              "      height: 32px;\n",
              "      padding: 0 0 0 0;\n",
              "      width: 32px;\n",
              "    }\n",
              "\n",
              "    .colab-df-convert:hover {\n",
              "      background-color: #E2EBFA;\n",
              "      box-shadow: 0px 1px 2px rgba(60, 64, 67, 0.3), 0px 1px 3px 1px rgba(60, 64, 67, 0.15);\n",
              "      fill: #174EA6;\n",
              "    }\n",
              "\n",
              "    [theme=dark] .colab-df-convert {\n",
              "      background-color: #3B4455;\n",
              "      fill: #D2E3FC;\n",
              "    }\n",
              "\n",
              "    [theme=dark] .colab-df-convert:hover {\n",
              "      background-color: #434B5C;\n",
              "      box-shadow: 0px 1px 3px 1px rgba(0, 0, 0, 0.15);\n",
              "      filter: drop-shadow(0px 1px 2px rgba(0, 0, 0, 0.3));\n",
              "      fill: #FFFFFF;\n",
              "    }\n",
              "  </style>\n",
              "\n",
              "      <script>\n",
              "        const buttonEl =\n",
              "          document.querySelector('#df-b9ff620f-71cb-4e9c-8776-9012e8025f6d button.colab-df-convert');\n",
              "        buttonEl.style.display =\n",
              "          google.colab.kernel.accessAllowed ? 'block' : 'none';\n",
              "\n",
              "        async function convertToInteractive(key) {\n",
              "          const element = document.querySelector('#df-b9ff620f-71cb-4e9c-8776-9012e8025f6d');\n",
              "          const dataTable =\n",
              "            await google.colab.kernel.invokeFunction('convertToInteractive',\n",
              "                                                     [key], {});\n",
              "          if (!dataTable) return;\n",
              "\n",
              "          const docLinkHtml = 'Like what you see? Visit the ' +\n",
              "            '<a target=\"_blank\" href=https://colab.research.google.com/notebooks/data_table.ipynb>data table notebook</a>'\n",
              "            + ' to learn more about interactive tables.';\n",
              "          element.innerHTML = '';\n",
              "          dataTable['output_type'] = 'display_data';\n",
              "          await google.colab.output.renderOutput(dataTable, element);\n",
              "          const docLink = document.createElement('div');\n",
              "          docLink.innerHTML = docLinkHtml;\n",
              "          element.appendChild(docLink);\n",
              "        }\n",
              "      </script>\n",
              "    </div>\n",
              "  </div>\n",
              "  "
            ],
            "text/plain": [
              "    PI  Advertiser_id offer_name  ... type conversion_status     Date.1\n",
              "0   77              9    Offer_b  ...   CV          approved 2021-08-27\n",
              "1  103              9    Offer_b  ...   CV          approved 2021-08-28\n",
              "2    2              9    Offer_b  ...   CV          approved 2021-08-28\n",
              "3  445              9    Offer_b  ...   CV          approved 2021-08-25\n",
              "4  559              9    Offer_b  ...   CV          approved 2021-08-25\n",
              "5  149              9    Offer_b  ...   CV          approved 2021-08-25\n",
              "6  152              9    Offer_b  ...   CV          approved 2021-08-26\n",
              "7  152              9    Offer_b  ...   CV          approved 2021-08-26\n",
              "\n",
              "[8 rows x 10 columns]"
            ]
          },
          "metadata": {},
          "execution_count": 55
        }
      ]
    },
    {
      "cell_type": "code",
      "source": [
        "# Dataset SHAPE for payout_to_partners\n",
        "payout_to_partners.shape"
      ],
      "metadata": {
        "colab": {
          "base_uri": "https://localhost:8080/"
        },
        "id": "hG0Cf1TbKiuY",
        "outputId": "80afa065-38dd-418c-cc6c-ee9cc9336e12"
      },
      "execution_count": null,
      "outputs": [
        {
          "output_type": "execute_result",
          "data": {
            "text/plain": [
              "(4648, 10)"
            ]
          },
          "metadata": {},
          "execution_count": 56
        }
      ]
    },
    {
      "cell_type": "code",
      "source": [
        "# Since I don't need the columns 'conversion_status' & 'transaction_id' & 'click_date' so I'll delete them from our dataset\n",
        "del payout_to_partners['conversion_status']\n",
        "del payout_to_partners['transaction_id']\n",
        "del payout_to_partners['click_date']"
      ],
      "metadata": {
        "id": "MlwGT2_AKvXQ"
      },
      "execution_count": null,
      "outputs": []
    },
    {
      "cell_type": "code",
      "source": [
        "payout_to_partners.head(2)"
      ],
      "metadata": {
        "colab": {
          "base_uri": "https://localhost:8080/",
          "height": 112
        },
        "id": "6zRaQZqqLsG9",
        "outputId": "fecb5404-2f4a-4896-bad5-4460181a4db5"
      },
      "execution_count": null,
      "outputs": [
        {
          "output_type": "execute_result",
          "data": {
            "text/html": [
              "\n",
              "  <div id=\"df-87d585c1-89f5-474d-9525-d8fc1556f0e0\">\n",
              "    <div class=\"colab-df-container\">\n",
              "      <div>\n",
              "<style scoped>\n",
              "    .dataframe tbody tr th:only-of-type {\n",
              "        vertical-align: middle;\n",
              "    }\n",
              "\n",
              "    .dataframe tbody tr th {\n",
              "        vertical-align: top;\n",
              "    }\n",
              "\n",
              "    .dataframe thead th {\n",
              "        text-align: right;\n",
              "    }\n",
              "</style>\n",
              "<table border=\"1\" class=\"dataframe\">\n",
              "  <thead>\n",
              "    <tr style=\"text-align: right;\">\n",
              "      <th></th>\n",
              "      <th>PI</th>\n",
              "      <th>Advertiser_id</th>\n",
              "      <th>offer_name</th>\n",
              "      <th>country</th>\n",
              "      <th>Payout</th>\n",
              "      <th>type</th>\n",
              "      <th>Date.1</th>\n",
              "    </tr>\n",
              "  </thead>\n",
              "  <tbody>\n",
              "    <tr>\n",
              "      <th>0</th>\n",
              "      <td>77</td>\n",
              "      <td>9</td>\n",
              "      <td>Offer_b</td>\n",
              "      <td>Italy</td>\n",
              "      <td>1.65</td>\n",
              "      <td>CV</td>\n",
              "      <td>2021-08-27</td>\n",
              "    </tr>\n",
              "    <tr>\n",
              "      <th>1</th>\n",
              "      <td>103</td>\n",
              "      <td>9</td>\n",
              "      <td>Offer_b</td>\n",
              "      <td>Spain</td>\n",
              "      <td>0.55</td>\n",
              "      <td>CV</td>\n",
              "      <td>2021-08-28</td>\n",
              "    </tr>\n",
              "  </tbody>\n",
              "</table>\n",
              "</div>\n",
              "      <button class=\"colab-df-convert\" onclick=\"convertToInteractive('df-87d585c1-89f5-474d-9525-d8fc1556f0e0')\"\n",
              "              title=\"Convert this dataframe to an interactive table.\"\n",
              "              style=\"display:none;\">\n",
              "        \n",
              "  <svg xmlns=\"http://www.w3.org/2000/svg\" height=\"24px\"viewBox=\"0 0 24 24\"\n",
              "       width=\"24px\">\n",
              "    <path d=\"M0 0h24v24H0V0z\" fill=\"none\"/>\n",
              "    <path d=\"M18.56 5.44l.94 2.06.94-2.06 2.06-.94-2.06-.94-.94-2.06-.94 2.06-2.06.94zm-11 1L8.5 8.5l.94-2.06 2.06-.94-2.06-.94L8.5 2.5l-.94 2.06-2.06.94zm10 10l.94 2.06.94-2.06 2.06-.94-2.06-.94-.94-2.06-.94 2.06-2.06.94z\"/><path d=\"M17.41 7.96l-1.37-1.37c-.4-.4-.92-.59-1.43-.59-.52 0-1.04.2-1.43.59L10.3 9.45l-7.72 7.72c-.78.78-.78 2.05 0 2.83L4 21.41c.39.39.9.59 1.41.59.51 0 1.02-.2 1.41-.59l7.78-7.78 2.81-2.81c.8-.78.8-2.07 0-2.86zM5.41 20L4 18.59l7.72-7.72 1.47 1.35L5.41 20z\"/>\n",
              "  </svg>\n",
              "      </button>\n",
              "      \n",
              "  <style>\n",
              "    .colab-df-container {\n",
              "      display:flex;\n",
              "      flex-wrap:wrap;\n",
              "      gap: 12px;\n",
              "    }\n",
              "\n",
              "    .colab-df-convert {\n",
              "      background-color: #E8F0FE;\n",
              "      border: none;\n",
              "      border-radius: 50%;\n",
              "      cursor: pointer;\n",
              "      display: none;\n",
              "      fill: #1967D2;\n",
              "      height: 32px;\n",
              "      padding: 0 0 0 0;\n",
              "      width: 32px;\n",
              "    }\n",
              "\n",
              "    .colab-df-convert:hover {\n",
              "      background-color: #E2EBFA;\n",
              "      box-shadow: 0px 1px 2px rgba(60, 64, 67, 0.3), 0px 1px 3px 1px rgba(60, 64, 67, 0.15);\n",
              "      fill: #174EA6;\n",
              "    }\n",
              "\n",
              "    [theme=dark] .colab-df-convert {\n",
              "      background-color: #3B4455;\n",
              "      fill: #D2E3FC;\n",
              "    }\n",
              "\n",
              "    [theme=dark] .colab-df-convert:hover {\n",
              "      background-color: #434B5C;\n",
              "      box-shadow: 0px 1px 3px 1px rgba(0, 0, 0, 0.15);\n",
              "      filter: drop-shadow(0px 1px 2px rgba(0, 0, 0, 0.3));\n",
              "      fill: #FFFFFF;\n",
              "    }\n",
              "  </style>\n",
              "\n",
              "      <script>\n",
              "        const buttonEl =\n",
              "          document.querySelector('#df-87d585c1-89f5-474d-9525-d8fc1556f0e0 button.colab-df-convert');\n",
              "        buttonEl.style.display =\n",
              "          google.colab.kernel.accessAllowed ? 'block' : 'none';\n",
              "\n",
              "        async function convertToInteractive(key) {\n",
              "          const element = document.querySelector('#df-87d585c1-89f5-474d-9525-d8fc1556f0e0');\n",
              "          const dataTable =\n",
              "            await google.colab.kernel.invokeFunction('convertToInteractive',\n",
              "                                                     [key], {});\n",
              "          if (!dataTable) return;\n",
              "\n",
              "          const docLinkHtml = 'Like what you see? Visit the ' +\n",
              "            '<a target=\"_blank\" href=https://colab.research.google.com/notebooks/data_table.ipynb>data table notebook</a>'\n",
              "            + ' to learn more about interactive tables.';\n",
              "          element.innerHTML = '';\n",
              "          dataTable['output_type'] = 'display_data';\n",
              "          await google.colab.output.renderOutput(dataTable, element);\n",
              "          const docLink = document.createElement('div');\n",
              "          docLink.innerHTML = docLinkHtml;\n",
              "          element.appendChild(docLink);\n",
              "        }\n",
              "      </script>\n",
              "    </div>\n",
              "  </div>\n",
              "  "
            ],
            "text/plain": [
              "    PI  Advertiser_id offer_name country  Payout type     Date.1\n",
              "0   77              9    Offer_b   Italy    1.65   CV 2021-08-27\n",
              "1  103              9    Offer_b   Spain    0.55   CV 2021-08-28"
            ]
          },
          "metadata": {},
          "execution_count": 61
        }
      ]
    },
    {
      "cell_type": "code",
      "source": [
        " Products=payout_to_partners.groupby('country')['Payout'].sum().index\n",
        "Quantity=payout_to_partners.groupby('country')['Payout'].sum()\n",
        "Prices=payout_to_partners.groupby('country')['PI'].mean()\n",
        "plt.figure(figsize=(40,24))\n",
        "fig,ax1=plt.subplots()\n",
        "ax2=ax1.twinx()\n",
        "ax1.bar(Products,Quantity, color='g')\n",
        "ax2.plot(Products,Prices,'b-')\n",
        "ax1.set_xticklabels(Products,rotation='vertical',size=8)"
      ],
      "metadata": {
        "colab": {
          "base_uri": "https://localhost:8080/",
          "height": 600
        },
        "id": "4sljYimkMgxS",
        "outputId": "a8a47ec0-2877-42e0-8ab0-8a3b6e8ad241"
      },
      "execution_count": null,
      "outputs": [
        {
          "output_type": "execute_result",
          "data": {
            "text/plain": [
              "[Text(0, 0, 'Australia'),\n",
              " Text(0, 0, 'Austria'),\n",
              " Text(0, 0, 'Belgium'),\n",
              " Text(0, 0, 'Canada'),\n",
              " Text(0, 0, 'France'),\n",
              " Text(0, 0, 'Germany'),\n",
              " Text(0, 0, 'Ireland'),\n",
              " Text(0, 0, 'Italy'),\n",
              " Text(0, 0, 'Netherlands'),\n",
              " Text(0, 0, 'New Zealand'),\n",
              " Text(0, 0, 'Spain'),\n",
              " Text(0, 0, 'Switzerland'),\n",
              " Text(0, 0, 'United Kingdom'),\n",
              " Text(0, 0, 'United States')]"
            ]
          },
          "metadata": {},
          "execution_count": 63
        },
        {
          "output_type": "display_data",
          "data": {
            "text/plain": [
              "<Figure size 2880x1728 with 0 Axes>"
            ]
          },
          "metadata": {}
        },
        {
          "output_type": "display_data",
          "data": {
            "image/png": "[encoded data removed]",
            "text/plain": [
              "<Figure size 432x288 with 2 Axes>"
            ]
          },
          "metadata": {
            "needs_background": "light"
          }
        }
      ]
    },
    {
      "cell_type": "code",
      "source": [
        "payout_to_partners.dtypes\n",
        "\n",
        "payout_to_partners['Payout']=payout_to_partners['Payout'].astype(float)\n"
      ],
      "metadata": {
        "id": "_CWzF3kjN8Zo"
      },
      "execution_count": null,
      "outputs": []
    },
    {
      "cell_type": "markdown",
      "source": [
        "**In this section we'll compare the numbers of offers by categories between the dataset Advertiser_revenue and payout_to_partners.**\n",
        "\n",
        "**Remark: the shape of our dataset Advertiser_revenue   (23949 rows) in comparison to the dataset payout_to_partners (4648 rows) which can effect the result (comparison)**"
      ],
      "metadata": {
        "id": "DzirLiMOP33c"
      }
    },
    {
      "cell_type": "code",
      "source": [
        "payout_to_partners['offer_name'].value_counts()"
      ],
      "metadata": {
        "colab": {
          "base_uri": "https://localhost:8080/"
        },
        "id": "UhqDxn3OPTEs",
        "outputId": "ccefd9d1-4c3c-4186-a75b-4c3d41c43991"
      },
      "execution_count": null,
      "outputs": [
        {
          "output_type": "execute_result",
          "data": {
            "text/plain": [
              "Offer_b     1050\n",
              "Offer_o      775\n",
              "Offer_c      767\n",
              "Offer_f      761\n",
              "Offer_a1     340\n",
              "Offer_b1     280\n",
              "Offer_z      253\n",
              "Offer_c1     118\n",
              "Offer_h       78\n",
              "Offer_k       74\n",
              "Offer_a       64\n",
              "Offer_p       29\n",
              "Offer_y       23\n",
              "Offer_g       14\n",
              "Offer_t       12\n",
              "Offer_x       10\n",
              "Name: offer_name, dtype: int64"
            ]
          },
          "metadata": {},
          "execution_count": 70
        }
      ]
    },
    {
      "cell_type": "code",
      "source": [
        "Advertiser_revenue['Offer'].value_counts()"
      ],
      "metadata": {
        "colab": {
          "base_uri": "https://localhost:8080/"
        },
        "id": "_HYazcDSPhcx",
        "outputId": "7f0eb462-5fb0-4d55-b2f3-77846b516f3f"
      },
      "execution_count": null,
      "outputs": [
        {
          "output_type": "execute_result",
          "data": {
            "text/plain": [
              "Offer_a1    7631\n",
              "Offer_c     3680\n",
              "Offer_o     2979\n",
              "Offer_b     2684\n",
              "Offer_f     2415\n",
              "Offer_z      832\n",
              "Offer_a      801\n",
              "Offer_c1     780\n",
              "Offer_k      729\n",
              "Offer_b1     606\n",
              "Offer_y      263\n",
              "Offer_h      257\n",
              "Offer_p      173\n",
              "Offer_x       90\n",
              "Offer_g       14\n",
              "Offer_t       12\n",
              "0              2\n",
              "Offer_l        1\n",
              "Name: Offer, dtype: int64"
            ]
          },
          "metadata": {},
          "execution_count": 71
        }
      ]
    },
    {
      "cell_type": "markdown",
      "source": [
        "In this section we'll calculate the margin  *benifits*  from 25.08 to 28.08"
      ],
      "metadata": {
        "id": "x4GZPSrbV6GC"
      }
    },
    {
      "cell_type": "code",
      "source": [
        "TOTAL_REVENUE_Advertiser = sum(Advertiser_revenue.payout)\n",
        "print(f\"The Total revenue_Advertiser is: {TOTAL_REVENUE_Advertiser} EURO\")\n",
        "\n",
        "ROTAL_PAYOUT_to_partners = sum(payout_to_partners.Payout)\n",
        "print(f\"The Total PAYOUT_to_partners is: {ROTAL_PAYOUT_to_partners} EURO\")\n",
        "\n",
        "print (f\"The Margine is:{19826.84 - 15074.41} EURO\")\n"
      ],
      "metadata": {
        "colab": {
          "base_uri": "https://localhost:8080/"
        },
        "id": "qlLHqHO2R6KU",
        "outputId": "58ef6a0c-af1e-40d5-b73b-4b2edbc3ef2c"
      },
      "execution_count": null,
      "outputs": [
        {
          "output_type": "stream",
          "name": "stdout",
          "text": [
            "The Total revenue_Advertiser is: 19826.840000001277 EURO\n",
            "The Total PAYOUT_to_partners is: 15074.409999999758 EURO\n",
            "The Margine is:4752.43 EURO\n"
          ]
        }
      ]
    },
    {
      "cell_type": "markdown",
      "source": [
        "Let's take a look about the devices that were used for opening the Ad (Traffic) "
      ],
      "metadata": {
        "id": "wF6K62RQZanQ"
      }
    },
    {
      "cell_type": "code",
      "source": [
        "colors = ['gold', 'yellowgreen', 'lightcoral', 'lightskyblue', 'red','white','purple']\n",
        "df.groupby(['device'])['payout'].mean().plot.pie(autopct='%0.f%%',colors = colors)"
      ],
      "metadata": {
        "colab": {
          "base_uri": "https://localhost:8080/",
          "height": 267
        },
        "id": "nx5pRDpRY3VO",
        "outputId": "b9d2ee77-94aa-429c-fb65-7afe9813c2c9"
      },
      "execution_count": null,
      "outputs": [
        {
          "output_type": "execute_result",
          "data": {
            "text/plain": [
              "<matplotlib.axes._subplots.AxesSubplot at 0x7f399a3ed550>"
            ]
          },
          "metadata": {},
          "execution_count": 99
        },
        {
          "output_type": "display_data",
          "data": {
            "image/png": "[encoded data removed]",
            "text/plain": [
              "<Figure size 432x288 with 1 Axes>"
            ]
          },
          "metadata": {}
        }
      ]
    },
    {
      "cell_type": "markdown",
      "source": [
        "Mobile devices are used *4%*  more than Desktop."
      ],
      "metadata": {
        "id": "yDghaOw1Z7Sq"
      }
    }
  ],
  "metadata": {
    "colab": {
      "collapsed_sections": [],
      "name": "Copie de Bienvenue dans Colaboratory",
      "provenance": [],
      "include_colab_link": true
    },
    "kernelspec": {
      "display_name": "Python 3",
      "name": "python3"
    }
  },
  "nbformat": 4,
  "nbformat_minor": 0
}